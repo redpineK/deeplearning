{
  "cells": [
    {
      "cell_type": "markdown",
      "metadata": {
        "id": "P0I8HGxUw97B"
      },
      "source": [
        "# 20장 전이 학습을 통해 딥러닝의 성능 극대화하기"
      ]
    },
    {
      "cell_type": "markdown",
      "metadata": {
        "id": "J-dqKaIPw97E"
      },
      "source": [
        "## 1. 소규모 데이터셋으로 만드는 강력한 학습 모델"
      ]
    },
    {
      "cell_type": "markdown",
      "metadata": {
        "id": "HSlfKpYlw97F"
      },
      "source": [
        "### 실습: 치매 환자의 뇌인지 일반인의 뇌인지 예측하기"
      ]
    },
    {
      "cell_type": "code",
      "execution_count": 1,
      "metadata": {
        "id": "xP-yRE_nw97F",
        "outputId": "b2e71529-4cab-43bb-c7b1-5862571201e8",
        "scrolled": true,
        "colab": {
          "base_uri": "https://localhost:8080/"
        }
      },
      "outputs": [
        {
          "output_type": "stream",
          "name": "stdout",
          "text": [
            "Cloning into 'data-ch20'...\n",
            "remote: Enumerating objects: 265, done.\u001b[K\n",
            "remote: Counting objects: 100% (265/265), done.\u001b[K\n",
            "remote: Compressing objects: 100% (265/265), done.\u001b[K\n",
            "remote: Total 265 (delta 0), reused 265 (delta 0), pack-reused 0\u001b[K\n",
            "Receiving objects: 100% (265/265), 1.86 MiB | 38.13 MiB/s, done.\n",
            "Found 160 images belonging to 2 classes.\n",
            "Found 120 images belonging to 2 classes.\n",
            "Model: \"sequential\"\n",
            "_________________________________________________________________\n",
            " Layer (type)                Output Shape              Param #   \n",
            "=================================================================\n",
            " conv2d (Conv2D)             (None, 148, 148, 32)      896       \n",
            "                                                                 \n",
            " activation (Activation)     (None, 148, 148, 32)      0         \n",
            "                                                                 \n",
            " max_pooling2d (MaxPooling2D  (None, 74, 74, 32)       0         \n",
            " )                                                               \n",
            "                                                                 \n",
            " conv2d_1 (Conv2D)           (None, 72, 72, 32)        9248      \n",
            "                                                                 \n",
            " activation_1 (Activation)   (None, 72, 72, 32)        0         \n",
            "                                                                 \n",
            " max_pooling2d_1 (MaxPooling  (None, 36, 36, 32)       0         \n",
            " 2D)                                                             \n",
            "                                                                 \n",
            " conv2d_2 (Conv2D)           (None, 34, 34, 64)        18496     \n",
            "                                                                 \n",
            " activation_2 (Activation)   (None, 34, 34, 64)        0         \n",
            "                                                                 \n",
            " max_pooling2d_2 (MaxPooling  (None, 17, 17, 64)       0         \n",
            " 2D)                                                             \n",
            "                                                                 \n",
            " flatten (Flatten)           (None, 18496)             0         \n",
            "                                                                 \n",
            " dense (Dense)               (None, 64)                1183808   \n",
            "                                                                 \n",
            " activation_3 (Activation)   (None, 64)                0         \n",
            "                                                                 \n",
            " dropout (Dropout)           (None, 64)                0         \n",
            "                                                                 \n",
            " dense_1 (Dense)             (None, 1)                 65        \n",
            "                                                                 \n",
            " activation_4 (Activation)   (None, 1)                 0         \n",
            "                                                                 \n",
            "=================================================================\n",
            "Total params: 1,212,513\n",
            "Trainable params: 1,212,513\n",
            "Non-trainable params: 0\n",
            "_________________________________________________________________\n"
          ]
        }
      ],
      "source": [
        "from tensorflow.keras.models import Sequential\n",
        "from tensorflow.keras.layers import Dense, Activation, Dropout, Flatten, Conv2D, MaxPooling2D\n",
        "from tensorflow.keras.preprocessing.image import ImageDataGenerator\n",
        "from tensorflow.keras.callbacks import EarlyStopping\n",
        "from tensorflow.keras import optimizers\n",
        "\n",
        "import numpy as np\n",
        "import matplotlib.pyplot as plt\n",
        "\n",
        "# 깃허브에 준비된 데이터를 가져옵니다.\n",
        "!git clone https://github.com/taehojo/data-ch20.git\n",
        "\n",
        "# 학습셋의 변형을 설정하는 부분입니다. \n",
        "train_datagen = ImageDataGenerator(rescale=1./255,          # 주어진 이미지의 크기를 설정합니다.\n",
        "                                  horizontal_flip=True,     # 수평 대칭 이미지를 50% 확률로 만들어 추가합니다.\n",
        "                                  width_shift_range=0.1,    # 전체 크기의 15% 범위에서 좌우로 이동합니다.\n",
        "                                  height_shift_range=0.1,   # 마찬가지로 위, 아래로 이동합니다.\n",
        "                                  #rotation_range=5,        # 정해진 각도만큼 회전시킵니다.\n",
        "                                  #shear_range=0.7,         # 좌표 하나를 고정시키고 나머지를 이동시킵니다.\n",
        "                                  #zoom_range=1.2,          # 확대 또는 축소시킵니다.\n",
        "                                  #vertical_flip=True,      # 수직 대칭 이미지를 만듭니다.\n",
        "                                  #fill_mode='nearest'      # 빈 공간을 채우는 방법입니다. nearest 옵션은 가장 비슷한 색으로 채우게 됩니다.\n",
        "                                  )      \n",
        "\n",
        "train_generator = train_datagen.flow_from_directory(\n",
        "       './data-ch20/train',   # 학습셋이 있는 폴더의 위치입니다.\n",
        "       target_size=(150, 150),\n",
        "       batch_size=5,\n",
        "       class_mode='binary')\n",
        "\n",
        "# 테스트셋은 이미지 부풀리기 과정을 진행하지 않습니다.\n",
        "test_datagen = ImageDataGenerator(rescale=1./255)  \n",
        "\n",
        "test_generator = test_datagen.flow_from_directory(\n",
        "       './data-ch20/test',   # 테스트셋이 있는 폴더의 위치입니다.\n",
        "       target_size=(150, 150),\n",
        "       batch_size=5,\n",
        "       class_mode='binary')\n",
        "\n",
        "\n",
        "# 앞서 배운 CNN 모델을 만들어 적용해 보겠습니다.\n",
        "model = Sequential()\n",
        "model.add(Conv2D(32, (3, 3), input_shape=(150,150,3)))\n",
        "model.add(Activation('relu'))\n",
        "model.add(MaxPooling2D(pool_size=(2, 2)))\n",
        "\n",
        "model.add(Conv2D(32, (3, 3)))\n",
        "model.add(Activation('relu'))\n",
        "model.add(MaxPooling2D(pool_size=(2, 2)))\n",
        "\n",
        "model.add(Conv2D(64, (3, 3)))\n",
        "model.add(Activation('relu'))\n",
        "model.add(MaxPooling2D(pool_size=(2, 2)))\n",
        "\n",
        "model.add(Flatten())\n",
        "model.add(Dense(64))\n",
        "model.add(Activation('relu'))\n",
        "model.add(Dropout(0.5))\n",
        "model.add(Dense(1))\n",
        "model.add(Activation('sigmoid'))\n",
        "model.summary()"
      ]
    },
    {
      "cell_type": "code",
      "execution_count": 2,
      "metadata": {
        "id": "zK54RC2Fw97I",
        "outputId": "14f02fe0-3380-4392-be2c-e130e4b40aa6",
        "scrolled": true,
        "colab": {
          "base_uri": "https://localhost:8080/"
        }
      },
      "outputs": [
        {
          "output_type": "stream",
          "name": "stdout",
          "text": [
            "Epoch 1/100\n",
            "32/32 [==============================] - 10s 40ms/step - loss: 0.7045 - accuracy: 0.4812 - val_loss: 0.6876 - val_accuracy: 0.5400\n",
            "Epoch 2/100\n",
            "32/32 [==============================] - 1s 35ms/step - loss: 0.6903 - accuracy: 0.5312 - val_loss: 0.6892 - val_accuracy: 0.5000\n",
            "Epoch 3/100\n",
            "32/32 [==============================] - 1s 35ms/step - loss: 0.6927 - accuracy: 0.5000 - val_loss: 0.6810 - val_accuracy: 0.5800\n",
            "Epoch 4/100\n",
            "32/32 [==============================] - 1s 32ms/step - loss: 0.6900 - accuracy: 0.5813 - val_loss: 0.6781 - val_accuracy: 0.7600\n",
            "Epoch 5/100\n",
            "32/32 [==============================] - 1s 32ms/step - loss: 0.6857 - accuracy: 0.5437 - val_loss: 0.6739 - val_accuracy: 0.7400\n",
            "Epoch 6/100\n",
            "32/32 [==============================] - 1s 33ms/step - loss: 0.6828 - accuracy: 0.5688 - val_loss: 0.6634 - val_accuracy: 0.6800\n",
            "Epoch 7/100\n",
            "32/32 [==============================] - 1s 32ms/step - loss: 0.6567 - accuracy: 0.6250 - val_loss: 0.6323 - val_accuracy: 0.6800\n",
            "Epoch 8/100\n",
            "32/32 [==============================] - 1s 32ms/step - loss: 0.6192 - accuracy: 0.7125 - val_loss: 0.5621 - val_accuracy: 0.7600\n",
            "Epoch 9/100\n",
            "32/32 [==============================] - 1s 32ms/step - loss: 0.5752 - accuracy: 0.7563 - val_loss: 0.5906 - val_accuracy: 0.6800\n",
            "Epoch 10/100\n",
            "32/32 [==============================] - 1s 31ms/step - loss: 0.5776 - accuracy: 0.7000 - val_loss: 0.4984 - val_accuracy: 0.7800\n",
            "Epoch 11/100\n",
            "32/32 [==============================] - 1s 31ms/step - loss: 0.5152 - accuracy: 0.7437 - val_loss: 0.4707 - val_accuracy: 0.8000\n",
            "Epoch 12/100\n",
            "32/32 [==============================] - 1s 35ms/step - loss: 0.5642 - accuracy: 0.7188 - val_loss: 0.4323 - val_accuracy: 0.8800\n",
            "Epoch 13/100\n",
            "32/32 [==============================] - 1s 31ms/step - loss: 0.4587 - accuracy: 0.8125 - val_loss: 0.3390 - val_accuracy: 0.8800\n",
            "Epoch 14/100\n",
            "32/32 [==============================] - 1s 32ms/step - loss: 0.3947 - accuracy: 0.8813 - val_loss: 0.3679 - val_accuracy: 0.8400\n",
            "Epoch 15/100\n",
            "32/32 [==============================] - 1s 32ms/step - loss: 0.3312 - accuracy: 0.8750 - val_loss: 0.3094 - val_accuracy: 0.9000\n",
            "Epoch 16/100\n",
            "32/32 [==============================] - 1s 32ms/step - loss: 0.3257 - accuracy: 0.9250 - val_loss: 0.1750 - val_accuracy: 0.9600\n",
            "Epoch 17/100\n",
            "32/32 [==============================] - 1s 32ms/step - loss: 0.2541 - accuracy: 0.9125 - val_loss: 0.1872 - val_accuracy: 0.9400\n",
            "Epoch 18/100\n",
            "32/32 [==============================] - 1s 33ms/step - loss: 0.3038 - accuracy: 0.8625 - val_loss: 0.1555 - val_accuracy: 0.9800\n",
            "Epoch 19/100\n",
            "32/32 [==============================] - 1s 33ms/step - loss: 0.2037 - accuracy: 0.9563 - val_loss: 0.1418 - val_accuracy: 0.9600\n",
            "Epoch 20/100\n",
            "32/32 [==============================] - 1s 34ms/step - loss: 0.2522 - accuracy: 0.9000 - val_loss: 0.0878 - val_accuracy: 0.9800\n",
            "Epoch 21/100\n",
            "32/32 [==============================] - 1s 33ms/step - loss: 0.1774 - accuracy: 0.9625 - val_loss: 0.0763 - val_accuracy: 0.9800\n",
            "Epoch 22/100\n",
            "32/32 [==============================] - 1s 32ms/step - loss: 0.1980 - accuracy: 0.9312 - val_loss: 0.1116 - val_accuracy: 0.9600\n",
            "Epoch 23/100\n",
            "32/32 [==============================] - 1s 31ms/step - loss: 0.1807 - accuracy: 0.9312 - val_loss: 0.0805 - val_accuracy: 0.9800\n",
            "Epoch 24/100\n",
            "32/32 [==============================] - 1s 33ms/step - loss: 0.1492 - accuracy: 0.9563 - val_loss: 0.0871 - val_accuracy: 0.9600\n",
            "Epoch 25/100\n",
            "32/32 [==============================] - 1s 32ms/step - loss: 0.1471 - accuracy: 0.9500 - val_loss: 0.0872 - val_accuracy: 0.9600\n",
            "Epoch 26/100\n",
            "32/32 [==============================] - 1s 32ms/step - loss: 0.1309 - accuracy: 0.9563 - val_loss: 0.0809 - val_accuracy: 0.9800\n"
          ]
        }
      ],
      "source": [
        "# 모델 실행의 옵션을 설정합니다. \n",
        "model.compile(loss='binary_crossentropy', optimizer=optimizers.Adam(learning_rate=0.0002), metrics=['accuracy'])\n",
        "\n",
        "# 학습의 조기 중단을 설정합니다.\n",
        "early_stopping_callback = EarlyStopping(monitor='val_loss', patience=5)\n",
        "\n",
        "# 모델을 실행합니다\n",
        "history = model.fit(\n",
        "       train_generator,\n",
        "       epochs=100,\n",
        "       validation_data=test_generator,\n",
        "       validation_steps=10, \n",
        "       callbacks=[early_stopping_callback])"
      ]
    },
    {
      "cell_type": "code",
      "execution_count": 3,
      "metadata": {
        "id": "4-J_QCbXw97I",
        "outputId": "54dedba9-a608-4277-fe2b-cea6ae1007d1",
        "colab": {
          "base_uri": "https://localhost:8080/",
          "height": 279
        }
      },
      "outputs": [
        {
          "output_type": "display_data",
          "data": {
            "text/plain": [
              "<Figure size 432x288 with 1 Axes>"
            ],
            "image/png": "[encoded data removed]"
          },
          "metadata": {
            "needs_background": "light"
          }
        }
      ],
      "source": [
        "# 검증셋과 학습셋의 오차를 저장합니다.\n",
        "y_vloss = history.history['val_loss']\n",
        "y_loss = history.history['loss']\n",
        "\n",
        "# 그래프로 표현해 봅니다.\n",
        "x_len = np.arange(len(y_loss))\n",
        "plt.plot(x_len, y_vloss, marker='.', c=\"red\", label='Testset_loss')\n",
        "plt.plot(x_len, y_loss, marker='.', c=\"blue\", label='Trainset_loss')\n",
        "\n",
        "# 그래프에 그리드를 주고 레이블을 표시하겠습니다.\n",
        "plt.legend(loc='upper right')\n",
        "plt.grid()\n",
        "plt.xlabel('epoch')\n",
        "plt.ylabel('loss')\n",
        "plt.show()"
      ]
    },
    {
      "cell_type": "markdown",
      "metadata": {
        "id": "PyEFjTCww97J"
      },
      "source": [
        "## 2. 전이 학습으로 모델 성능 극대화하기"
      ]
    },
    {
      "cell_type": "markdown",
      "metadata": {
        "id": "Q0AiZr6nw97J"
      },
      "source": [
        "### 실습: 전이 학습 실습하기"
      ]
    },
    {
      "cell_type": "code",
      "execution_count": null,
      "metadata": {
        "id": "qKZwSZv8w97K",
        "outputId": "20ba6aa9-ae7b-4db7-ad02-ea8952ae0418"
      },
      "outputs": [
        {
          "name": "stdout",
          "output_type": "stream",
          "text": [
            "Found 160 images belonging to 2 classes.\n",
            "Found 120 images belonging to 2 classes.\n",
            "Downloading data from https://storage.googleapis.com/tensorflow/keras-applications/vgg16/vgg16_weights_tf_dim_ordering_tf_kernels_notop.h5\n",
            "58892288/58889256 [==============================] - 5s 0us/step\n",
            "58900480/58889256 [==============================] - 5s 0us/step\n",
            "Model: \"vgg16\"\n",
            "_________________________________________________________________\n",
            "Layer (type)                 Output Shape              Param #   \n",
            "=================================================================\n",
            "input_1 (InputLayer)         [(None, 150, 150, 3)]     0         \n",
            "_________________________________________________________________\n",
            "block1_conv1 (Conv2D)        (None, 150, 150, 64)      1792      \n",
            "_________________________________________________________________\n",
            "block1_conv2 (Conv2D)        (None, 150, 150, 64)      36928     \n",
            "_________________________________________________________________\n",
            "block1_pool (MaxPooling2D)   (None, 75, 75, 64)        0         \n",
            "_________________________________________________________________\n",
            "block2_conv1 (Conv2D)        (None, 75, 75, 128)       73856     \n",
            "_________________________________________________________________\n",
            "block2_conv2 (Conv2D)        (None, 75, 75, 128)       147584    \n",
            "_________________________________________________________________\n",
            "block2_pool (MaxPooling2D)   (None, 37, 37, 128)       0         \n",
            "_________________________________________________________________\n",
            "block3_conv1 (Conv2D)        (None, 37, 37, 256)       295168    \n",
            "_________________________________________________________________\n",
            "block3_conv2 (Conv2D)        (None, 37, 37, 256)       590080    \n",
            "_________________________________________________________________\n",
            "block3_conv3 (Conv2D)        (None, 37, 37, 256)       590080    \n",
            "_________________________________________________________________\n",
            "block3_pool (MaxPooling2D)   (None, 18, 18, 256)       0         \n",
            "_________________________________________________________________\n",
            "block4_conv1 (Conv2D)        (None, 18, 18, 512)       1180160   \n",
            "_________________________________________________________________\n",
            "block4_conv2 (Conv2D)        (None, 18, 18, 512)       2359808   \n",
            "_________________________________________________________________\n",
            "block4_conv3 (Conv2D)        (None, 18, 18, 512)       2359808   \n",
            "_________________________________________________________________\n",
            "block4_pool (MaxPooling2D)   (None, 9, 9, 512)         0         \n",
            "_________________________________________________________________\n",
            "block5_conv1 (Conv2D)        (None, 9, 9, 512)         2359808   \n",
            "_________________________________________________________________\n",
            "block5_conv2 (Conv2D)        (None, 9, 9, 512)         2359808   \n",
            "_________________________________________________________________\n",
            "block5_conv3 (Conv2D)        (None, 9, 9, 512)         2359808   \n",
            "_________________________________________________________________\n",
            "block5_pool (MaxPooling2D)   (None, 4, 4, 512)         0         \n",
            "=================================================================\n",
            "Total params: 14,714,688\n",
            "Trainable params: 0\n",
            "Non-trainable params: 14,714,688\n",
            "_________________________________________________________________\n",
            "Model: \"sequential_1\"\n",
            "_________________________________________________________________\n",
            "Layer (type)                 Output Shape              Param #   \n",
            "=================================================================\n",
            "vgg16 (Functional)           (None, 4, 4, 512)         14714688  \n",
            "_________________________________________________________________\n",
            "flatten_1 (Flatten)          (None, 8192)              0         \n",
            "_________________________________________________________________\n",
            "dense_2 (Dense)              (None, 64)                524352    \n",
            "_________________________________________________________________\n",
            "activation_5 (Activation)    (None, 64)                0         \n",
            "_________________________________________________________________\n",
            "dropout_1 (Dropout)          (None, 64)                0         \n",
            "_________________________________________________________________\n",
            "dense_3 (Dense)              (None, 1)                 65        \n",
            "_________________________________________________________________\n",
            "activation_6 (Activation)    (None, 1)                 0         \n",
            "=================================================================\n",
            "Total params: 15,239,105\n",
            "Trainable params: 524,417\n",
            "Non-trainable params: 14,714,688\n",
            "_________________________________________________________________\n"
          ]
        }
      ],
      "source": [
        "from tensorflow.keras.preprocessing.image import ImageDataGenerator\n",
        "from tensorflow.keras import Input, models, layers, optimizers, metrics\n",
        "from tensorflow.keras.layers import Dense, Flatten, Activation, Dropout\n",
        "from tensorflow.keras.applications import VGG16\n",
        "from tensorflow.keras.callbacks import EarlyStopping\n",
        "import numpy as np\n",
        "import matplotlib.pyplot as plt\n",
        "\n",
        "# 학습셋의 변형을 설정하는 부분입니다. \n",
        "train_datagen = ImageDataGenerator(rescale=1./255,          # 주어진 이미지의 크기를 설정합니다.\n",
        "                                  horizontal_flip=True,     # 수평 대칭 이미지를 50% 확률로 만들어 추가합니다.\n",
        "                                  width_shift_range=0.1,    # 전체 크기의 15% 범위에서 좌우로 이동합니다.\n",
        "                                  height_shift_range=0.1,   # 마찬가지로 위, 아래로 이동합니다.\n",
        "                                  #rotation_range=5,        # 정해진 각도만큼 회전시킵니다.\n",
        "                                  #shear_range=0.7,         # 좌표 하나를 고정시키고 나머지를 이동시킵니다.\n",
        "                                  #zoom_range=1.2,          # 확대 또는 축소시킵니다.\n",
        "                                  #vertical_flip=True,      # 수직 대칭 이미지를 만듭니다.\n",
        "                                  #fill_mode='nearest'      # 빈 공간을 채우는 방법입니다. nearest 옵션은 가장 비슷한 색으로 채우게 됩니다.\n",
        "                                  )      \n",
        "\n",
        "\n",
        "train_generator = train_datagen.flow_from_directory(\n",
        "       './data-ch20/train',\n",
        "       target_size=(150, 150),\n",
        "       batch_size=5,\n",
        "       class_mode='binary')\n",
        "\n",
        "# 테스트셋의 정규화를 설정합니다.\n",
        "test_datagen = ImageDataGenerator(rescale=1./255)\n",
        "\n",
        "test_generator = test_datagen.flow_from_directory(\n",
        "       './data-ch20/test',\n",
        "       target_size=(150, 150),\n",
        "       batch_size=5,\n",
        "       class_mode='binary')\n",
        "\n",
        "# VGG16 모델을 불러옵니다.\n",
        "transfer_model = VGG16(weights='imagenet', include_top=False, input_shape=(150, 150, 3))\n",
        "transfer_model.trainable = False\n",
        "transfer_model.summary()\n",
        "\n",
        "# 우리의 모델을 설정합니다.\n",
        "finetune_model = models.Sequential()\n",
        "finetune_model.add(transfer_model)\n",
        "finetune_model.add(Flatten())\n",
        "finetune_model.add(Dense(64))\n",
        "finetune_model.add(Activation('relu'))\n",
        "finetune_model.add(Dropout(0.5))\n",
        "finetune_model.add(Dense(1))\n",
        "finetune_model.add(Activation('sigmoid'))\n",
        "finetune_model.summary()"
      ]
    },
    {
      "cell_type": "code",
      "execution_count": null,
      "metadata": {
        "id": "_jYrHsjLw97L",
        "outputId": "fda5fdd2-df1e-4243-bb7f-22958ac00d52"
      },
      "outputs": [
        {
          "name": "stdout",
          "output_type": "stream",
          "text": [
            "Epoch 1/20\n",
            "32/32 [==============================] - 7s 217ms/step - loss: 0.7590 - accuracy: 0.5688 - val_loss: 0.5409 - val_accuracy: 0.7800\n",
            "Epoch 2/20\n",
            "32/32 [==============================] - 7s 224ms/step - loss: 0.5509 - accuracy: 0.7125 - val_loss: 0.5420 - val_accuracy: 0.7600\n",
            "Epoch 3/20\n",
            "32/32 [==============================] - 7s 208ms/step - loss: 0.4324 - accuracy: 0.8188 - val_loss: 0.4058 - val_accuracy: 0.8200\n",
            "Epoch 4/20\n",
            "32/32 [==============================] - 7s 217ms/step - loss: 0.4192 - accuracy: 0.8313 - val_loss: 0.3407 - val_accuracy: 0.9200\n",
            "Epoch 5/20\n",
            "32/32 [==============================] - 7s 208ms/step - loss: 0.3139 - accuracy: 0.8813 - val_loss: 0.2570 - val_accuracy: 0.9600\n",
            "Epoch 6/20\n",
            "32/32 [==============================] - 7s 220ms/step - loss: 0.2795 - accuracy: 0.9125 - val_loss: 0.2508 - val_accuracy: 0.9200\n",
            "Epoch 7/20\n",
            "32/32 [==============================] - 7s 228ms/step - loss: 0.2519 - accuracy: 0.9125 - val_loss: 0.3089 - val_accuracy: 0.8600\n",
            "Epoch 8/20\n",
            "32/32 [==============================] - 7s 231ms/step - loss: 0.2198 - accuracy: 0.9375 - val_loss: 0.1758 - val_accuracy: 0.9800\n",
            "Epoch 9/20\n",
            "32/32 [==============================] - 7s 230ms/step - loss: 0.2399 - accuracy: 0.9312 - val_loss: 0.1661 - val_accuracy: 0.9400\n",
            "Epoch 10/20\n",
            "32/32 [==============================] - 7s 228ms/step - loss: 0.2002 - accuracy: 0.9375 - val_loss: 0.1326 - val_accuracy: 0.9800\n",
            "Epoch 11/20\n",
            "32/32 [==============================] - 8s 240ms/step - loss: 0.2483 - accuracy: 0.9125 - val_loss: 0.1493 - val_accuracy: 0.9400\n",
            "Epoch 12/20\n",
            "32/32 [==============================] - 8s 248ms/step - loss: 0.1724 - accuracy: 0.9438 - val_loss: 0.1812 - val_accuracy: 0.9400\n",
            "Epoch 13/20\n",
            "32/32 [==============================] - 8s 265ms/step - loss: 0.1952 - accuracy: 0.9500 - val_loss: 0.1734 - val_accuracy: 0.9200\n",
            "Epoch 14/20\n",
            "32/32 [==============================] - 8s 247ms/step - loss: 0.1618 - accuracy: 0.9625 - val_loss: 0.1516 - val_accuracy: 0.9400\n",
            "Epoch 15/20\n",
            "32/32 [==============================] - 10s 300ms/step - loss: 0.1693 - accuracy: 0.9563 - val_loss: 0.2223 - val_accuracy: 0.9200\n"
          ]
        }
      ],
      "source": [
        "# 모델의 실행 옵션을 설정합니다. \n",
        "finetune_model.compile(loss='binary_crossentropy', optimizer=optimizers.Adam(learning_rate=0.0002), metrics=['accuracy'])\n",
        "\n",
        "# 학습의 조기 중단을 설정합니다.\n",
        "early_stopping_callback = EarlyStopping(monitor='val_loss', patience=5)\n",
        "\n",
        "# 모델을 실행합니다.\n",
        "history = finetune_model.fit(\n",
        "       train_generator,\n",
        "       epochs=20,\n",
        "       validation_data=test_generator,\n",
        "       validation_steps=10, \n",
        "       callbacks=[early_stopping_callback])"
      ]
    },
    {
      "cell_type": "code",
      "execution_count": null,
      "metadata": {
        "id": "awJ5ZA82w97L",
        "outputId": "1f4b568b-ce42-4e49-da3e-01e5cfc284e3"
      },
      "outputs": [
        {
          "data": {
            "image/png": "[encoded data removed]",
            "text/plain": [
              "<Figure size 432x288 with 1 Axes>"
            ]
          },
          "metadata": {
            "needs_background": "light"
          },
          "output_type": "display_data"
        }
      ],
      "source": [
        "# 검증셋과 학습셋의 오차를 저장합니다.\n",
        "y_vloss = history.history['val_loss']\n",
        "y_loss = history.history['loss']\n",
        "\n",
        "# 그래프로 표현해 봅니다.\n",
        "x_len = np.arange(len(y_loss))\n",
        "plt.plot(x_len, y_vloss, marker='.', c=\"red\", label='Testset_loss')\n",
        "plt.plot(x_len, y_loss, marker='.', c=\"blue\", label='Trainset_loss')\n",
        "\n",
        "# 그래프에 그리드를 주고 레이블을 표시하겠습니다.\n",
        "plt.legend(loc='upper right')\n",
        "plt.grid()\n",
        "plt.xlabel('epoch')\n",
        "plt.ylabel('loss')\n",
        "plt.show()"
      ]
    }
  ],
  "metadata": {
    "colab": {
      "collapsed_sections": [],
      "name": "ch20-colab.ipynb",
      "provenance": []
    },
    "kernelspec": {
      "display_name": "Python 3 (ipykernel)",
      "language": "python",
      "name": "python3"
    },
    "language_info": {
      "codemirror_mode": {
        "name": "ipython",
        "version": 3
      },
      "file_extension": ".py",
      "mimetype": "text/x-python",
      "name": "python",
      "nbconvert_exporter": "python",
      "pygments_lexer": "ipython3",
      "version": "3.9.7"
    },
    "accelerator": "GPU",
    "gpuClass": "standard"
  },
  "nbformat": 4,
  "nbformat_minor": 0
}