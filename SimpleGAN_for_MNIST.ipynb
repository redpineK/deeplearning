{
  "nbformat": 4,
  "nbformat_minor": 0,
  "metadata": {
    "colab": {
      "private_outputs": true,
      "provenance": [],
      "include_colab_link": true
    },
    "kernelspec": {
      "name": "python3",
      "display_name": "Python 3"
    },
    "language_info": {
      "name": "python"
    }
  },
  "cells": [
    {
      "cell_type": "markdown",
      "metadata": {
        "id": "view-in-github",
        "colab_type": "text"
      },
      "source": [
        "<a href=\"https://colab.research.google.com/github/redpineK/deeplearning/blob/master/SimpleGAN_for_MNIST.ipynb\" target=\"_parent\"><img src=\"https://colab.research.google.com/assets/colab-badge.svg\" alt=\"Open In Colab\"/></a>"
      ]
    },
    {
      "cell_type": "code",
      "execution_count": null,
      "metadata": {
        "id": "SQnd6hwzaxAA"
      },
      "outputs": [],
      "source": [
        "import matplotlib.pyplot as plt\n",
        "import numpy as np\n",
        "\n",
        "from tensorflow.keras.datasets import mnist\n",
        "from tensorflow.keras.layers import Dense, Flatten, Reshape\n",
        "from tensorflow.keras.layers import LeakyReLU\n",
        "from tensorflow.keras.models import Sequential\n",
        "from tensorflow.keras.optimizers import Adam\n",
        "\n",
        "\n",
        "img_rows = 28\n",
        "img_cols = 28\n",
        "channels = 1\n",
        "img_shape = (img_rows, img_cols, channels)\n",
        "z_dim = 100"
      ]
    },
    {
      "cell_type": "code",
      "source": [
        "# 생성자(Generator) 모델 생성 함수\n",
        "#\n",
        "def build_generator(img_shape, z_dim):\n",
        "    model = Sequential()\n",
        "    model.add(Dense(128, input_dim=z_dim))\n",
        "    model.add(LeakyReLU(alpha=0.01))\n",
        "    model.add(Dense(28 * 28 * 1, activation='tanh'))\n",
        "    model.add(Reshape(img_shape))\n",
        "\n",
        "    return model"
      ],
      "metadata": {
        "id": "f1JXdhUmeiAf"
      },
      "execution_count": null,
      "outputs": []
    },
    {
      "cell_type": "code",
      "source": [
        "# 판별자(Discriminator) 모델 생성 함수\n",
        "#\n",
        "def build_discriminator(img_shape):\n",
        "    model = Sequential()\n",
        "    model.add(Flatten(input_shape=img_shape))\n",
        "    model.add(Dense(128))\n",
        "    model.add(LeakyReLU(alpha=0.01))\n",
        "    model.add(Dense(1, activation='sigmoid'))\n",
        "\n",
        "    return model"
      ],
      "metadata": {
        "id": "6i6ds66XemqU"
      },
      "execution_count": null,
      "outputs": []
    },
    {
      "cell_type": "code",
      "source": [
        "# 생성자와 판별자를 연결한 GAN 모델 생성 함부\n",
        "#\n",
        "def build_gan(generator, discriminator):\n",
        "    model = Sequential()\n",
        "    model.add(generator)\n",
        "    model.add(discriminator)\n",
        "\n",
        "    return model"
      ],
      "metadata": {
        "id": "Vsmp1ceAeoss"
      },
      "execution_count": null,
      "outputs": []
    },
    {
      "cell_type": "code",
      "source": [
        "# 판별자 모델 생성 (Compile)\n",
        "#\n",
        "discriminator = build_discriminator(img_shape)\n",
        "discriminator.compile(loss='binary_crossentropy', optimizer=Adam(),\n",
        "                      metrics=['accuracy'])\n",
        "discriminator.summary()\n",
        "# trainable 파라미터 확인\n",
        "#"
      ],
      "metadata": {
        "id": "Ktb8Z6kSerJO"
      },
      "execution_count": null,
      "outputs": []
    },
    {
      "cell_type": "code",
      "source": [
        "# GAN 모델 생성 (Compile)\n",
        "generator = build_generator(img_shape, z_dim)\n",
        "discriminator.trainable = False\n",
        "gan = build_gan(generator, discriminator)\n",
        "gan.compile(loss='binary_crossentropy', optimizer=Adam())\n",
        "\n",
        "print(\"생성자 모델 ==========\")\n",
        "generator.summary()\n",
        "print(\"판별자 모델 ======== \")\n",
        "discriminator.summary()\n",
        "print(\"GAN 모델 ==================\")\n",
        "gan.summary(())\n",
        "# Trainable 파라미터 확인\n",
        "#"
      ],
      "metadata": {
        "id": "pX7gwcIWfOeU"
      },
      "execution_count": null,
      "outputs": []
    },
    {
      "cell_type": "code",
      "source": [
        "# 판별자와 생성자를 훈련시키기 위한 함수\n",
        "# 판별자 : 실제 이미지(real)와 생성 이미지(fake)를 구분하도록 훈련\n",
        "# GAN    : 생성자가 생성한 이미지가 실제 이미지가 되도록 훈련\n",
        "#\n",
        "losses = []\n",
        "accuracies = []\n",
        "iteration_checkpoints = []\n",
        "\n",
        "\n",
        "def train(iterations, batch_size, sample_interval):\n",
        "    (X_train, _), (_, _) = mnist.load_data()\n",
        "\n",
        "    X_train = X_train / 127.5 - 1.0\n",
        "    X_train = np.expand_dims(X_train, axis=3)\n",
        "\n",
        "    real = np.ones((batch_size, 1))\n",
        "    fake = np.zeros((batch_size, 1))\n",
        "\n",
        "    for iteration in range(iterations):\n",
        "        idx = np.random.randint(0, X_train.shape[0], batch_size)\n",
        "        imgs = X_train[idx]\n",
        "\n",
        "        z = np.random.normal(0, 1, (batch_size, 100))\n",
        "        gen_imgs = generator.predict(z)\n",
        "\n",
        "        # discriminator.summary()\n",
        "    \n",
        "        d_loss_real = discriminator.train_on_batch(imgs, real)\n",
        "        d_loss_fake = discriminator.train_on_batch(gen_imgs, fake)\n",
        "        d_loss, accuracy = 0.5 * np.add(d_loss_real, d_loss_fake)\n",
        "\n",
        "        z = np.random.normal(0, 1, (batch_size, 100))\n",
        "        g_loss = gan.train_on_batch(z, real)\n",
        "\n",
        "        if (iteration + 1) % sample_interval == 0:\n",
        "            losses.append((d_loss, g_loss))\n",
        "            accuracies.append(100.0 * accuracy)\n",
        "            iteration_checkpoints.append(iteration + 1)\n",
        "\n",
        "            print(\"%d [D loss: %f, acc.: %.2f%%] [G loss: %f]\" %\n",
        "                  (iteration + 1, d_loss, 100.0 * accuracy, g_loss))\n",
        "\n",
        "            sample_images(generator)\n"
      ],
      "metadata": {
        "id": "GVNYC2lGf6IR"
      },
      "execution_count": null,
      "outputs": []
    },
    {
      "cell_type": "code",
      "source": [
        "# 생성자에 의해 생성된 이미지 확인\n",
        "#\n",
        "def sample_images(generator, image_grid_rows=4, image_grid_columns=4):\n",
        "    z = np.random.normal(0, 1, (image_grid_rows * image_grid_columns, z_dim))\n",
        "\n",
        "    gen_imgs = generator.predict(z)\n",
        "    gen_imgs = 0.5 * gen_imgs + 0.5\n",
        "\n",
        "    fig, axs = plt.subplots(image_grid_rows,\n",
        "                            image_grid_columns,\n",
        "                            figsize=(4, 4),\n",
        "                            sharey=True,\n",
        "                            sharex=True)\n",
        "\n",
        "    cnt = 0\n",
        "    for i in range(image_grid_rows):\n",
        "        for j in range(image_grid_columns):\n",
        "            axs[i, j].imshow(gen_imgs[cnt, :, :, 0], cmap='gray')\n",
        "            axs[i, j].axis('off')\n",
        "            cnt += 1\n"
      ],
      "metadata": {
        "id": "Xniej4vkxq5A"
      },
      "execution_count": null,
      "outputs": []
    },
    {
      "cell_type": "code",
      "source": [
        "# 훈련\n",
        "iterations = 100000\n",
        "batch_size = 128\n",
        "sample_interval = 1000\n",
        "\n",
        "train(iterations, batch_size, sample_interval)"
      ],
      "metadata": {
        "id": "RkSxyCQzx2FY"
      },
      "execution_count": null,
      "outputs": []
    },
    {
      "cell_type": "code",
      "source": [
        "\n",
        "losses = np.array(losses)\n",
        "\n",
        "plt.figure(figsize=(15, 5))\n",
        "plt.plot(iteration_checkpoints, losses.T[0], label=\"Discriminator loss\")\n",
        "plt.plot(iteration_checkpoints, losses.T[1], label=\"Generator loss\")\n",
        "\n",
        "plt.xticks(iteration_checkpoints, rotation=90)\n",
        "\n",
        "plt.title(\"Training Loss\")\n",
        "plt.xlabel(\"Iteration\")\n",
        "plt.ylabel(\"Loss\")\n",
        "plt.legend()"
      ],
      "metadata": {
        "id": "qiDD5saLyAxc"
      },
      "execution_count": null,
      "outputs": []
    },
    {
      "cell_type": "code",
      "source": [
        "accuracies = np.array(accuracies)\n",
        "\n",
        "plt.figure(figsize=(15, 5))\n",
        "plt.plot(iteration_checkpoints, accuracies, label=\"Discriminator accuracy\")\n",
        "\n",
        "plt.xticks(iteration_checkpoints, rotation=90)\n",
        "plt.yticks(range(0, 100, 5))\n",
        "\n",
        "plt.title(\"Discriminator Accuracy\")\n",
        "plt.xlabel(\"Iteration\")\n",
        "plt.ylabel(\"Accuracy (%)\")\n",
        "plt.legend()\n",
        "plt.show()"
      ],
      "metadata": {
        "id": "JhUdaC7ayLs-"
      },
      "execution_count": null,
      "outputs": []
    },
    {
      "cell_type": "code",
      "source": [],
      "metadata": {
        "id": "LS--ZzpEyuIA"
      },
      "execution_count": null,
      "outputs": []
    }
  ]
}