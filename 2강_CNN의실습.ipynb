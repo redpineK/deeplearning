{
  "cells": [
    {
      "cell_type": "markdown",
      "metadata": {
        "id": "view-in-github",
        "colab_type": "text"
      },
      "source": [
        "<a href=\"https://colab.research.google.com/github/redpineK/deeplearning/blob/master/2%EA%B0%95_CNN%EC%9D%98%EC%8B%A4%EC%8A%B5.ipynb\" target=\"_parent\"><img src=\"https://colab.research.google.com/assets/colab-badge.svg\" alt=\"Open In Colab\"/></a>"
      ]
    },
    {
      "cell_type": "markdown",
      "metadata": {
        "id": "vhpNJiSUHpsw"
      },
      "source": [
        "# 16장 이미지 인식의 꽃, 컨볼루션 신경망(CNN)"
      ]
    },
    {
      "cell_type": "markdown",
      "metadata": {
        "id": "gQkcG_c9Hpsz"
      },
      "source": [
        "## 1. 이미지를 인식하는 원리"
      ]
    },
    {
      "cell_type": "markdown",
      "metadata": {
        "id": "SqupvrChHps6"
      },
      "source": [
        "## 5. 컨볼루션 신경망 실행하기"
      ]
    },
    {
      "cell_type": "code",
      "execution_count": null,
      "metadata": {
        "id": "aJa-27qAHps7",
        "outputId": "14e26380-ba46-4e27-9913-bdab4f17a80e"
      },
      "outputs": [
        {
          "name": "stdout",
          "output_type": "stream",
          "text": [
            "\n",
            "Epoch 00001: val_loss improved from inf to 0.08178, saving model to ../data/model\\MNIST_CNN.hdf5\n",
            "\n",
            "Epoch 00002: val_loss improved from 0.08178 to 0.05578, saving model to ../data/model\\MNIST_CNN.hdf5\n",
            "\n",
            "Epoch 00003: val_loss improved from 0.05578 to 0.04809, saving model to ../data/model\\MNIST_CNN.hdf5\n",
            "\n",
            "Epoch 00004: val_loss improved from 0.04809 to 0.04628, saving model to ../data/model\\MNIST_CNN.hdf5\n",
            "\n",
            "Epoch 00005: val_loss improved from 0.04628 to 0.04344, saving model to ../data/model\\MNIST_CNN.hdf5\n",
            "\n",
            "Epoch 00006: val_loss did not improve from 0.04344\n",
            "\n",
            "Epoch 00007: val_loss improved from 0.04344 to 0.04101, saving model to ../data/model\\MNIST_CNN.hdf5\n",
            "\n",
            "Epoch 00008: val_loss improved from 0.04101 to 0.03858, saving model to ../data/model\\MNIST_CNN.hdf5\n",
            "\n",
            "Epoch 00009: val_loss did not improve from 0.03858\n",
            "\n",
            "Epoch 00010: val_loss did not improve from 0.03858\n",
            "\n",
            "Epoch 00011: val_loss did not improve from 0.03858\n",
            "\n",
            "Epoch 00012: val_loss did not improve from 0.03858\n",
            "\n",
            "Epoch 00013: val_loss improved from 0.03858 to 0.03742, saving model to ../data/model\\MNIST_CNN.hdf5\n",
            "\n",
            "Epoch 00014: val_loss did not improve from 0.03742\n",
            "\n",
            "Epoch 00015: val_loss did not improve from 0.03742\n",
            "\n",
            "Epoch 00016: val_loss did not improve from 0.03742\n",
            "\n",
            "Epoch 00017: val_loss did not improve from 0.03742\n",
            "\n",
            "Epoch 00018: val_loss did not improve from 0.03742\n",
            "\n",
            "Epoch 00019: val_loss did not improve from 0.03742\n",
            "\n",
            "Epoch 00020: val_loss did not improve from 0.03742\n",
            "\n",
            "Epoch 00021: val_loss did not improve from 0.03742\n",
            "\n",
            "Epoch 00022: val_loss did not improve from 0.03742\n",
            "\n",
            "Epoch 00023: val_loss did not improve from 0.03742\n",
            "313/313 [==============================] - 2s 6ms/step - loss: 0.0341 - accuracy: 0.9917\n",
            "\n",
            " Test Accuracy: 0.9917\n"
          ]
        }
      ],
      "source": [
        "from tensorflow.keras.models import Sequential\n",
        "from tensorflow.keras.layers import Dense, Dropout, Flatten, Conv2D, MaxPooling2D\n",
        "from tensorflow.keras.callbacks import ModelCheckpoint,EarlyStopping\n",
        "from tensorflow.keras.datasets import mnist\n",
        "from tensorflow.keras.utils import to_categorical\n",
        "\n",
        "import matplotlib.pyplot as plt\n",
        "import numpy as np\n",
        "\n",
        "# 데이터를 불러옵니다.\n",
        "(X_train, y_train), (X_test, y_test) = mnist.load_data()\n",
        "X_train = X_train.reshape(X_train.shape[0], 28, 28, 1).astype('float32') / 255\n",
        "X_test = X_test.reshape(X_test.shape[0], 28, 28, 1).astype('float32') / 255\n",
        "y_train = to_categorical(y_train)\n",
        "y_test = to_categorical(y_test)\n",
        "\n",
        "# 컨볼루션 신경망의 설정\n",
        "model = Sequential()\n",
        "model.add(Conv2D(32, kernel_size=(3, 3), input_shape=(28, 28, 1), activation='relu'))\n",
        "model.add(Conv2D(64, (3, 3), activation='relu'))\n",
        "model.add(MaxPooling2D(pool_size=(2,2)))\n",
        "model.add(Dropout(0.25))\n",
        "model.add(Flatten())\n",
        "model.add(Dense(128,  activation='relu'))\n",
        "model.add(Dropout(0.5))\n",
        "model.add(Dense(10, activation='softmax'))\n",
        "\n",
        "# 모델의 실행 옵션을 설정합니다.\n",
        "model.compile(loss='categorical_crossentropy',\n",
        "              optimizer='adam',\n",
        "              metrics=['accuracy'])\n",
        "\n",
        "# 모델을 실행합니다.\n",
        "history = model.fit(X_train, y_train, epochs=10, batch_size=200, verbose=1)\n",
        "\n",
        "# 테스트 정확도를 출력합니다.\n",
        "print(\"\\n Test Accuracy: %.4f\" % (model.evaluate(X_test, y_test)[1]))"
      ]
    },
    {
      "cell_type": "code",
      "execution_count": null,
      "metadata": {
        "id": "pCGvCLddHps7",
        "outputId": "af90dc68-94cb-4aed-b5dc-0aaeaf75941f"
      },
      "outputs": [
        {
          "data": {
            "image/png": "[encoded data removed]",
            "text/plain": [
              "<Figure size 432x288 with 1 Axes>"
            ]
          },
          "metadata": {
            "needs_background": "light"
          },
          "output_type": "display_data"
        }
      ],
      "source": [
        "# 검증셋과 학습셋의 오차를 저장합니다.\n",
        "y_vloss = history.history['val_loss']\n",
        "y_loss = history.history['loss']\n",
        "\n",
        "# 그래프로 표현해 봅니다.\n",
        "x_len = np.arange(len(y_loss))\n",
        "plt.plot(x_len, y_vloss, marker='.', c=\"red\", label='Testset_loss')\n",
        "plt.plot(x_len, y_loss, marker='.', c=\"blue\", label='Trainset_loss')\n",
        "\n",
        "# 그래프에 그리드를 주고 레이블을 표시하겠습니다.\n",
        "plt.legend(loc='upper right')\n",
        "plt.grid()\n",
        "plt.xlabel('epoch')\n",
        "plt.ylabel('loss')\n",
        "plt.show()"
      ]
    },
    {
      "cell_type": "code",
      "execution_count": null,
      "metadata": {
        "id": "5Z-OGf7sHps8"
      },
      "outputs": [],
      "source": []
    }
  ],
  "metadata": {
    "colab": {
      "collapsed_sections": [],
      "provenance": [],
      "include_colab_link": true
    },
    "kernelspec": {
      "display_name": "Python 3 (ipykernel)",
      "language": "python",
      "name": "python3"
    },
    "language_info": {
      "codemirror_mode": {
        "name": "ipython",
        "version": 3
      },
      "file_extension": ".py",
      "mimetype": "text/x-python",
      "name": "python",
      "nbconvert_exporter": "python",
      "pygments_lexer": "ipython3",
      "version": "3.9.7"
    }
  },
  "nbformat": 4,
  "nbformat_minor": 0
}