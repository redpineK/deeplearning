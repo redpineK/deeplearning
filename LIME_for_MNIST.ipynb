{
  "nbformat": 4,
  "nbformat_minor": 0,
  "metadata": {
    "colab": {
      "private_outputs": true,
      "provenance": [],
      "collapsed_sections": [],
      "include_colab_link": true
    },
    "kernelspec": {
      "name": "python3",
      "display_name": "Python 3"
    },
    "language_info": {
      "name": "python"
    }
  },
  "cells": [
    {
      "cell_type": "markdown",
      "metadata": {
        "id": "view-in-github",
        "colab_type": "text"
      },
      "source": [
        "<a href=\"https://colab.research.google.com/github/redpineK/deeplearning/blob/master/LIME_for_MNIST.ipynb\" target=\"_parent\"><img src=\"https://colab.research.google.com/assets/colab-badge.svg\" alt=\"Open In Colab\"/></a>"
      ]
    },
    {
      "cell_type": "code",
      "execution_count": null,
      "metadata": {
        "id": "xuZESg8EWdKr"
      },
      "outputs": [],
      "source": [
        "#%%\n",
        "\n",
        "import tensorflow as tf\n",
        "from tensorflow import keras\n",
        "from tensorflow.keras import layers\n",
        "from tensorflow.keras.datasets import mnist"
      ]
    },
    {
      "cell_type": "code",
      "source": [
        "(x_train, y_train), (x_test, y_test) = mnist.load_data()\n",
        "x_train = x_train.reshape((-1,28,28,1)).astype('float32') / 255.0\n",
        "x_test = x_test.reshape((-1,28,28,1)).astype('float32') / 255.0"
      ],
      "metadata": {
        "id": "4Kw2x5DzW1PQ"
      },
      "execution_count": null,
      "outputs": []
    },
    {
      "cell_type": "code",
      "source": [
        "import numpy as np\n",
        "def to_rgb(x):\n",
        "    x_rgb = np.zeros((x.shape[0], 28, 28, 3))\n",
        "    for i in range(3):\n",
        "        x_rgb[..., i] = x[..., 0]\n",
        "    return x_rgb\n",
        "x_train = to_rgb(x_train)\n",
        "x_test = to_rgb(x_test)"
      ],
      "metadata": {
        "id": "IiDEa5fXW5UB"
      },
      "execution_count": null,
      "outputs": []
    },
    {
      "cell_type": "code",
      "source": [
        "print(keras.__version__)\n",
        "\n",
        "model = keras.Sequential(\n",
        "    [\n",
        "     keras.Input(shape=(28,28,3)),\n",
        "     layers.Conv2D(16, 3, activation='relu'),\n",
        "     layers.MaxPooling2D(),\n",
        "     layers.Flatten(),\n",
        "     layers.Dense(10)\n",
        "    ]\n",
        ")"
      ],
      "metadata": {
        "id": "9pRSHnEVW8Vp"
      },
      "execution_count": null,
      "outputs": []
    },
    {
      "cell_type": "code",
      "source": [
        "model.compile(\n",
        "  loss=keras.losses.SparseCategoricalCrossentropy(from_logits=True),\n",
        "  optimizer=keras.optimizers.Adam(),\n",
        "  metrics=['accuracy']\n",
        ")"
      ],
      "metadata": {
        "id": "7cj4YIABXDFZ"
      },
      "execution_count": null,
      "outputs": []
    },
    {
      "cell_type": "code",
      "source": [
        "# epochㄴ=2 로 짧게 훈련\n",
        "#\n",
        "model.fit(\n",
        "        x_train, \n",
        "        y_train, \n",
        "        epochs=10, \n",
        "        batch_size=32, \n",
        "        validation_data = (x_test, y_test))"
      ],
      "metadata": {
        "id": "pyQk20QGXGY6"
      },
      "execution_count": null,
      "outputs": []
    },
    {
      "cell_type": "markdown",
      "source": [
        "LIME (Local Interpretable Model-agnostic Explanation)"
      ],
      "metadata": {
        "id": "hEtpVhzUXPCt"
      }
    },
    {
      "cell_type": "code",
      "source": [
        "# LIME 패키지 설치\n",
        "#\n",
        "!pip install lime"
      ],
      "metadata": {
        "id": "BGEDuMSXZ2zs"
      },
      "execution_count": null,
      "outputs": []
    },
    {
      "cell_type": "code",
      "source": [
        "import lime\n",
        "from lime import lime_image\n",
        "from skimage.segmentation import mark_boundaries\n",
        "import matplotlib.pyplot as plt\n",
        "import random"
      ],
      "metadata": {
        "id": "Ir_m4dCcXLvb"
      },
      "execution_count": null,
      "outputs": []
    },
    {
      "cell_type": "code",
      "source": [
        "# 대상 이미지 \n",
        "#\n",
        "idx_test = 64\n",
        "print(\"y_test[\", str(idx_test), \"] == \", y_test[idx_test])\n",
        "# idx_train = 10\n",
        "explainer = lime_image.LimeImageExplainer(random_state=42)\n",
        "explanation = explainer.explain_instance(\n",
        "         x_test[idx_test], \n",
        "         model.predict\n",
        ")\n"
      ],
      "metadata": {
        "id": "-V_kixp_ZyF9"
      },
      "execution_count": null,
      "outputs": []
    },
    {
      "cell_type": "code",
      "source": [
        "# 판단에 참조된 부분\n",
        "#\n",
        "image, mask = explanation.get_image_and_mask(\n",
        "           # model.predict(\n",
        "           #      x_test[idx_test].reshape((1,28,28,3))\n",
        "           # ).argmax(axis=1)[0],\n",
        "            y_test[idx_test],\n",
        "            # 8,\n",
        "         positive_only=True,\n",
        "         hide_rest=True)\n",
        "print(\"mask == \", mask)\n",
        "plt.imshow(mark_boundaries(image, mask))\n",
        "plt.show()"
      ],
      "metadata": {
        "id": "nxjlUKUbaKkH"
      },
      "execution_count": null,
      "outputs": []
    },
    {
      "cell_type": "code",
      "source": [],
      "metadata": {
        "id": "XG2lONGkaSyh"
      },
      "execution_count": null,
      "outputs": []
    }
  ]
}