{
  "nbformat": 4,
  "nbformat_minor": 0,
  "metadata": {
    "colab": {
      "provenance": [],
      "authorship_tag": "ABX9TyOOrzVYbUQDVQmL28HspIsE",
      "include_colab_link": true
    },
    "kernelspec": {
      "name": "python3",
      "display_name": "Python 3"
    },
    "language_info": {
      "name": "python"
    }
  },
  "cells": [
    {
      "cell_type": "markdown",
      "metadata": {
        "id": "view-in-github",
        "colab_type": "text"
      },
      "source": [
        "<a href=\"https://colab.research.google.com/github/redpineK/deeplearning/blob/master/Google_Stock_Price.ipynb\" target=\"_parent\"><img src=\"https://colab.research.google.com/assets/colab-badge.svg\" alt=\"Open In Colab\"/></a>"
      ]
    },
    {
      "cell_type": "code",
      "execution_count": null,
      "metadata": {
        "colab": {
          "base_uri": "https://localhost:8080/"
        },
        "id": "bZTSk3QBgL-f",
        "outputId": "a3efb7be-2da5-4b70-ddfc-c15e897e8ff2"
      },
      "outputs": [
        {
          "output_type": "stream",
          "name": "stdout",
          "text": [
            "Epoch 1/100\n",
            "69/69 [==============================] - 52s 554ms/step - loss: 0.0136\n",
            "Epoch 2/100\n",
            "12/69 [====>.........................] - ETA: 28s - loss: 0.0042"
          ]
        }
      ],
      "source": [
        "import pandas as pd\n",
        "import matplotlib.pyplot as plt\n",
        "import numpy as np\n",
        "\n",
        "#Importing training set\n",
        "dataset_train=pd.read_csv('Google_Stock_Price_Train.csv')\n",
        "training_set=dataset_train.iloc[:,1:2].values\n",
        "\n",
        "#Feature Scaling\n",
        "from sklearn.preprocessing import MinMaxScaler\n",
        "sc=MinMaxScaler(feature_range=(0,1))\n",
        "training_set_scaled=sc.fit_transform(training_set)\n",
        "\n",
        "#Creating a data structure with 120 timesteps\n",
        "X_train=[]\n",
        "y_train=[]\n",
        "for i in range(120,2299):\n",
        "    X_train.append(training_set_scaled[i-120:i,0])\n",
        "    y_train.append(training_set_scaled[i,0])\n",
        "X_train,y_train=np.array(X_train),np.array(y_train)\n",
        "\n",
        "#Reshape\n",
        "X_train=np.reshape(X_train,(X_train.shape[0],X_train.shape[1],1))\n",
        "\n",
        "#Building RNN\n",
        "from keras.models import Sequential\n",
        "from keras.layers import Dense\n",
        "from keras.layers import LSTM\n",
        "from keras.layers import Dropout\n",
        "\n",
        "#initializing RNN\n",
        "regressor = Sequential()\n",
        "regressor.add(LSTM(units=100,return_sequences=True,input_shape=(X_train.shape[1],1)))\n",
        "regressor.add(Dropout(0.2))\n",
        "\n",
        "regressor.add(LSTM(units=100,return_sequences=True))\n",
        "regressor.add(Dropout(0.2))\n",
        "\n",
        "regressor.add(LSTM(units=100,return_sequences=True))\n",
        "regressor.add(Dropout(0.2))\n",
        "\n",
        "regressor.add(LSTM(units=100,return_sequences=True))\n",
        "regressor.add(Dropout(0.2))\n",
        "\n",
        "regressor.add(LSTM(units=50))\n",
        "regressor.add(Dropout(0.2))\n",
        "\n",
        "regressor.add(Dense(units=1))\n",
        "\n",
        "#Compile\n",
        "regressor.compile(optimizer='adam',loss='mean_squared_error')\n",
        "\n",
        "regressor.fit(X_train,y_train,epochs=100,batch_size=32)\n",
        "regressor.save('GoogleStock.h5')\n",
        "\n",
        "from keras.models import load_model\n",
        "\n",
        "model=load_model('GoogleStock.h5')\n",
        "dataset_test=pd.read_csv('Google_Stock_Price_Test.csv')\n",
        "test_set=dataset_test.iloc[:,1:2].values\n",
        "\n",
        "dataset_total=pd.concat((dataset_train['open'],dataset_test['open']),axis=0)\n",
        "inputs=dataset_total[len(dataset_total)-len(dataset_test)-120:].values\n",
        "inputs=inputs.reshape(-1,1)\n",
        "inputs=sc.transform(inputs)\n",
        "X_test=[]\n",
        "for i in range(120,340):\n",
        "    X_test.append(inputs[i-120:i,0])\n",
        "    \n",
        "X_test=np.array(X_test)\n",
        "X_test=np.reshape(X_test,(X_test.shape[0],X_test.shape[1],1))\n",
        "pred=regressor.predict(X_test)\n",
        "pred = sc.inverse_transform(pred)\n",
        "\n",
        "#Visualize\n",
        "plt.plot(test_set,color='red',label='Real Stock Price')\n",
        "plt.plot(pred,color='blue',label='Predictated Stock Price')\n",
        "plt.xlabel('Time')\n",
        "plt.ylabel('Price')\n",
        "plt.legend()\n",
        "plt.savefig('Google Stock.png')\n",
        "plt.show()"
      ]
    }
  ]
}