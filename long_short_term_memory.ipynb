{
  "cells": [
    {
      "cell_type": "markdown",
      "metadata": {
        "id": "OxinuwXJ5eeB"
      },
      "source": [
        "# Long Short-Term Memory (LSTM)\n",
        "\n",
        "Date: 2019-09-14  \n",
        "Author: skettee  \n",
        "Categories: Deep Learning, Recurrent Neural Network  \n",
        "Tags: PoS, Tokenization, LSTM, many-to-one      \n",
        "<!--eofm-->"
      ]
    },
    {
      "cell_type": "markdown",
      "metadata": {
        "id": "CuD2XnNc5eeC"
      },
      "source": [
        "감성 분석(Sentiment Analysis)을 위해서 텍스트 데이터를 변환하는 방법과 LSTM에 대해 알아보고 keras를 이용해서 모델링을 해보자!\n",
        "<!--more-->\n",
        "\n",
        "실제로 돌려 보고 싶으면 구글 코랩으로 ~  \n",
        "\n",
        "[![Open In Colab](https://colab.research.google.com/assets/colab-badge.svg)](https://colab.research.google.com/github/skettee/notebooks/blob/master/long_short_term_memory.ipynb)"
      ]
    },
    {
      "cell_type": "markdown",
      "metadata": {
        "id": "AfuZ-bHQ5eeD"
      },
      "source": [
        "## 문제 (Problem)\n",
        "\n",
        "👤 상사\n",
        "\n",
        "> 오~ 간단한 감성 분석기를 만들었군  \n",
        "> 근데 이건 애들 장난이고...  \n",
        "> 네이버가 제공하는 영화 리뷰 데이터로   \n",
        "> 제대로 된 감성 분석기를 만들어 보게    \n",
        "> 데이터는 아래에 있네   \n",
        ">\n",
        "> https://github.com/e9t/nsmc\n",
        "\n",
        "⚙️ 엔지니어\n",
        "\n",
        "> 프로젝트가 쌓여만 간다...   \n",
        "> 이제   \n",
        "> 떠날 때가 된것인가...\n"
      ]
    },
    {
      "cell_type": "markdown",
      "metadata": {
        "id": "Vdxit7oe5eeD"
      },
      "source": [
        "## 데이터 수집 (Data Collection)\n",
        "\n",
        "https://github.com/e9t/nsmc 에서 데이터 정보를 알아보자   \n",
        "\n",
        "**Data description**\n",
        "- Each file is consisted of three columns: id, document, label\n",
        "    - id: The review id, provieded by Naver\n",
        "    - document: The actual review\n",
        "    - label: The sentiment class of the review. (0: negative, 1: positive)\n",
        "    - Columns are delimited with tabs (i.e., .tsv format; but the file extension is .txt for easy access for novices)\n",
        "- 200K reviews in total\n",
        "    - ratings.txt: All 200K reviews\n",
        "    - ratings_test.txt: 50K reviews held out for testing\n",
        "    - ratings_train.txt: 150K reviews for training\n",
        "    \n",
        "**Characteristics**\n",
        "- All reviews are shorter than 140 characters\n",
        "- Each sentiment class is sampled equally (i.e., random guess yields 50% accuracy)\n",
        "    - 100K negative reviews (originally reviews of ratings 1-4)\n",
        "    -100K positive reviews (originally reviews of ratings 9-10)\n",
        "    - Neutral reviews (originally reviews of ratings 5-8) are excluded\n",
        "\n",
        "⚙️ 엔지니어\n",
        "\n",
        "> ratings_test.txt, ratings_train.txt를 다운로드 하자  \n"
      ]
    },
    {
      "cell_type": "code",
      "execution_count": null,
      "metadata": {
        "id": "jLyVT6g55eeE"
      },
      "outputs": [],
      "source": [
        "from tensorflow.keras.utils import get_file\n",
        "\n",
        "train_fname = 'ratings_train.tsv'\n",
        "test_fname = 'ratings_test.tsv'\n",
        "train_origin = 'https://raw.github.com/e9t/nsmc/master/ratings_train.txt'\n",
        "test_origin = 'https://raw.github.com/e9t/nsmc/master/ratings_test.txt'\n",
        "\n",
        "train_path = get_file(train_fname, train_origin)\n",
        "test_path = get_file(test_fname, test_origin)"
      ]
    },
    {
      "cell_type": "markdown",
      "metadata": {
        "id": "uS2MRViq5eeE"
      },
      "source": [
        "### Rating 데이터 프레임"
      ]
    },
    {
      "cell_type": "code",
      "execution_count": null,
      "metadata": {
        "id": "-6McjGsK5eeF",
        "outputId": "db8a0a48-5bfa-4410-c80d-d38adca0fb16"
      },
      "outputs": [
        {
          "data": {
            "text/html": [
              "<div>\n",
              "<style scoped>\n",
              "    .dataframe tbody tr th:only-of-type {\n",
              "        vertical-align: middle;\n",
              "    }\n",
              "\n",
              "    .dataframe tbody tr th {\n",
              "        vertical-align: top;\n",
              "    }\n",
              "\n",
              "    .dataframe thead th {\n",
              "        text-align: right;\n",
              "    }\n",
              "</style>\n",
              "<table border=\"1\" class=\"dataframe\">\n",
              "  <thead>\n",
              "    <tr style=\"text-align: right;\">\n",
              "      <th></th>\n",
              "      <th>id</th>\n",
              "      <th>document</th>\n",
              "      <th>label</th>\n",
              "    </tr>\n",
              "  </thead>\n",
              "  <tbody>\n",
              "    <tr>\n",
              "      <td>0</td>\n",
              "      <td>9976970</td>\n",
              "      <td>아 더빙.. 진짜 짜증나네요 목소리</td>\n",
              "      <td>0</td>\n",
              "    </tr>\n",
              "    <tr>\n",
              "      <td>1</td>\n",
              "      <td>3819312</td>\n",
              "      <td>흠...포스터보고 초딩영화줄....오버연기조차 가볍지 않구나</td>\n",
              "      <td>1</td>\n",
              "    </tr>\n",
              "    <tr>\n",
              "      <td>2</td>\n",
              "      <td>10265843</td>\n",
              "      <td>너무재밓었다그래서보는것을추천한다</td>\n",
              "      <td>0</td>\n",
              "    </tr>\n",
              "    <tr>\n",
              "      <td>3</td>\n",
              "      <td>9045019</td>\n",
              "      <td>교도소 이야기구먼 ..솔직히 재미는 없다..평점 조정</td>\n",
              "      <td>0</td>\n",
              "    </tr>\n",
              "    <tr>\n",
              "      <td>4</td>\n",
              "      <td>6483659</td>\n",
              "      <td>사이몬페그의 익살스런 연기가 돋보였던 영화!스파이더맨에서 늙어보이기만 했던 커스틴 ...</td>\n",
              "      <td>1</td>\n",
              "    </tr>\n",
              "  </tbody>\n",
              "</table>\n",
              "</div>"
            ],
            "text/plain": [
              "         id                                           document  label\n",
              "0   9976970                                아 더빙.. 진짜 짜증나네요 목소리      0\n",
              "1   3819312                  흠...포스터보고 초딩영화줄....오버연기조차 가볍지 않구나      1\n",
              "2  10265843                                  너무재밓었다그래서보는것을추천한다      0\n",
              "3   9045019                      교도소 이야기구먼 ..솔직히 재미는 없다..평점 조정      0\n",
              "4   6483659  사이몬페그의 익살스런 연기가 돋보였던 영화!스파이더맨에서 늙어보이기만 했던 커스틴 ...      1"
            ]
          },
          "execution_count": 2,
          "metadata": {},
          "output_type": "execute_result"
        }
      ],
      "source": [
        "import pandas as pd\n",
        "import numpy as np\n",
        "\n",
        "train_df = pd.read_csv(train_path, sep='\\t') # tsv file\n",
        "train_df.head()"
      ]
    },
    {
      "cell_type": "code",
      "execution_count": null,
      "metadata": {
        "id": "-GNS2Hwy5eeF",
        "outputId": "0b12cdf0-8a6b-44a7-a512-ec976c104963"
      },
      "outputs": [
        {
          "data": {
            "text/html": [
              "<div>\n",
              "<style scoped>\n",
              "    .dataframe tbody tr th:only-of-type {\n",
              "        vertical-align: middle;\n",
              "    }\n",
              "\n",
              "    .dataframe tbody tr th {\n",
              "        vertical-align: top;\n",
              "    }\n",
              "\n",
              "    .dataframe thead th {\n",
              "        text-align: right;\n",
              "    }\n",
              "</style>\n",
              "<table border=\"1\" class=\"dataframe\">\n",
              "  <thead>\n",
              "    <tr style=\"text-align: right;\">\n",
              "      <th></th>\n",
              "      <th>id</th>\n",
              "      <th>document</th>\n",
              "      <th>label</th>\n",
              "    </tr>\n",
              "  </thead>\n",
              "  <tbody>\n",
              "    <tr>\n",
              "      <td>0</td>\n",
              "      <td>6270596</td>\n",
              "      <td>굳 ㅋ</td>\n",
              "      <td>1</td>\n",
              "    </tr>\n",
              "    <tr>\n",
              "      <td>1</td>\n",
              "      <td>9274899</td>\n",
              "      <td>GDNTOPCLASSINTHECLUB</td>\n",
              "      <td>0</td>\n",
              "    </tr>\n",
              "    <tr>\n",
              "      <td>2</td>\n",
              "      <td>8544678</td>\n",
              "      <td>뭐야 이 평점들은.... 나쁘진 않지만 10점 짜리는 더더욱 아니잖아</td>\n",
              "      <td>0</td>\n",
              "    </tr>\n",
              "    <tr>\n",
              "      <td>3</td>\n",
              "      <td>6825595</td>\n",
              "      <td>지루하지는 않은데 완전 막장임... 돈주고 보기에는....</td>\n",
              "      <td>0</td>\n",
              "    </tr>\n",
              "    <tr>\n",
              "      <td>4</td>\n",
              "      <td>6723715</td>\n",
              "      <td>3D만 아니었어도 별 다섯 개 줬을텐데.. 왜 3D로 나와서 제 심기를 불편하게 하죠??</td>\n",
              "      <td>0</td>\n",
              "    </tr>\n",
              "  </tbody>\n",
              "</table>\n",
              "</div>"
            ],
            "text/plain": [
              "        id                                           document  label\n",
              "0  6270596                                                굳 ㅋ      1\n",
              "1  9274899                               GDNTOPCLASSINTHECLUB      0\n",
              "2  8544678             뭐야 이 평점들은.... 나쁘진 않지만 10점 짜리는 더더욱 아니잖아      0\n",
              "3  6825595                   지루하지는 않은데 완전 막장임... 돈주고 보기에는....      0\n",
              "4  6723715  3D만 아니었어도 별 다섯 개 줬을텐데.. 왜 3D로 나와서 제 심기를 불편하게 하죠??      0"
            ]
          },
          "execution_count": 3,
          "metadata": {},
          "output_type": "execute_result"
        }
      ],
      "source": [
        "test_df = pd.read_csv(test_path, sep='\\t') # tsv file\n",
        "test_df.head()"
      ]
    },
    {
      "cell_type": "markdown",
      "metadata": {
        "id": "iK5VRCha5eeG"
      },
      "source": [
        "## 데이터 분석 (Data Analysis)\n",
        "\n",
        "빵꾸난거 부터 확인하고 제거하자    "
      ]
    },
    {
      "cell_type": "code",
      "execution_count": null,
      "metadata": {
        "id": "iSJofKUe5eeG",
        "outputId": "3b928849-ecee-45b2-c800-5951e9bec7c3"
      },
      "outputs": [
        {
          "data": {
            "text/plain": [
              "id          False\n",
              "document     True\n",
              "label       False\n",
              "dtype: bool"
            ]
          },
          "execution_count": 4,
          "metadata": {},
          "output_type": "execute_result"
        }
      ],
      "source": [
        "train_df.isnull().any()"
      ]
    },
    {
      "cell_type": "code",
      "execution_count": null,
      "metadata": {
        "id": "U7mzdSX65eeH"
      },
      "outputs": [],
      "source": [
        "train_df = train_df.dropna(axis=0).reset_index(drop=True)"
      ]
    },
    {
      "cell_type": "code",
      "execution_count": null,
      "metadata": {
        "id": "Q7A2ucCA5eeH",
        "outputId": "aa61f462-4db2-40cb-fb2c-910dfc7afcb1"
      },
      "outputs": [
        {
          "data": {
            "text/plain": [
              "id          False\n",
              "document     True\n",
              "label       False\n",
              "dtype: bool"
            ]
          },
          "execution_count": 6,
          "metadata": {},
          "output_type": "execute_result"
        }
      ],
      "source": [
        "test_df.isnull().any()"
      ]
    },
    {
      "cell_type": "code",
      "execution_count": null,
      "metadata": {
        "id": "AXphn_Xa5eeH"
      },
      "outputs": [],
      "source": [
        "test_df = test_df.dropna(axis=0).reset_index(drop=True)"
      ]
    },
    {
      "cell_type": "markdown",
      "metadata": {
        "id": "_3SL2WrA5eeH"
      },
      "source": [
        "데이터의 크기와 레이블에 따른 분포를 확인하자  "
      ]
    },
    {
      "cell_type": "code",
      "execution_count": null,
      "metadata": {
        "id": "T2Bburnd5eeH",
        "outputId": "f69754c5-f4b9-4f0f-f3ad-dd7aa9b306bf"
      },
      "outputs": [
        {
          "name": "stdout",
          "output_type": "stream",
          "text": [
            "Train data shape:  (149995, 3)\n",
            "Label 0 in Train data: 75170 (50.1%)\n",
            "Label 1 in Train data: 74825 (49.9%)\n",
            "\n",
            "Test data shape:  (49997, 3)\n",
            "Label 0 in Test data: 24826 (49.7%)\n",
            "Label 1 in Test data: 25171 (50.3%)\n"
          ]
        }
      ],
      "source": [
        "print('Train data shape: ', train_df.shape)\n",
        "n_lebel = len(train_df[train_df.label == 0])\n",
        "print('Label 0 in Train data: {} ({:.1f}%)'.format(n_lebel, n_lebel*100/len(train_df)))\n",
        "n_lebel = len(train_df[train_df.label == 1])\n",
        "print('Label 1 in Train data: {} ({:.1f}%)'.format(n_lebel, n_lebel*100/len(train_df)))\n",
        "\n",
        "print('\\nTest data shape: ', test_df.shape)\n",
        "n_lebel = len(test_df[test_df.label == 0])\n",
        "print('Label 0 in Test data: {} ({:.1f}%)'.format(n_lebel, n_lebel*100/len(test_df)))\n",
        "n_lebel = len(test_df[test_df.label == 1])\n",
        "print('Label 1 in Test data: {} ({:.1f}%)'.format(n_lebel, n_lebel*100/len(test_df)))"
      ]
    },
    {
      "cell_type": "markdown",
      "metadata": {
        "id": "y-cELNlG5eeI"
      },
      "source": [
        "`id`컬럼은 필요 없으니 제거하자."
      ]
    },
    {
      "cell_type": "code",
      "execution_count": null,
      "metadata": {
        "id": "xOgupcgg5eeI"
      },
      "outputs": [],
      "source": [
        "train_df = train_df[['document', 'label']]\n",
        "test_df = test_df[['document', 'label']]"
      ]
    },
    {
      "cell_type": "markdown",
      "metadata": {
        "id": "PoPxqSqj5eeI"
      },
      "source": [
        "## 데이터 전처리 (Data Preprocessing)\n",
        "   \n",
        "한글 텍스트를 RNN에 입력하기 위해서는 텍스트를 RNN이 처리하기 편한 형태로 분리해야 한다. 이렇게 텍스트를 분리하는 작업을 **토근화(Tokenization)** 라고 한다.  \n",
        "한글을 토큰화 하기 위해서 형태소 분석기를 사용한다. 다양한 한글 형태소 분석기가 존재하는데, 여기에서는 PyKomoran을 사용한다. 다른 형태소 분석기에 관심이 있으면 아래를 참조한다.  \n",
        "\n",
        "- [Mecap](https://bitbucket.org/eunjeon/mecab-ko-dic/src/master/)\n",
        "- [Khaiii](https://github.com/kakao/khaiii)\n",
        "- [Komoran](https://github.com/shin285/KOMORAN)\n",
        "\n",
        "\n",
        "⚙️ 엔지니어\n",
        "\n",
        "> 앞에서 본 이모티콘 감성분석에서      \n",
        "> 이모티콘을 텍스트로 변환했는데   \n",
        "> 반대로    \n",
        "> 텍스트를 이모티콘으로 변환하는 것을       \n",
        "> 토큰화(Tokenization)라고 생각하면  \n",
        "> 이해가 쉬울 것 같다...  \n"
      ]
    },
    {
      "cell_type": "markdown",
      "metadata": {
        "id": "oKjSCIKo5eeI"
      },
      "source": [
        "### 형태소 분석기 설치\n",
        "\n",
        "PyKomoran을 사용하기 위해서는 Java가 설치 되어 있어야 한다. 아래 명령어를 실행해서 Java가 설치되어 있는지 확인하자."
      ]
    },
    {
      "cell_type": "code",
      "execution_count": null,
      "metadata": {
        "id": "6bGyRpwa5eeI",
        "outputId": "2ea9e87b-cbd6-4eab-f332-2a1c0bc2f210"
      },
      "outputs": [
        {
          "name": "stdout",
          "output_type": "stream",
          "text": [
            "openjdk version \"1.8.0_152-release\"\r\n",
            "OpenJDK Runtime Environment (build 1.8.0_152-release-1056-b12)\r\n",
            "OpenJDK 64-Bit Server VM (build 25.152-b12, mixed mode)\r\n"
          ]
        }
      ],
      "source": [
        "!java -version"
      ]
    },
    {
      "cell_type": "markdown",
      "metadata": {
        "id": "s9isfGx55eeJ"
      },
      "source": [
        "PyKomoran을 설치한다."
      ]
    },
    {
      "cell_type": "code",
      "execution_count": null,
      "metadata": {
        "id": "PnYADMzn5eeJ",
        "outputId": "15657908-61eb-40de-de2d-0803372f45cc"
      },
      "outputs": [
        {
          "name": "stdout",
          "output_type": "stream",
          "text": [
            "Collecting PyKomoran\n",
            "\u001b[?25l  Downloading https://files.pythonhosted.org/packages/23/b0/ce6a46f311651ed64c39beb1cfe1c39a9906521139ace45430d08c489b62/PyKomoran-0.1.5-py3-none-any.whl (7.9MB)\n",
            "\u001b[K     |████████████████████████████████| 7.9MB 1.2MB/s eta 0:00:01\n",
            "\u001b[?25hCollecting py4j==0.10.8.1 (from PyKomoran)\n",
            "\u001b[?25l  Downloading https://files.pythonhosted.org/packages/04/de/2d314a921ef4c20b283e1de94e0780273678caac901564df06b948e4ba9b/py4j-0.10.8.1-py2.py3-none-any.whl (196kB)\n",
            "\u001b[K     |████████████████████████████████| 204kB 2.1MB/s eta 0:00:01\n",
            "\u001b[?25hInstalling collected packages: py4j, PyKomoran\n",
            "Successfully installed PyKomoran-0.1.5 py4j-0.10.8.1\n",
            "Note: you may need to restart the kernel to use updated packages.\n"
          ]
        }
      ],
      "source": [
        "%pip install PyKomoran"
      ]
    },
    {
      "cell_type": "markdown",
      "metadata": {
        "id": "ylPYS3KH5eeJ"
      },
      "source": [
        "설치 확인을 위해 아래 코드를 실행한다."
      ]
    },
    {
      "cell_type": "code",
      "execution_count": null,
      "metadata": {
        "id": "eX0R4jox5eeJ",
        "outputId": "d2da988b-3e16-4a3d-d21e-6ab21ac3a9df"
      },
      "outputs": [
        {
          "data": {
            "text/plain": [
              "'①/SW 대한민국/NNP 은/JX 민주/NNP 공화국/NNG 이/VCP 다/EF ./SF'"
            ]
          },
          "execution_count": 10,
          "metadata": {},
          "output_type": "execute_result"
        }
      ],
      "source": [
        "from PyKomoran import *\n",
        "\n",
        "corpus = \"① 대한민국은 민주공화국이다.\"\n",
        "komoran = Komoran(\"STABLE\")\n",
        "komoran.get_plain_text(corpus)"
      ]
    },
    {
      "cell_type": "markdown",
      "metadata": {
        "id": "Jd1RDtcd5eeJ"
      },
      "source": [
        "### 토큰화 (Tokenization)"
      ]
    },
    {
      "cell_type": "markdown",
      "metadata": {
        "id": "un99yt7c5eeJ"
      },
      "source": [
        "형태소 분석기는 문장을 품사(PoS)별로 분리해 준다. 모든 품사를 사용하지 않고 감성 분석에 필요하다고 판단이 되는 품사를 선정해서 토큰화를 진행한다.  \n",
        "\n",
        "#### 품사 (Part Of Speech)\n",
        "\n",
        "Komoran에서 정의하는 품사 종류는 아래 사이트를 참조.  \n",
        "품사표 (PoS Table): https://pydocs.komoran.kr/firststep/postypes.html\n",
        "\n",
        "#### 불용어 (Stop Words)\n",
        "\n",
        "RNN에 입력으로 들어가지 못하는 단어들을 말한다. 여기서는 들어가지 못하는 품사를 아래와 같이 정의한다.  "
      ]
    },
    {
      "cell_type": "code",
      "execution_count": null,
      "metadata": {
        "id": "pV5--S3W5eeJ"
      },
      "outputs": [],
      "source": [
        "stop_pos_tags =  ['IC', 'JKS', 'JKC', 'JKG', 'JKO', 'JKB', 'JKV', 'JKQ', 'JX', \n",
        "                   'EF', 'ETN', 'ETM', 'XSA', 'SF', 'SP', 'SS', 'SE', 'SO', 'SL', 'SH', \n",
        "                   'SW', 'NF', 'NV', 'SN', 'NA']"
      ]
    },
    {
      "cell_type": "markdown",
      "metadata": {
        "id": "Rds0iwgF5eeK"
      },
      "source": [
        "#### 어간 원형 복원 (Lemmatization)\n",
        "\n",
        "동사와 형용사의 경우에는 어간(Stem)에 '다'를 붙여서 기본형으로 복원한다. "
      ]
    },
    {
      "cell_type": "code",
      "execution_count": null,
      "metadata": {
        "id": "sK2bwaRP5eeK"
      },
      "outputs": [],
      "source": [
        "def tokenize(corpus, stop_pos_tags):\n",
        "    result = []\n",
        "    pairs = komoran.get_list(corpus)\n",
        "    for pair in pairs:\n",
        "        morph = pair.get_first()\n",
        "        pos = pair.get_second()\n",
        "        if pos not in stop_pos_tags:\n",
        "            if pos in ['VV', 'VA', 'VX', 'VCP', 'VCN']:\n",
        "                morph = morph + '다'\n",
        "            result.append(morph)\n",
        "    return result"
      ]
    },
    {
      "cell_type": "markdown",
      "metadata": {
        "id": "u-JROGft5eeK"
      },
      "source": [
        "토큰을 만들고 리스트에 저장한다.  "
      ]
    },
    {
      "cell_type": "code",
      "execution_count": null,
      "metadata": {
        "id": "5X_S1VQc5eeK"
      },
      "outputs": [],
      "source": [
        "tokens_list = []\n",
        "\n",
        "for i in range(len(train_df['document'])):\n",
        "    tokens_list.append(tokenize(train_df['document'][i], stop_pos_tags))"
      ]
    },
    {
      "cell_type": "markdown",
      "metadata": {
        "id": "sVB2EZIx5eeK"
      },
      "source": [
        "데이터 프레임에 넣어서 토큰이 제대로 만들어 졌는지 확인한다.   "
      ]
    },
    {
      "cell_type": "code",
      "execution_count": null,
      "metadata": {
        "id": "VCrQ83mm5eeK",
        "outputId": "ce6997f1-21e6-4f64-88b6-87e30e961071"
      },
      "outputs": [
        {
          "data": {
            "text/html": [
              "<div>\n",
              "<style scoped>\n",
              "    .dataframe tbody tr th:only-of-type {\n",
              "        vertical-align: middle;\n",
              "    }\n",
              "\n",
              "    .dataframe tbody tr th {\n",
              "        vertical-align: top;\n",
              "    }\n",
              "\n",
              "    .dataframe thead th {\n",
              "        text-align: right;\n",
              "    }\n",
              "</style>\n",
              "<table border=\"1\" class=\"dataframe\">\n",
              "  <thead>\n",
              "    <tr style=\"text-align: right;\">\n",
              "      <th></th>\n",
              "      <th>document</th>\n",
              "      <th>label</th>\n",
              "      <th>tokens</th>\n",
              "    </tr>\n",
              "  </thead>\n",
              "  <tbody>\n",
              "    <tr>\n",
              "      <td>0</td>\n",
              "      <td>아 더빙.. 진짜 짜증나네요 목소리</td>\n",
              "      <td>0</td>\n",
              "      <td>[더빙, 진짜, 짜증, 나다, 네요, 목소리]</td>\n",
              "    </tr>\n",
              "    <tr>\n",
              "      <td>1</td>\n",
              "      <td>흠...포스터보고 초딩영화줄....오버연기조차 가볍지 않구나</td>\n",
              "      <td>1</td>\n",
              "      <td>[포스터, 초, 딩, 영화, 줄, 오버, 연기, 가볍다, 지, 않다, 구나]</td>\n",
              "    </tr>\n",
              "    <tr>\n",
              "      <td>2</td>\n",
              "      <td>너무재밓었다그래서보는것을추천한다</td>\n",
              "      <td>0</td>\n",
              "      <td>[]</td>\n",
              "    </tr>\n",
              "    <tr>\n",
              "      <td>3</td>\n",
              "      <td>교도소 이야기구먼 ..솔직히 재미는 없다..평점 조정</td>\n",
              "      <td>0</td>\n",
              "      <td>[교도소, 이야기, 이다, 구먼, 솔직히, 재미, 없다, 평점, 조정]</td>\n",
              "    </tr>\n",
              "    <tr>\n",
              "      <td>4</td>\n",
              "      <td>사이몬페그의 익살스런 연기가 돋보였던 영화!스파이더맨에서 늙어보이기만 했던 커스틴 ...</td>\n",
              "      <td>1</td>\n",
              "      <td>[익살, 연기, 돋보이다, 었, 영화, 스파이, 더, 맨, 늙다, 어, 보이다, 하...</td>\n",
              "    </tr>\n",
              "  </tbody>\n",
              "</table>\n",
              "</div>"
            ],
            "text/plain": [
              "                                            document  label  \\\n",
              "0                                아 더빙.. 진짜 짜증나네요 목소리      0   \n",
              "1                  흠...포스터보고 초딩영화줄....오버연기조차 가볍지 않구나      1   \n",
              "2                                  너무재밓었다그래서보는것을추천한다      0   \n",
              "3                      교도소 이야기구먼 ..솔직히 재미는 없다..평점 조정      0   \n",
              "4  사이몬페그의 익살스런 연기가 돋보였던 영화!스파이더맨에서 늙어보이기만 했던 커스틴 ...      1   \n",
              "\n",
              "                                              tokens  \n",
              "0                          [더빙, 진짜, 짜증, 나다, 네요, 목소리]  \n",
              "1         [포스터, 초, 딩, 영화, 줄, 오버, 연기, 가볍다, 지, 않다, 구나]  \n",
              "2                                                 []  \n",
              "3            [교도소, 이야기, 이다, 구먼, 솔직히, 재미, 없다, 평점, 조정]  \n",
              "4  [익살, 연기, 돋보이다, 었, 영화, 스파이, 더, 맨, 늙다, 어, 보이다, 하...  "
            ]
          },
          "execution_count": 14,
          "metadata": {},
          "output_type": "execute_result"
        }
      ],
      "source": [
        "train_df['tokens'] = tokens_list\n",
        "\n",
        "train_df.head()"
      ]
    },
    {
      "cell_type": "markdown",
      "metadata": {
        "id": "vzLZajTd5eeK"
      },
      "source": [
        "토큰이 비어있는 열은 과감하게 제거한다."
      ]
    },
    {
      "cell_type": "code",
      "execution_count": null,
      "metadata": {
        "id": "3Q5J9xgQ5eeK"
      },
      "outputs": [],
      "source": [
        "train_df = train_df[train_df['tokens'].str.len() > 2]"
      ]
    },
    {
      "cell_type": "markdown",
      "metadata": {
        "id": "RAxhEOj55eeK"
      },
      "source": [
        "테스트 데이터도 동일하게 토큰을 추출하고 데이터프레임에 저장한다.  "
      ]
    },
    {
      "cell_type": "code",
      "execution_count": null,
      "metadata": {
        "id": "VOLOsqCs5eeL",
        "outputId": "f9c10fab-b382-4601-e163-79626d8253eb"
      },
      "outputs": [
        {
          "data": {
            "text/html": [
              "<div>\n",
              "<style scoped>\n",
              "    .dataframe tbody tr th:only-of-type {\n",
              "        vertical-align: middle;\n",
              "    }\n",
              "\n",
              "    .dataframe tbody tr th {\n",
              "        vertical-align: top;\n",
              "    }\n",
              "\n",
              "    .dataframe thead th {\n",
              "        text-align: right;\n",
              "    }\n",
              "</style>\n",
              "<table border=\"1\" class=\"dataframe\">\n",
              "  <thead>\n",
              "    <tr style=\"text-align: right;\">\n",
              "      <th></th>\n",
              "      <th>document</th>\n",
              "      <th>label</th>\n",
              "      <th>tokens</th>\n",
              "    </tr>\n",
              "  </thead>\n",
              "  <tbody>\n",
              "    <tr>\n",
              "      <td>0</td>\n",
              "      <td>굳 ㅋ</td>\n",
              "      <td>1</td>\n",
              "      <td>[굳다]</td>\n",
              "    </tr>\n",
              "    <tr>\n",
              "      <td>1</td>\n",
              "      <td>GDNTOPCLASSINTHECLUB</td>\n",
              "      <td>0</td>\n",
              "      <td>[]</td>\n",
              "    </tr>\n",
              "    <tr>\n",
              "      <td>2</td>\n",
              "      <td>뭐야 이 평점들은.... 나쁘진 않지만 10점 짜리는 더더욱 아니잖아</td>\n",
              "      <td>0</td>\n",
              "      <td>[뭐, 이, 평점, 들, 나쁘다, 지, 않다, 지만, 점, 짜리, 더더욱, 아니다,...</td>\n",
              "    </tr>\n",
              "    <tr>\n",
              "      <td>3</td>\n",
              "      <td>지루하지는 않은데 완전 막장임... 돈주고 보기에는....</td>\n",
              "      <td>0</td>\n",
              "      <td>[지루, 지, 않다, 은데, 완전, 막장, 이다, 돈, 주다, 고, 보다]</td>\n",
              "    </tr>\n",
              "    <tr>\n",
              "      <td>4</td>\n",
              "      <td>3D만 아니었어도 별 다섯 개 줬을텐데.. 왜 3D로 나와서 제 심기를 불편하게 하죠??</td>\n",
              "      <td>0</td>\n",
              "      <td>[아니다, 었, 어도, 별, 다섯, 개, 주다, 었, 텐, 데, 왜, 나오다, 아서...</td>\n",
              "    </tr>\n",
              "  </tbody>\n",
              "</table>\n",
              "</div>"
            ],
            "text/plain": [
              "                                            document  label  \\\n",
              "0                                                굳 ㅋ      1   \n",
              "1                               GDNTOPCLASSINTHECLUB      0   \n",
              "2             뭐야 이 평점들은.... 나쁘진 않지만 10점 짜리는 더더욱 아니잖아      0   \n",
              "3                   지루하지는 않은데 완전 막장임... 돈주고 보기에는....      0   \n",
              "4  3D만 아니었어도 별 다섯 개 줬을텐데.. 왜 3D로 나와서 제 심기를 불편하게 하죠??      0   \n",
              "\n",
              "                                              tokens  \n",
              "0                                               [굳다]  \n",
              "1                                                 []  \n",
              "2  [뭐, 이, 평점, 들, 나쁘다, 지, 않다, 지만, 점, 짜리, 더더욱, 아니다,...  \n",
              "3          [지루, 지, 않다, 은데, 완전, 막장, 이다, 돈, 주다, 고, 보다]  \n",
              "4  [아니다, 었, 어도, 별, 다섯, 개, 주다, 었, 텐, 데, 왜, 나오다, 아서...  "
            ]
          },
          "execution_count": 17,
          "metadata": {},
          "output_type": "execute_result"
        }
      ],
      "source": [
        "tokens_list = []\n",
        "\n",
        "for i in range(len(test_df['document'])):\n",
        "    tokens_list.append(tokenize(test_df['document'][i], stop_pos_tags))\n",
        "test_df['tokens'] = tokens_list\n",
        "\n",
        "test_df.head()"
      ]
    },
    {
      "cell_type": "markdown",
      "metadata": {
        "id": "I8xslc2A5eeL"
      },
      "source": [
        "토큰이 비어있는 열은 과감하게 제거한다."
      ]
    },
    {
      "cell_type": "code",
      "execution_count": null,
      "metadata": {
        "id": "bxyqUBgk5eeL"
      },
      "outputs": [],
      "source": [
        "test_df = test_df[test_df['tokens'].str.len() > 2]"
      ]
    },
    {
      "cell_type": "markdown",
      "metadata": {
        "id": "hSe3YcFF5eeL"
      },
      "source": [
        "## LSTM 모델링 (LSTM Modeling)\n",
        "\n",
        "RNN의 단점은 timestep이 증가하면 이전의 입력 데이터 정보가 사라진다는 것이다. 긴 문장의 경우에 timestep이 수백개가 되는 경우가 있다. 즉 RNN 레이어가 수백개가 되면 손실함수의 최소값을 찾기 위해 미분의 미분의 ... 미분을 수백번을 하게 되고 어느 지점 부터 미분값이 0이 되면 그 이전의 입력 데이터 정보는 사용할 수 없게 된다.      \n",
        "\n",
        "⚙️ 엔지니어\n",
        "\n",
        "> RNN이 알고보니  \n",
        "> '메멘토' 였다!   \n",
        ">\n",
        "> 그러나 엔지니어를 또 갈아서 해결했다.  \n",
        "> 그것은 바로...  \n",
        "\n",
        "### LSTM (Long Short-Term Memory)\n",
        "\n",
        "RNN unit에 이전 데이터의 정보를 저장하고 있는 메모리 셀(memory cell) 함수($c^{\\lt t \\gt}$)와 메모리 셀을 유지할 것인지 업데이트 할 것인지를 결정하는 게이트(gate) 함수($\\Gamma_u, \\Gamma_f, \\Gamma_o$)를 추가한 것이 LSTM이다.  \n",
        "\n",
        "![LSTM Unit](https://skettee.github.io/post/long_short_term_memory/lstm.png)\n",
        "\n",
        "$\\begin{align} \n",
        "\\tilde c^{\\lt t \\gt} & = tanh\\left(W_{ca}a^{\\lt t-1 \\gt} + W_{cx}x^{\\lt t \\gt} + b_c\\right) \\\\  \n",
        "\\Gamma_u & = \\sigma \\left( W_{ua}a^{\\lt t-1 \\gt} + W_{ux}x^{\\lt t \\gt} + b_u \\right) \\\\\n",
        "\\Gamma_f & = \\sigma \\left( W_{fa}a^{\\lt t-1 \\gt} + W_{fx}x^{\\lt t \\gt} + b_f \\right) \\\\\n",
        "\\Gamma_o & = \\sigma \\left( W_{oa}a^{\\lt t-1 \\gt} + W_{ox}x^{\\lt t \\gt} + b_o \\right) \\\\\n",
        "c^{\\lt t \\gt} & = \\Gamma_u * \\tilde c^{\\lt t \\gt} + \\Gamma_f * c^{\\lt t-1 \\gt} \\\\\n",
        "a^{\\lt t \\gt} & = \\Gamma_o * tanh (c^{\\lt t \\gt}) \\\\\n",
        "\\hat y^{\\lt t \\gt} & = W_{ya}a^{\\lt t \\gt} + b_y \n",
        "\\end{align}$  \n"
      ]
    },
    {
      "cell_type": "markdown",
      "metadata": {
        "id": "PmUlu6Es5eeL"
      },
      "source": [
        "⚙️ 엔지니어  \n",
        "\n",
        "> 게이트($\\Gamma$)의 열고($\\Gamma = 1$) 닫고($\\Gamma = 0$)를  \n",
        "> 학습에 의해서 결정 ($(W_u, b_u), (W_f, b_f), (W_o, b_o)$) 한다.  \n",
        "> 게이트($\\Gamma$)의 상태에 따라서  \n",
        "> 메모리 셀 ($c^{\\lt t \\gt}$)을 업데이트 할건지 ($\\tilde c^{\\lt t \\gt}$)    \n",
        "> 이전것을 유지할건지 ($c^{\\lt t-1 \\gt}$)\n",
        "> 결정한다.  \n",
        ">\n",
        "> 트랜지스터 같네... "
      ]
    },
    {
      "cell_type": "markdown",
      "metadata": {
        "id": "QxgLhLee5eeL"
      },
      "source": [
        "### Many-to-One Model\n",
        "\n",
        "감성분석(Sentiment Anaysis)에 사용되는 many to one 모델을 사용한다.  \n",
        "훈련 리뷰 개수 136,927개를 사용하고, time step은 40으로 고정한다.  \n",
        "리뷰마다 토큰의 수가 다르므로 40이 안되면 0으로 채우고(padding) 40이 넘으면 그 이상은 잘라 버린다(clipping)  "
      ]
    },
    {
      "cell_type": "markdown",
      "metadata": {
        "id": "OZH7ycmO5eeL"
      },
      "source": [
        "### 정리\n",
        "1. Input Layer\n",
        "    1. Batch size는 136927개   \n",
        "    2. Time step은 40개 ($T_x = 40$)   \n",
        "    3. Feature 개수는 입력에 들어가는 토큰 1개  \n",
        "2. LSTM Layer\n",
        "    1. 128개 유닛으로 구성한다.  \n",
        "    2. Dropout을 0.2로 설정한다.    \n",
        "3. Output Layer\n",
        "    1. 활성 함수는 시그모이드(Sigmoid)를 사용한다.\n",
        "4. Loss funtion 은 binary_crossentropy 를 사용한다.  \n",
        "5. Optimizer 는 Adam을 사용한다.  "
      ]
    },
    {
      "cell_type": "markdown",
      "metadata": {
        "id": "8Ova33fZ5eeL"
      },
      "source": [
        "## 케라스(Keras)로 모델링(Modeling)\n",
        "\n",
        "### 데이터 변환 (Data Transformation)\n",
        "\n",
        "토큰을 숫자로 변환(Encoding)하고, 입력 토큰의 개수를 동일한 크기로 맞춘다. 출력은 0과 1로 변환한다.   "
      ]
    },
    {
      "cell_type": "markdown",
      "metadata": {
        "id": "recYakgG5eeL"
      },
      "source": [
        "#### Encoding\n",
        "\n",
        "토큰을 숫자로 변환하고 tokenizer를 파일에 저장한다.  "
      ]
    },
    {
      "cell_type": "code",
      "execution_count": null,
      "metadata": {
        "id": "zLGT6vRX5eeM",
        "outputId": "b9a8f6b9-b369-4de4-86b5-58fcc76879fa"
      },
      "outputs": [
        {
          "data": {
            "text/html": [
              "<div>\n",
              "<style scoped>\n",
              "    .dataframe tbody tr th:only-of-type {\n",
              "        vertical-align: middle;\n",
              "    }\n",
              "\n",
              "    .dataframe tbody tr th {\n",
              "        vertical-align: top;\n",
              "    }\n",
              "\n",
              "    .dataframe thead th {\n",
              "        text-align: right;\n",
              "    }\n",
              "</style>\n",
              "<table border=\"1\" class=\"dataframe\">\n",
              "  <thead>\n",
              "    <tr style=\"text-align: right;\">\n",
              "      <th></th>\n",
              "      <th>document</th>\n",
              "      <th>label</th>\n",
              "      <th>tokens</th>\n",
              "    </tr>\n",
              "  </thead>\n",
              "  <tbody>\n",
              "    <tr>\n",
              "      <td>0</td>\n",
              "      <td>아 더빙.. 진짜 짜증나네요 목소리</td>\n",
              "      <td>0</td>\n",
              "      <td>[502, 31, 210, 66, 70, 716]</td>\n",
              "    </tr>\n",
              "    <tr>\n",
              "      <td>1</td>\n",
              "      <td>흠...포스터보고 초딩영화줄....오버연기조차 가볍지 않구나</td>\n",
              "      <td>1</td>\n",
              "      <td>[489, 305, 236, 2, 172, 1294, 42, 717, 16, 34,...</td>\n",
              "    </tr>\n",
              "    <tr>\n",
              "      <td>3</td>\n",
              "      <td>교도소 이야기구먼 ..솔직히 재미는 없다..평점 조정</td>\n",
              "      <td>0</td>\n",
              "      <td>[5551, 138, 3, 3988, 281, 87, 17, 46, 2881]</td>\n",
              "    </tr>\n",
              "    <tr>\n",
              "      <td>4</td>\n",
              "      <td>사이몬페그의 익살스런 연기가 돋보였던 영화!스파이더맨에서 늙어보이기만 했던 커스틴 ...</td>\n",
              "      <td>1</td>\n",
              "      <td>[6734, 42, 845, 10, 2, 1602, 67, 414, 1156, 12...</td>\n",
              "    </tr>\n",
              "    <tr>\n",
              "      <td>5</td>\n",
              "      <td>막 걸음마 뗀 3세부터 초등학교 1학년생인 8살용영화.ㅋㅋㅋ...별반개도 아까움.</td>\n",
              "      <td>0</td>\n",
              "      <td>[678, 13857, 1512, 264, 1678, 1452, 471, 3, 80]</td>\n",
              "    </tr>\n",
              "  </tbody>\n",
              "</table>\n",
              "</div>"
            ],
            "text/plain": [
              "                                            document  label  \\\n",
              "0                                아 더빙.. 진짜 짜증나네요 목소리      0   \n",
              "1                  흠...포스터보고 초딩영화줄....오버연기조차 가볍지 않구나      1   \n",
              "3                      교도소 이야기구먼 ..솔직히 재미는 없다..평점 조정      0   \n",
              "4  사이몬페그의 익살스런 연기가 돋보였던 영화!스파이더맨에서 늙어보이기만 했던 커스틴 ...      1   \n",
              "5      막 걸음마 뗀 3세부터 초등학교 1학년생인 8살용영화.ㅋㅋㅋ...별반개도 아까움.      0   \n",
              "\n",
              "                                              tokens  \n",
              "0                        [502, 31, 210, 66, 70, 716]  \n",
              "1  [489, 305, 236, 2, 172, 1294, 42, 717, 16, 34,...  \n",
              "3        [5551, 138, 3, 3988, 281, 87, 17, 46, 2881]  \n",
              "4  [6734, 42, 845, 10, 2, 1602, 67, 414, 1156, 12...  \n",
              "5    [678, 13857, 1512, 264, 1678, 1452, 471, 3, 80]  "
            ]
          },
          "execution_count": 20,
          "metadata": {},
          "output_type": "execute_result"
        }
      ],
      "source": [
        "from tensorflow.keras.preprocessing.text import Tokenizer\n",
        "import os\n",
        "import pickle\n",
        "\n",
        "tokenizer_name = 'keras_naver_review_tokenizer.pickle'\n",
        "save_path = os.path.join(os.getcwd(), tokenizer_name)\n",
        "\n",
        "max_words = 35000\n",
        "tokenizer = Tokenizer(num_words=max_words, oov_token = True)\n",
        "tokenizer.fit_on_texts(train_df.tokens)\n",
        "train_df.tokens = tokenizer.texts_to_sequences(train_df.tokens)\n",
        "test_df.tokens = tokenizer.texts_to_sequences(test_df.tokens)\n",
        "\n",
        "with open(save_path, 'wb') as f:\n",
        "    pickle.dump(tokenizer, f, protocol=pickle.HIGHEST_PROTOCOL)\n",
        "\n",
        "train_df.head()"
      ]
    },
    {
      "cell_type": "code",
      "execution_count": null,
      "metadata": {
        "id": "O5ulDttY5eeM",
        "outputId": "2c8aa029-b1ed-47fe-ec58-93d3f9fb20f5"
      },
      "outputs": [
        {
          "data": {
            "text/html": [
              "<div>\n",
              "<style scoped>\n",
              "    .dataframe tbody tr th:only-of-type {\n",
              "        vertical-align: middle;\n",
              "    }\n",
              "\n",
              "    .dataframe tbody tr th {\n",
              "        vertical-align: top;\n",
              "    }\n",
              "\n",
              "    .dataframe thead th {\n",
              "        text-align: right;\n",
              "    }\n",
              "</style>\n",
              "<table border=\"1\" class=\"dataframe\">\n",
              "  <thead>\n",
              "    <tr style=\"text-align: right;\">\n",
              "      <th></th>\n",
              "      <th>document</th>\n",
              "      <th>label</th>\n",
              "      <th>tokens</th>\n",
              "    </tr>\n",
              "  </thead>\n",
              "  <tbody>\n",
              "    <tr>\n",
              "      <td>2</td>\n",
              "      <td>뭐야 이 평점들은.... 나쁘진 않지만 10점 짜리는 더더욱 아니잖아</td>\n",
              "      <td>0</td>\n",
              "      <td>[54, 18, 46, 13, 456, 16, 34, 35, 26, 605, 314...</td>\n",
              "    </tr>\n",
              "    <tr>\n",
              "      <td>3</td>\n",
              "      <td>지루하지는 않은데 완전 막장임... 돈주고 보기에는....</td>\n",
              "      <td>0</td>\n",
              "      <td>[78, 16, 34, 238, 128, 340, 3, 140, 22, 5, 4]</td>\n",
              "    </tr>\n",
              "    <tr>\n",
              "      <td>4</td>\n",
              "      <td>3D만 아니었어도 별 다섯 개 줬을텐데.. 왜 3D로 나와서 제 심기를 불편하게 하죠??</td>\n",
              "      <td>0</td>\n",
              "      <td>[41, 10, 243, 191, 1942, 109, 22, 10, 671, 188...</td>\n",
              "    </tr>\n",
              "    <tr>\n",
              "      <td>5</td>\n",
              "      <td>음악이 주가 된, 최고의 음악영화</td>\n",
              "      <td>1</td>\n",
              "      <td>[216, 3476, 45, 49, 216, 2]</td>\n",
              "    </tr>\n",
              "    <tr>\n",
              "      <td>7</td>\n",
              "      <td>마치 미국애니에서 튀어나온듯한 창의력없는 로봇디자인부터가,고개를 젖게한다</td>\n",
              "      <td>0</td>\n",
              "      <td>[1060, 395, 372, 4329, 282, 11, 6400, 17, 1378...</td>\n",
              "    </tr>\n",
              "  </tbody>\n",
              "</table>\n",
              "</div>"
            ],
            "text/plain": [
              "                                            document  label  \\\n",
              "2             뭐야 이 평점들은.... 나쁘진 않지만 10점 짜리는 더더욱 아니잖아      0   \n",
              "3                   지루하지는 않은데 완전 막장임... 돈주고 보기에는....      0   \n",
              "4  3D만 아니었어도 별 다섯 개 줬을텐데.. 왜 3D로 나와서 제 심기를 불편하게 하죠??      0   \n",
              "5                                 음악이 주가 된, 최고의 음악영화      1   \n",
              "7           마치 미국애니에서 튀어나온듯한 창의력없는 로봇디자인부터가,고개를 젖게한다      0   \n",
              "\n",
              "                                              tokens  \n",
              "2  [54, 18, 46, 13, 456, 16, 34, 35, 26, 605, 314...  \n",
              "3      [78, 16, 34, 238, 128, 340, 3, 140, 22, 5, 4]  \n",
              "4  [41, 10, 243, 191, 1942, 109, 22, 10, 671, 188...  \n",
              "5                        [216, 3476, 45, 49, 216, 2]  \n",
              "7  [1060, 395, 372, 4329, 282, 11, 6400, 17, 1378...  "
            ]
          },
          "execution_count": 21,
          "metadata": {},
          "output_type": "execute_result"
        }
      ],
      "source": [
        "test_df.head()"
      ]
    },
    {
      "cell_type": "code",
      "execution_count": null,
      "metadata": {
        "id": "Ak108Xv_5eeM",
        "outputId": "69cb5f14-edf7-45e6-944b-c01deb11dbc7"
      },
      "outputs": [
        {
          "name": "stdout",
          "output_type": "stream",
          "text": [
            "X_train shape:  (136927,)\n",
            "Y_train shape:  (136927,)\n",
            "\n",
            "X_test shape:  (45780,)\n",
            "Y_test shape:  (45780,)\n"
          ]
        }
      ],
      "source": [
        "X_train = train_df.tokens\n",
        "Y_train = train_df.label\n",
        "\n",
        "X_test = test_df.tokens\n",
        "Y_test = test_df.label\n",
        "\n",
        "print('X_train shape: ', X_train.shape)\n",
        "print('Y_train shape: ', Y_train.shape)\n",
        "print('\\nX_test shape: ', X_test.shape)\n",
        "print('Y_test shape: ', Y_test.shape)"
      ]
    },
    {
      "cell_type": "markdown",
      "metadata": {
        "id": "6gVxjmlc5eeM"
      },
      "source": [
        "#### Padding\n",
        "\n",
        "Time step은 40으로 고정한다. 리뷰마다 토큰의 수가 다르므로 40이 안되면 0으로 채우고(padding) 40이 넘으면 그 이상은 잘라 버린다(clipping)"
      ]
    },
    {
      "cell_type": "code",
      "execution_count": null,
      "metadata": {
        "id": "3Zfn9-Iv5eeM",
        "outputId": "25ce4ddb-a821-4ad4-992d-6bcca1652b05"
      },
      "outputs": [
        {
          "name": "stdout",
          "output_type": "stream",
          "text": [
            "X_train shape:  (136927, 40)\n",
            "X_test shape:  (45780, 40)\n"
          ]
        }
      ],
      "source": [
        "from tensorflow.keras.preprocessing.sequence import pad_sequences\n",
        "\n",
        "max_len=40\n",
        "X_train = pad_sequences(X_train, maxlen=max_len)\n",
        "X_test = pad_sequences(X_test, maxlen=max_len)\n",
        "\n",
        "print('X_train shape: ', X_train.shape)\n",
        "print('X_test shape: ', X_test.shape)"
      ]
    },
    {
      "cell_type": "markdown",
      "metadata": {
        "id": "glVC1_m75eeM"
      },
      "source": [
        "#### 이진 분류 (Binary classification)\n",
        "\n",
        "출력 데이터를 0과 1로 변환한다.  "
      ]
    },
    {
      "cell_type": "code",
      "execution_count": null,
      "metadata": {
        "id": "85BtwaG35eeM",
        "outputId": "ce4c3ce4-f810-4882-9ff6-fd7989e7df54"
      },
      "outputs": [
        {
          "name": "stdout",
          "output_type": "stream",
          "text": [
            "(136927, 1)\n",
            "(45780, 1)\n"
          ]
        }
      ],
      "source": [
        "from sklearn.preprocessing import LabelEncoder\n",
        "\n",
        "encoder = LabelEncoder()\n",
        "# Train\n",
        "batch_size = Y_train.shape[0]\n",
        "input_dim = 1\n",
        "Y_train = encoder.fit_transform(Y_train) # Labeling\n",
        "Y_train = np.reshape(Y_train, (batch_size, input_dim)) # Reshape\n",
        "# Test\n",
        "batch_size = Y_test.shape[0]\n",
        "Y_test = encoder.transform(Y_test) # Labeling\n",
        "Y_test = np.reshape(Y_test, (batch_size, input_dim)) # Reshape\n",
        "\n",
        "print(Y_train.shape)\n",
        "print(Y_test.shape)"
      ]
    },
    {
      "cell_type": "markdown",
      "metadata": {
        "id": "p4ZhSsm75eeM"
      },
      "source": [
        "### 모델링 (Modeling)"
      ]
    },
    {
      "cell_type": "code",
      "execution_count": null,
      "metadata": {
        "id": "7XXMYxlJ5eeM"
      },
      "outputs": [],
      "source": [
        "from tensorflow.keras import Sequential\n",
        "from tensorflow.keras.layers import Dense, Embedding, LSTM\n",
        "\n",
        "model = Sequential()\n",
        "model.add(Embedding(max_words, 128))\n",
        "model.add(LSTM(128, dropout=0.2, recurrent_dropout=0.2))\n",
        "model.add(Dense(1, activation='sigmoid'))\n",
        "model.compile(loss='binary_crossentropy', optimizer='adam', metrics=['accuracy'])"
      ]
    },
    {
      "cell_type": "markdown",
      "metadata": {
        "id": "Vdo6mYH75eeN"
      },
      "source": [
        "### 모델 훈련 (Train Model)\n",
        "\n",
        "커피 한잔 하세여~ ☕️"
      ]
    },
    {
      "cell_type": "code",
      "execution_count": null,
      "metadata": {
        "id": "Ll_wtqE25eeN",
        "outputId": "8a433fd5-afd1-4244-8fea-7f9891a256e5"
      },
      "outputs": [
        {
          "name": "stdout",
          "output_type": "stream",
          "text": [
            "Epoch 1/5\n",
            "136927/136927 [==============================] - 429s 3ms/sample - loss: 0.3903 - acc: 0.8231\n",
            "Epoch 2/5\n",
            "136927/136927 [==============================] - 429s 3ms/sample - loss: 0.3104 - acc: 0.8662\n",
            "Epoch 3/5\n",
            "136927/136927 [==============================] - 430s 3ms/sample - loss: 0.2687 - acc: 0.8867\n",
            "Epoch 4/5\n",
            "136927/136927 [==============================] - 430s 3ms/sample - loss: 0.2322 - acc: 0.9037\n",
            "Epoch 5/5\n",
            "136927/136927 [==============================] - 430s 3ms/sample - loss: 0.1984 - acc: 0.9197\n"
          ]
        }
      ],
      "source": [
        "hist = model.fit(X_train, Y_train, batch_size=32, epochs=5)"
      ]
    },
    {
      "cell_type": "markdown",
      "metadata": {
        "id": "cas63RCr5eeN"
      },
      "source": [
        "### 모델 테스트 (Test Model)"
      ]
    },
    {
      "cell_type": "code",
      "execution_count": null,
      "metadata": {
        "id": "d3p_MLAX5eeN",
        "outputId": "20cb2b8b-eae8-4f30-ad04-b87d186cdc8a"
      },
      "outputs": [
        {
          "name": "stdout",
          "output_type": "stream",
          "text": [
            "45780/45780 [==============================] - 24s 519us/sample - loss: 0.4006 - acc: 0.8480\n",
            "Test loss: 0.4006009472697622\n",
            "Test accuracy: 0.8479904\n"
          ]
        }
      ],
      "source": [
        "loss, acc = model.evaluate(X_test, Y_test, batch_size=32)\n",
        "\n",
        "print('Test loss:', loss)\n",
        "print('Test accuracy:', acc)"
      ]
    },
    {
      "cell_type": "markdown",
      "metadata": {
        "id": "WkhPEhxj5eeN"
      },
      "source": [
        "### 모델 저장 (Save Model)"
      ]
    },
    {
      "cell_type": "code",
      "execution_count": null,
      "metadata": {
        "id": "1y27lyED5eeN",
        "outputId": "18e6db9d-37d5-4d4c-ea32-e388099bb816"
      },
      "outputs": [
        {
          "name": "stdout",
          "output_type": "stream",
          "text": [
            "Saved trained model at /home/dataman/myWork/deeplearning/keras_naver_review_trained_model.h5 \n"
          ]
        }
      ],
      "source": [
        "import os\n",
        "\n",
        "save_dir = os.getcwd()\n",
        "model_name = 'keras_naver_review_trained_model.h5'\n",
        "\n",
        "# Save model and weights\n",
        "model_path = os.path.join(save_dir, model_name)\n",
        "model.save(model_path)\n",
        "print('Saved trained model at %s ' % model_path)"
      ]
    },
    {
      "cell_type": "markdown",
      "metadata": {
        "id": "OWCaNwhY5eeN"
      },
      "source": [
        "## 해결 (Solution)\n",
        "\n",
        "⚙️ 엔지니어\n",
        "  \n",
        "> review_text에 리뷰를 적어서 실행하면   \n",
        "> 감성 분석 예측 결과가 나옵니다.   \n",
        "> 정확도는 84% 입니다.  "
      ]
    },
    {
      "cell_type": "code",
      "execution_count": null,
      "metadata": {
        "id": "p_UBW7_A5eeN"
      },
      "outputs": [],
      "source": [
        "from  tensorflow.keras.models import load_model\n",
        "import os\n",
        "import pickle\n",
        "\n",
        "def load_tokenizer(path):\n",
        "    with open(path, 'rb') as f:\n",
        "        tokenizer = pickle.load(f)\n",
        "    return tokenizer\n",
        "\n",
        "load_dir = os.getcwd()\n",
        "model_name = 'keras_naver_review_trained_model.h5'\n",
        "tokenizer_name = 'keras_naver_review_tokenizer.pickle'\n",
        "model_path = os.path.join(load_dir, model_name)\n",
        "tokenizer_path = os.path.join(load_dir, tokenizer_name)\n",
        "\n",
        "model = load_model(model_path)\n",
        "tokenizer = load_tokenizer(tokenizer_path)\n"
      ]
    },
    {
      "cell_type": "code",
      "execution_count": null,
      "metadata": {
        "id": "tegIECQK5eeO",
        "outputId": "84f5f6b7-2bdd-4356-8cc9-10e88237e477"
      },
      "outputs": [
        {
          "name": "stdout",
          "output_type": "stream",
          "text": [
            "재미있는영화입니다. : GOOD\n"
          ]
        }
      ],
      "source": [
        "import numpy as np\n",
        "from PyKomoran import *\n",
        "from tensorflow.keras.preprocessing.sequence import pad_sequences\n",
        "\n",
        "max_len=40\n",
        "komoran = Komoran(\"STABLE\")\n",
        "stop_pos_tags =  ['IC', 'JKS', 'JKC', 'JKG', 'JKO', 'JKB', 'JKV', 'JKQ', 'JX', \n",
        "                   'EF', 'ETN', 'ETM', 'XSA', 'SF', 'SP', 'SS', 'SE', 'SO', 'SL', 'SH', \n",
        "                   'SW', 'NF', 'NV', 'SN', 'NA']\n",
        "\n",
        "def tokenize(corpus, stop_pos_tags):\n",
        "    result = []\n",
        "    pairs = komoran.get_list(corpus)\n",
        "    for pair in pairs:\n",
        "        morph = pair.get_first()\n",
        "        pos = pair.get_second()\n",
        "        if pos not in stop_pos_tags:\n",
        "            if pos in ['VV', 'VA', 'VX', 'VCP', 'VCN']:\n",
        "                morph = morph + '다'\n",
        "            result.append(morph)\n",
        "    return result\n",
        "\n",
        "def predict_sentiment(text, model):\n",
        "    tokens = []\n",
        "    tokens.append(tokenize(text, stop_pos_tags))\n",
        "    tokens = tokenizer.texts_to_sequences(tokens)\n",
        "    x_test = pad_sequences(tokens, maxlen=max_len)\n",
        "    predict = model.predict(x_test)\n",
        "    if predict[0] > 0.5:\n",
        "        return 'GOOD'\n",
        "    else:\n",
        "        return 'BAD'\n",
        "\n",
        "review_text = '재미있는영화입니다.'\n",
        "result = predict_sentiment(review_text, model)\n",
        "\n",
        "print('{} : {}'.format(review_text, result))\n"
      ]
    }
  ],
  "metadata": {
    "kernelspec": {
      "display_name": "Python 3",
      "language": "python",
      "name": "python3"
    },
    "language_info": {
      "codemirror_mode": {
        "name": "ipython",
        "version": 3
      },
      "file_extension": ".py",
      "mimetype": "text/x-python",
      "name": "python",
      "nbconvert_exporter": "python",
      "pygments_lexer": "ipython3",
      "version": "3.7.3"
    },
    "colab": {
      "provenance": []
    }
  },
  "nbformat": 4,
  "nbformat_minor": 0
}