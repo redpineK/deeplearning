{
  "nbformat": 4,
  "nbformat_minor": 0,
  "metadata": {
    "colab": {
      "provenance": [],
      "include_colab_link": true
    },
    "kernelspec": {
      "name": "python3",
      "display_name": "Python 3"
    },
    "language_info": {
      "name": "python"
    },
    "accelerator": "GPU",
    "gpuClass": "standard"
  },
  "cells": [
    {
      "cell_type": "markdown",
      "metadata": {
        "id": "view-in-github",
        "colab_type": "text"
      },
      "source": [
        "<a href=\"https://colab.research.google.com/github/redpineK/deeplearning/blob/master/foodcalorie001.ipynb\" target=\"_parent\"><img src=\"https://colab.research.google.com/assets/colab-badge.svg\" alt=\"Open In Colab\"/></a>"
      ]
    },
    {
      "cell_type": "code",
      "source": [
        "from google.colab import drive\n",
        "drive.mount('/gdrive')"
      ],
      "metadata": {
        "colab": {
          "base_uri": "https://localhost:8080/"
        },
        "id": "3RHpjTuehlPN",
        "outputId": "57e9f5da-f3a2-4e47-defa-bd893b950bee"
      },
      "execution_count": 1,
      "outputs": [
        {
          "output_type": "stream",
          "name": "stdout",
          "text": [
            "Mounted at /gdrive\n"
          ]
        }
      ]
    },
    {
      "cell_type": "code",
      "source": [
        "with open('/gdrive/My Drive/foo.txt', 'w') as f:\n",
        "  f.write('Hello Google Drive!')\n",
        "!cat '/gdrive/My Drive/foo.txt'"
      ],
      "metadata": {
        "colab": {
          "base_uri": "https://localhost:8080/"
        },
        "id": "T4WnLBirhlPS",
        "outputId": "70881b76-6de9-4636-9ccc-394bec8bf40f"
      },
      "execution_count": 2,
      "outputs": [
        {
          "output_type": "stream",
          "name": "stdout",
          "text": [
            "Hello Google Drive!"
          ]
        }
      ]
    },
    {
      "cell_type": "code",
      "source": [
        "%pwd"
      ],
      "metadata": {
        "colab": {
          "base_uri": "https://localhost:8080/",
          "height": 36
        },
        "id": "LI3JdRRghu58",
        "outputId": "b6121eea-2955-460c-a30f-6a2c2d855769"
      },
      "execution_count": 3,
      "outputs": [
        {
          "output_type": "execute_result",
          "data": {
            "text/plain": [
              "'/content'"
            ],
            "application/vnd.google.colaboratory.intrinsic+json": {
              "type": "string"
            }
          },
          "metadata": {},
          "execution_count": 3
        }
      ]
    },
    {
      "cell_type": "code",
      "source": [
        "# from google.colab import drive \n",
        "# drive.mount('/content/gdrive')"
      ],
      "metadata": {
        "colab": {
          "base_uri": "https://localhost:8080/"
        },
        "id": "3-cwSekxxEne",
        "outputId": "813ca1c9-a770-49cd-86e0-4e34035a9928"
      },
      "execution_count": 1,
      "outputs": [
        {
          "output_type": "stream",
          "name": "stdout",
          "text": [
            "Mounted at /content/gdrive\n"
          ]
        }
      ]
    },
    {
      "cell_type": "code",
      "source": [
        "%pwd"
      ],
      "metadata": {
        "colab": {
          "base_uri": "https://localhost:8080/",
          "height": 36
        },
        "id": "ls9m0uryhJTF",
        "outputId": "6e2579f9-4edc-45cb-fc80-43c9cad1876a"
      },
      "execution_count": 4,
      "outputs": [
        {
          "output_type": "execute_result",
          "data": {
            "text/plain": [
              "'/content'"
            ],
            "application/vnd.google.colaboratory.intrinsic+json": {
              "type": "string"
            }
          },
          "metadata": {},
          "execution_count": 4
        }
      ]
    },
    {
      "cell_type": "code",
      "execution_count": 5,
      "metadata": {
        "id": "19ofLfEytMyB",
        "colab": {
          "base_uri": "https://localhost:8080/"
        },
        "outputId": "c11b1612-9e99-4c01-8f96-fdd1bea7f4a7"
      },
      "outputs": [
        {
          "output_type": "stream",
          "name": "stdout",
          "text": [
            "Looking in indexes: https://pypi.org/simple, https://us-python.pkg.dev/colab-wheels/public/simple/\n",
            "Requirement already satisfied: numpy in /usr/local/lib/python3.7/dist-packages (1.21.6)\n",
            "Looking in indexes: https://pypi.org/simple, https://us-python.pkg.dev/colab-wheels/public/simple/\n",
            "Requirement already satisfied: matplotlib in /usr/local/lib/python3.7/dist-packages (3.2.2)\n",
            "Requirement already satisfied: kiwisolver>=1.0.1 in /usr/local/lib/python3.7/dist-packages (from matplotlib) (1.4.4)\n",
            "Requirement already satisfied: pyparsing!=2.0.4,!=2.1.2,!=2.1.6,>=2.0.1 in /usr/local/lib/python3.7/dist-packages (from matplotlib) (3.0.9)\n",
            "Requirement already satisfied: python-dateutil>=2.1 in /usr/local/lib/python3.7/dist-packages (from matplotlib) (2.8.2)\n",
            "Requirement already satisfied: cycler>=0.10 in /usr/local/lib/python3.7/dist-packages (from matplotlib) (0.11.0)\n",
            "Requirement already satisfied: numpy>=1.11 in /usr/local/lib/python3.7/dist-packages (from matplotlib) (1.21.6)\n",
            "Requirement already satisfied: typing-extensions in /usr/local/lib/python3.7/dist-packages (from kiwisolver>=1.0.1->matplotlib) (4.1.1)\n",
            "Requirement already satisfied: six>=1.5 in /usr/local/lib/python3.7/dist-packages (from python-dateutil>=2.1->matplotlib) (1.15.0)\n",
            "Looking in indexes: https://pypi.org/simple, https://us-python.pkg.dev/colab-wheels/public/simple/\n",
            "Requirement already satisfied: opencv-python in /usr/local/lib/python3.7/dist-packages (4.6.0.66)\n",
            "Requirement already satisfied: numpy>=1.14.5 in /usr/local/lib/python3.7/dist-packages (from opencv-python) (1.21.6)\n",
            "Looking in indexes: https://pypi.org/simple, https://us-python.pkg.dev/colab-wheels/public/simple/\n",
            "\u001b[31mERROR: Could not find a version that satisfies the requirement os (from versions: none)\u001b[0m\n",
            "\u001b[31mERROR: No matching distribution found for os\u001b[0m\n",
            "Looking in indexes: https://pypi.org/simple, https://us-python.pkg.dev/colab-wheels/public/simple/\n",
            "\u001b[31mERROR: Could not find a version that satisfies the requirement glob (from versions: none)\u001b[0m\n",
            "\u001b[31mERROR: No matching distribution found for glob\u001b[0m\n",
            "Looking in indexes: https://pypi.org/simple, https://us-python.pkg.dev/colab-wheels/public/simple/\n",
            "Collecting tflearn\n",
            "  Downloading tflearn-0.5.0.tar.gz (107 kB)\n",
            "\u001b[K     |████████████████████████████████| 107 kB 15.8 MB/s \n",
            "\u001b[?25hRequirement already satisfied: numpy in /usr/local/lib/python3.7/dist-packages (from tflearn) (1.21.6)\n",
            "Requirement already satisfied: six in /usr/local/lib/python3.7/dist-packages (from tflearn) (1.15.0)\n",
            "Requirement already satisfied: Pillow in /usr/local/lib/python3.7/dist-packages (from tflearn) (7.1.2)\n",
            "Building wheels for collected packages: tflearn\n",
            "  Building wheel for tflearn (setup.py) ... \u001b[?25l\u001b[?25hdone\n",
            "  Created wheel for tflearn: filename=tflearn-0.5.0-py3-none-any.whl size=127299 sha256=1c8094e52aefafb4ea4cebfc5c104391de2757185f78871e1b547e7b396ee703\n",
            "  Stored in directory: /root/.cache/pip/wheels/5f/14/2e/1d8e28cc47a5a931a2fb82438c9e37ef9246cc6a3774520271\n",
            "Successfully built tflearn\n",
            "Installing collected packages: tflearn\n",
            "Successfully installed tflearn-0.5.0\n",
            "Looking in indexes: https://pypi.org/simple, https://us-python.pkg.dev/colab-wheels/public/simple/\n",
            "Requirement already satisfied: tensorflow in /usr/local/lib/python3.7/dist-packages (2.9.2)\n",
            "Requirement already satisfied: wrapt>=1.11.0 in /usr/local/lib/python3.7/dist-packages (from tensorflow) (1.14.1)\n",
            "Requirement already satisfied: astunparse>=1.6.0 in /usr/local/lib/python3.7/dist-packages (from tensorflow) (1.6.3)\n",
            "Requirement already satisfied: termcolor>=1.1.0 in /usr/local/lib/python3.7/dist-packages (from tensorflow) (2.0.1)\n",
            "Requirement already satisfied: absl-py>=1.0.0 in /usr/local/lib/python3.7/dist-packages (from tensorflow) (1.3.0)\n",
            "Requirement already satisfied: flatbuffers<2,>=1.12 in /usr/local/lib/python3.7/dist-packages (from tensorflow) (1.12)\n",
            "Requirement already satisfied: numpy>=1.20 in /usr/local/lib/python3.7/dist-packages (from tensorflow) (1.21.6)\n",
            "Requirement already satisfied: libclang>=13.0.0 in /usr/local/lib/python3.7/dist-packages (from tensorflow) (14.0.6)\n",
            "Requirement already satisfied: packaging in /usr/local/lib/python3.7/dist-packages (from tensorflow) (21.3)\n",
            "Requirement already satisfied: typing-extensions>=3.6.6 in /usr/local/lib/python3.7/dist-packages (from tensorflow) (4.1.1)\n",
            "Requirement already satisfied: protobuf<3.20,>=3.9.2 in /usr/local/lib/python3.7/dist-packages (from tensorflow) (3.17.3)\n",
            "Requirement already satisfied: keras<2.10.0,>=2.9.0rc0 in /usr/local/lib/python3.7/dist-packages (from tensorflow) (2.9.0)\n",
            "Requirement already satisfied: tensorboard<2.10,>=2.9 in /usr/local/lib/python3.7/dist-packages (from tensorflow) (2.9.1)\n",
            "Requirement already satisfied: gast<=0.4.0,>=0.2.1 in /usr/local/lib/python3.7/dist-packages (from tensorflow) (0.4.0)\n",
            "Requirement already satisfied: keras-preprocessing>=1.1.1 in /usr/local/lib/python3.7/dist-packages (from tensorflow) (1.1.2)\n",
            "Requirement already satisfied: tensorflow-io-gcs-filesystem>=0.23.1 in /usr/local/lib/python3.7/dist-packages (from tensorflow) (0.27.0)\n",
            "Requirement already satisfied: google-pasta>=0.1.1 in /usr/local/lib/python3.7/dist-packages (from tensorflow) (0.2.0)\n",
            "Requirement already satisfied: h5py>=2.9.0 in /usr/local/lib/python3.7/dist-packages (from tensorflow) (3.1.0)\n",
            "Requirement already satisfied: tensorflow-estimator<2.10.0,>=2.9.0rc0 in /usr/local/lib/python3.7/dist-packages (from tensorflow) (2.9.0)\n",
            "Requirement already satisfied: setuptools in /usr/local/lib/python3.7/dist-packages (from tensorflow) (57.4.0)\n",
            "Requirement already satisfied: grpcio<2.0,>=1.24.3 in /usr/local/lib/python3.7/dist-packages (from tensorflow) (1.50.0)\n",
            "Requirement already satisfied: six>=1.12.0 in /usr/local/lib/python3.7/dist-packages (from tensorflow) (1.15.0)\n",
            "Requirement already satisfied: opt-einsum>=2.3.2 in /usr/local/lib/python3.7/dist-packages (from tensorflow) (3.3.0)\n",
            "Requirement already satisfied: wheel<1.0,>=0.23.0 in /usr/local/lib/python3.7/dist-packages (from astunparse>=1.6.0->tensorflow) (0.37.1)\n",
            "Requirement already satisfied: cached-property in /usr/local/lib/python3.7/dist-packages (from h5py>=2.9.0->tensorflow) (1.5.2)\n",
            "Requirement already satisfied: google-auth-oauthlib<0.5,>=0.4.1 in /usr/local/lib/python3.7/dist-packages (from tensorboard<2.10,>=2.9->tensorflow) (0.4.6)\n",
            "Requirement already satisfied: google-auth<3,>=1.6.3 in /usr/local/lib/python3.7/dist-packages (from tensorboard<2.10,>=2.9->tensorflow) (1.35.0)\n",
            "Requirement already satisfied: tensorboard-data-server<0.7.0,>=0.6.0 in /usr/local/lib/python3.7/dist-packages (from tensorboard<2.10,>=2.9->tensorflow) (0.6.1)\n",
            "Requirement already satisfied: werkzeug>=1.0.1 in /usr/local/lib/python3.7/dist-packages (from tensorboard<2.10,>=2.9->tensorflow) (1.0.1)\n",
            "Requirement already satisfied: requests<3,>=2.21.0 in /usr/local/lib/python3.7/dist-packages (from tensorboard<2.10,>=2.9->tensorflow) (2.23.0)\n",
            "Requirement already satisfied: tensorboard-plugin-wit>=1.6.0 in /usr/local/lib/python3.7/dist-packages (from tensorboard<2.10,>=2.9->tensorflow) (1.8.1)\n",
            "Requirement already satisfied: markdown>=2.6.8 in /usr/local/lib/python3.7/dist-packages (from tensorboard<2.10,>=2.9->tensorflow) (3.4.1)\n",
            "Requirement already satisfied: pyasn1-modules>=0.2.1 in /usr/local/lib/python3.7/dist-packages (from google-auth<3,>=1.6.3->tensorboard<2.10,>=2.9->tensorflow) (0.2.8)\n",
            "Requirement already satisfied: rsa<5,>=3.1.4 in /usr/local/lib/python3.7/dist-packages (from google-auth<3,>=1.6.3->tensorboard<2.10,>=2.9->tensorflow) (4.9)\n",
            "Requirement already satisfied: cachetools<5.0,>=2.0.0 in /usr/local/lib/python3.7/dist-packages (from google-auth<3,>=1.6.3->tensorboard<2.10,>=2.9->tensorflow) (4.2.4)\n",
            "Requirement already satisfied: requests-oauthlib>=0.7.0 in /usr/local/lib/python3.7/dist-packages (from google-auth-oauthlib<0.5,>=0.4.1->tensorboard<2.10,>=2.9->tensorflow) (1.3.1)\n",
            "Requirement already satisfied: importlib-metadata>=4.4 in /usr/local/lib/python3.7/dist-packages (from markdown>=2.6.8->tensorboard<2.10,>=2.9->tensorflow) (4.13.0)\n",
            "Requirement already satisfied: zipp>=0.5 in /usr/local/lib/python3.7/dist-packages (from importlib-metadata>=4.4->markdown>=2.6.8->tensorboard<2.10,>=2.9->tensorflow) (3.9.0)\n",
            "Requirement already satisfied: pyasn1<0.5.0,>=0.4.6 in /usr/local/lib/python3.7/dist-packages (from pyasn1-modules>=0.2.1->google-auth<3,>=1.6.3->tensorboard<2.10,>=2.9->tensorflow) (0.4.8)\n",
            "Requirement already satisfied: urllib3!=1.25.0,!=1.25.1,<1.26,>=1.21.1 in /usr/local/lib/python3.7/dist-packages (from requests<3,>=2.21.0->tensorboard<2.10,>=2.9->tensorflow) (1.24.3)\n",
            "Requirement already satisfied: chardet<4,>=3.0.2 in /usr/local/lib/python3.7/dist-packages (from requests<3,>=2.21.0->tensorboard<2.10,>=2.9->tensorflow) (3.0.4)\n",
            "Requirement already satisfied: certifi>=2017.4.17 in /usr/local/lib/python3.7/dist-packages (from requests<3,>=2.21.0->tensorboard<2.10,>=2.9->tensorflow) (2022.9.24)\n",
            "Requirement already satisfied: idna<3,>=2.5 in /usr/local/lib/python3.7/dist-packages (from requests<3,>=2.21.0->tensorboard<2.10,>=2.9->tensorflow) (2.10)\n",
            "Requirement already satisfied: oauthlib>=3.0.0 in /usr/local/lib/python3.7/dist-packages (from requests-oauthlib>=0.7.0->google-auth-oauthlib<0.5,>=0.4.1->tensorboard<2.10,>=2.9->tensorflow) (3.2.2)\n",
            "Requirement already satisfied: pyparsing!=3.0.5,>=2.0.2 in /usr/local/lib/python3.7/dist-packages (from packaging->tensorflow) (3.0.9)\n"
          ]
        }
      ],
      "source": [
        "#설치 명령어\n",
        "!pip install numpy\n",
        "!pip install matplotlib\n",
        "!pip install opencv-python\n",
        "!pip install os\n",
        "!pip install glob\n",
        "!pip install tflearn\n",
        "!pip install tensorflow\n"
      ]
    },
    {
      "cell_type": "code",
      "source": [
        "#cnn_model 파일\n",
        "import tflearn\n",
        "from tflearn.layers.conv import conv_2d, max_pool_2d\n",
        "from tflearn.layers.core import input_data, dropout, fully_connected\n",
        "from tflearn.layers.estimator import regression\n",
        "import tensorflow as tf\n",
        "\n",
        "def get_model(IMG_SIZE,no_of_fruits,LR):\n",
        "\ttry:\n",
        "\t\ttf.reset_default_graph()\n",
        "\texcept:\n",
        "\t\tprint(\"tensorflow\")\n",
        "\tconvnet = input_data(shape=[None, IMG_SIZE, IMG_SIZE, 3], name='input')\n",
        "\n",
        "\tconvnet = conv_2d(convnet, 32, 5, activation='relu')\n",
        "\n",
        "\tconvnet = max_pool_2d(convnet, 5)\n",
        "\n",
        "\tconvnet = conv_2d(convnet, 64, 5, activation='relu')\n",
        "\n",
        "\tconvnet = max_pool_2d(convnet, 5)\n",
        "\n",
        "\tconvnet = conv_2d(convnet, 128, 5, activation='relu')\n",
        "\tconvnet = max_pool_2d(convnet, 5)\n",
        "\n",
        "\tconvnet = conv_2d(convnet, 64, 5, activation='relu')\n",
        "\tconvnet = max_pool_2d(convnet, 5)\n",
        "\n",
        "\n",
        "\tconvnet = conv_2d(convnet, 32, 5, activation='relu')\n",
        "\tconvnet = max_pool_2d(convnet, 5)\n",
        "\n",
        "\tconvnet = fully_connected(convnet, 1024, activation='relu')\n",
        "\tconvnet = dropout(convnet, 0.8)\n",
        "\n",
        "\tconvnet = fully_connected(convnet, no_of_fruits, activation='softmax')\n",
        "\tconvnet = regression(convnet, optimizer='adam', learning_rate=LR, loss='categorical_crossentropy', name='targets')\n",
        "\n",
        "\tmodel = tflearn.DNN(convnet, tensorboard_dir='log')\n",
        "\n",
        "\treturn model\n"
      ],
      "metadata": {
        "id": "9EaE9Pe8t-E1"
      },
      "execution_count": 7,
      "outputs": []
    },
    {
      "cell_type": "code",
      "source": [],
      "metadata": {
        "id": "lslAgbXvkMVU"
      },
      "execution_count": null,
      "outputs": []
    },
    {
      "cell_type": "code",
      "source": [
        "%whos"
      ],
      "metadata": {
        "colab": {
          "base_uri": "https://localhost:8080/"
        },
        "id": "HwvJc_KLjg51",
        "outputId": "4b198eae-99ae-4df0-c0bc-4e6514da254f"
      },
      "execution_count": 8,
      "outputs": [
        {
          "output_type": "stream",
          "name": "stdout",
          "text": [
            "Variable          Type             Data/Info\n",
            "--------------------------------------------\n",
            "conv_2d           function         <function conv_2d at 0x7fe57933b4d0>\n",
            "drive             module           <module 'google.colab.dri<...>s/google/colab/drive.py'>\n",
            "dropout           function         <function dropout at 0x7fe579356950>\n",
            "f                 TextIOWrapper    <_io.TextIOWrapper name='<...>ode='w' encoding='UTF-8'>\n",
            "fully_connected   function         <function fully_connected at 0x7fe579353560>\n",
            "get_model         function         <function get_model at 0x7fe5de13e7a0>\n",
            "input_data        function         <function input_data at 0x7fe5793535f0>\n",
            "max_pool_2d       function         <function max_pool_2d at 0x7fe5793519e0>\n",
            "regression        function         <function regression at 0x7fe579356f80>\n",
            "tf                module           <module 'tensorflow' from<...>/tensorflow/__init__.py'>\n",
            "tflearn           module           <module 'tflearn' from '/<...>ges/tflearn/__init__.py'>\n"
          ]
        }
      ]
    },
    {
      "cell_type": "code",
      "source": [
        "save_dir = './FOODD'\n",
        "if not os.path.exists(save_dir):\n",
        "    os.makedirs(save_dir)"
      ],
      "metadata": {
        "id": "Gd7BFEqdld9c"
      },
      "execution_count": null,
      "outputs": []
    },
    {
      "cell_type": "code",
      "source": [
        "#train 파일\n",
        "# -*- coding: utf-8 -*-\n",
        "\"\"\"\n",
        "Created on Thu Mar 28 09:31:30 2019\n",
        "\n",
        "@author:vinayak sable \n",
        "\"\"\"\n",
        "\n",
        "import numpy as np         # dealing with arrays\n",
        "import os                  # dealing with directories\n",
        "from random import shuffle # mixing up or currently ordered data that might lead our network astray in training.\n",
        "import glob\n",
        "import cv2\n",
        "#from cnn_model 아래 함수 불러오기가 안됨(다른 파트에서 import할 수 있도록 함수명만 남김)\n",
        "# import get_model\n",
        "\n",
        "path = r'./FOODD'\n",
        "IMG_SIZE = 400\n",
        "LR = 1e-3\n",
        "#Fruits_dectector-{}-{}.model\n",
        "MODEL_NAME = 'Fruits_dectector-{}-{}.model'.format(LR, '5conv-basic')\n",
        "no_of_fruits=7\n",
        "percentage=0.3\n",
        "no_of_images=100\n",
        "\n",
        "def create_train_data(path):\n",
        "    training_data = []\n",
        "    folders=os.listdir(path)[0:no_of_fruits]\n",
        "    for i in range(len(folders)):\n",
        "        label = [0 for i in range(no_of_fruits)]\n",
        "        label[i] = 1\n",
        "        print(folders[i])\n",
        "        k=0\n",
        "        for j in glob.glob(path+\"\\\\\"+folders[i]+\"\\\\*.jpg\"):            \n",
        "            if(k==no_of_images):\n",
        "                break\n",
        "            k=k+1\n",
        "            img = cv2.imread(j)\n",
        "            img = cv2.resize(img, (IMG_SIZE,IMG_SIZE))\n",
        "            training_data.append([np.array(img),np.array(label)])\n",
        "    np.save('training_{}_{}_{}.npz'.format(no_of_fruits,no_of_images,IMG_SIZE),training_data)\n",
        "    shuffle(training_data)\n",
        "    return training_data,folders\n",
        "\n",
        "training_data,labels=create_train_data(path)\n",
        "# training_data=np.load('training_{}_{}_{}.npz'.format(no_of_fruits,no_of_images,IMG_SIZE))\n",
        "size=int(len(training_data)*percentage)\n",
        "train = training_data[:-size]\n",
        "test=training_data[-size:]\n",
        "\n",
        "X = np.array([i[0] for i in train]).reshape(-1,IMG_SIZE,IMG_SIZE,3)\n",
        "Y = [i[1] for i in train]\n",
        "\n",
        "test_x = np.array([i[0] for i in test]).reshape(-1,IMG_SIZE,IMG_SIZE,3)\n",
        "test_y = [i[1] for i in test]\n",
        "\n",
        "model=get_model(IMG_SIZE,no_of_fruits,LR)\n",
        "\n",
        "model.fit({'input': X}, {'targets': Y}, n_epoch=10, validation_set=({'input': test_x}, {'targets': test_y}), \n",
        "    snapshot_step=500, show_metric=True, run_id=MODEL_NAME)\n",
        "\n",
        "model_save_at=os.path.join(\"model\",MODEL_NAME)\n",
        "model.save(model_save_at)\n",
        "print(\"Model Save At\",model_save_at)"
      ],
      "metadata": {
        "colab": {
          "base_uri": "https://localhost:8080/"
        },
        "id": "peWhOPuzzUyt",
        "outputId": "b94627df-62f9-4d1a-8ae2-ce88be6cf1f6"
      },
      "execution_count": 11,
      "outputs": [
        {
          "output_type": "stream",
          "name": "stderr",
          "text": [
            "WARNING:tensorflow:From /usr/local/lib/python3.7/dist-packages/tflearn/initializations.py:110: calling UniformUnitScaling.__init__ (from tensorflow.python.ops.init_ops) with dtype is deprecated and will be removed in a future version.\n",
            "Instructions for updating:\n",
            "Call initializer instance with the dtype argument instead of passing it to the constructor\n",
            "WARNING:tensorflow:From /usr/local/lib/python3.7/dist-packages/tensorflow/python/util/deprecation.py:561: UniformUnitScaling.__init__ (from tensorflow.python.ops.init_ops) is deprecated and will be removed in a future version.\n",
            "Instructions for updating:\n",
            "Use tf.initializers.variance_scaling instead with distribution=uniform to get equivalent behavior.\n",
            "WARNING:tensorflow:From /usr/local/lib/python3.7/dist-packages/tflearn/initializations.py:165: calling TruncatedNormal.__init__ (from tensorflow.python.ops.init_ops) with dtype is deprecated and will be removed in a future version.\n",
            "Instructions for updating:\n",
            "Call initializer instance with the dtype argument instead of passing it to the constructor\n",
            "WARNING:tensorflow:From /usr/local/lib/python3.7/dist-packages/tensorflow/python/util/dispatch.py:1082: calling dropout (from tensorflow.python.ops.nn_ops) with keep_prob is deprecated and will be removed in a future version.\n",
            "Instructions for updating:\n",
            "Please use `rate` instead of `keep_prob`. Rate should be set to `rate = 1 - keep_prob`.\n"
          ]
        },
        {
          "output_type": "stream",
          "name": "stdout",
          "text": [
            "tensorflow\n",
            "---------------------------------\n",
            "Run id: Fruits_dectector-0.001-5conv-basic.model\n",
            "Log directory: log/\n",
            "---------------------------------\n",
            "Training samples: 0\n",
            "Validation samples: 0\n",
            "--\n",
            "Model Save At model/Fruits_dectector-0.001-5conv-basic.model\n"
          ]
        },
        {
          "output_type": "stream",
          "name": "stderr",
          "text": [
            "Exception in thread Thread-12:\n",
            "Traceback (most recent call last):\n",
            "  File \"/usr/lib/python3.7/threading.py\", line 926, in _bootstrap_inner\n",
            "    self.run()\n",
            "  File \"/usr/lib/python3.7/threading.py\", line 870, in run\n",
            "    self._target(*self._args, **self._kwargs)\n",
            "  File \"/usr/local/lib/python3.7/dist-packages/tflearn/data_flow.py\", line 201, in fill_batch_ids_queue\n",
            "    ids = self.next_batch_ids()\n",
            "  File \"/usr/local/lib/python3.7/dist-packages/tflearn/data_flow.py\", line 215, in next_batch_ids\n",
            "    batch_start, batch_end = self.batches[self.batch_index]\n",
            "IndexError: list index out of range\n",
            "\n"
          ]
        }
      ]
    },
    {
      "cell_type": "code",
      "source": [
        "#image segment파일\n",
        "import cv2\n",
        "import numpy as np\n",
        "import os\n",
        "\n",
        "def getAreaOfFood(img1):\n",
        "    data=os.path.join(os.getcwd(),\"images\")\n",
        "    if os.path.exists(data):\n",
        "        print('folder exist for images at ',data)\n",
        "    else:\n",
        "        os.mkdir(data)\n",
        "        print('folder created for images at ',data)\n",
        "        \n",
        "    cv2.imwrite('{}\\\\1 original image.jpg'.format(data),img1)\n",
        "    img = cv2.cvtColor(img1, cv2.COLOR_BGR2GRAY)\n",
        "    cv2.imwrite('{}\\\\2 original image BGR2GRAY.jpg'.format(data),img)\n",
        "    img_filt = cv2.medianBlur( img, 5)\n",
        "    cv2.imwrite('{}\\\\3 img_filt.jpg'.format(data),img_filt)\n",
        "    img_th = cv2.adaptiveThreshold(img_filt,255,cv2.ADAPTIVE_THRESH_GAUSSIAN_C,cv2.THRESH_BINARY,21,2)\n",
        "    cv2.imwrite('{}\\\\4 img_th.jpg'.format(data),img_th)\n",
        "    contours, hierarchy = cv2.findContours(img_th, cv2.RETR_LIST, cv2.CHAIN_APPROX_SIMPLE) #make change here\n",
        "\n",
        "\n",
        "\t# find contours. sort. and find the biggest contour. the biggest contour corresponds to the plate and fruit.\n",
        "    mask = np.zeros(img.shape, np.uint8)\n",
        "    largest_areas = sorted(contours, key=cv2.contourArea)\n",
        "    cv2.drawContours(mask, [largest_areas[-1]], 0, (255,255,255,255), -1)\n",
        "    cv2.imwrite('{}\\\\5 mask.jpg'.format(data),mask)\n",
        "    img_bigcontour = cv2.bitwise_and(img1,img1,mask = mask)\n",
        "    cv2.imwrite('{}\\\\6 img_bigcontour.jpg'.format(data),img_bigcontour)\n",
        "\n",
        "\t# convert to hsv. otsu threshold in s to remove plate\n",
        "    hsv_img = cv2.cvtColor(img_bigcontour, cv2.COLOR_BGR2HSV)\n",
        "    cv2.imwrite('{}\\\\7 hsv_img.jpg'.format(data),hsv_img)\n",
        "    h,s,v = cv2.split(hsv_img)\n",
        "    mask_plate = cv2.inRange(hsv_img, np.array([0,0,50]), np.array([200,90,250]))\n",
        "    cv2.imwrite('{}\\\\8 mask_plate.jpg'.format(data),mask_plate)\n",
        "    mask_not_plate = cv2.bitwise_not(mask_plate)\n",
        "    cv2.imwrite('{}\\\\9 mask_not_plate.jpg'.format(data),mask_not_plate)\n",
        "    fruit_skin = cv2.bitwise_and(img_bigcontour,img_bigcontour,mask = mask_not_plate)\n",
        "    cv2.imwrite('{}\\\\10 fruit_skin.jpg'.format(data),fruit_skin)\n",
        "\n",
        "\t#convert to hsv to detect and remove skin pixels\n",
        "    hsv_img = cv2.cvtColor(fruit_skin, cv2.COLOR_BGR2HSV)\n",
        "    cv2.imwrite('{}\\\\11 hsv_img.jpg'.format(data),hsv_img)\n",
        "    skin = cv2.inRange(hsv_img, np.array([0,10,60]), np.array([10,160,255])) #Scalar(0, 10, 60), Scalar(20, 150, 255)\n",
        "    cv2.imwrite('{}\\\\12 skin.jpg'.format(data),skin)\n",
        "    not_skin = cv2.bitwise_not(skin); #invert skin and black\n",
        "    cv2.imwrite('{}\\\\13 not_skin.jpg'.format(data),not_skin)\n",
        "    fruit = cv2.bitwise_and(fruit_skin,fruit_skin,mask = not_skin) #get only fruit pixels\n",
        "    cv2.imwrite('{}\\\\14 fruit.jpg'.format(data),fruit)\n",
        "    \n",
        "    fruit_bw = cv2.cvtColor(fruit, cv2.COLOR_BGR2GRAY)\n",
        "    cv2.imwrite('{}\\\\15 fruit_bw.jpg'.format(data),fruit_bw)\n",
        "    fruit_bin = cv2.inRange(fruit_bw, 10, 255) #binary of fruit\n",
        "    cv2.imwrite('{}\\\\16 fruit_bw.jpg'.format(data),fruit_bin)\n",
        "\n",
        "\t#erode before finding contours\n",
        "    kernel = cv2.getStructuringElement(cv2.MORPH_ELLIPSE,(5,5))\n",
        "    erode_fruit = cv2.erode(fruit_bin,kernel,iterations = 1)\n",
        "    cv2.imwrite('{}\\\\17 erode_fruit.jpg'.format(data),erode_fruit)\n",
        "\n",
        "\t#find largest contour since that will be the fruit\n",
        "    img_th = cv2.adaptiveThreshold(erode_fruit,255,cv2.ADAPTIVE_THRESH_GAUSSIAN_C,cv2.THRESH_BINARY,11,2)\n",
        "    cv2.imwrite('{}\\\\18 img_th.jpg'.format(data),img_th)\n",
        "    contours, hierarchy = cv2.findContours(img_th, cv2.RETR_LIST, cv2.CHAIN_APPROX_SIMPLE)\n",
        "    mask_fruit = np.zeros(fruit_bin.shape, np.uint8)\n",
        "    largest_areas = sorted(contours, key=cv2.contourArea)\n",
        "    cv2.drawContours(mask_fruit, [largest_areas[-2]], 0, (255,255,255), -1)\n",
        "    cv2.imwrite('{}\\\\19 mask_fruit.jpg'.format(data),mask_fruit)\n",
        "\n",
        "\t#dilate now\n",
        "    kernel2 = cv2.getStructuringElement(cv2.MORPH_ELLIPSE,(5,5))\n",
        "    mask_fruit2 = cv2.dilate(mask_fruit,kernel2,iterations = 1)\n",
        "    cv2.imwrite('{}\\\\20 mask_fruit2.jpg'.format(data),mask_fruit2)\n",
        "    fruit_final = cv2.bitwise_and(img1,img1,mask = mask_fruit2)\n",
        "    cv2.imwrite('{}\\\\21 fruit_final.jpg'.format(data),fruit_final)\n",
        "    \n",
        "\t#find area of fruit\n",
        "    img_th = cv2.adaptiveThreshold(mask_fruit2,255,cv2.ADAPTIVE_THRESH_GAUSSIAN_C,cv2.THRESH_BINARY,11,2)\n",
        "    cv2.imwrite('{}\\\\22 img_th.jpg'.format(data),img_th)\n",
        "    contours, hierarchy = cv2.findContours(img_th, cv2.RETR_LIST, cv2.CHAIN_APPROX_SIMPLE)\n",
        "    largest_areas = sorted(contours, key=cv2.contourArea)\n",
        "    fruit_contour = largest_areas[-2]\n",
        "    fruit_area = cv2.contourArea(fruit_contour)\n",
        "\n",
        "\t\n",
        "\t#finding the area of skin. find area of biggest contour\n",
        "    skin2 = skin - mask_fruit2\n",
        "    cv2.imwrite('{}\\\\23 skin2.jpg'.format(data),skin2)\n",
        "\t#erode before finding contours\n",
        "    kernel = cv2.getStructuringElement(cv2.MORPH_ELLIPSE,(5,5))\n",
        "    skin_e = cv2.erode(skin2,kernel,iterations = 1)\n",
        "    cv2.imwrite('{}\\\\24 skin_e .jpg'.format(data),skin_e )\n",
        "    img_th = cv2.adaptiveThreshold(skin_e,255,cv2.ADAPTIVE_THRESH_GAUSSIAN_C,cv2.THRESH_BINARY,11,2)\n",
        "    cv2.imwrite('{}\\\\25 img_th.jpg'.format(data),img_th)\n",
        "    contours, hierarchy = cv2.findContours(img_th, cv2.RETR_LIST, cv2.CHAIN_APPROX_SIMPLE)\n",
        "    mask_skin = np.zeros(skin.shape, np.uint8)\n",
        "    largest_areas = sorted(contours, key=cv2.contourArea)\n",
        "    cv2.drawContours(mask_skin, [largest_areas[-2]], 0, (255,255,255), -1)\n",
        "    cv2.imwrite('{}\\\\26 mask_skin.jpg'.format(data),mask_skin)\n",
        "    \n",
        "    \n",
        "    skin_rect = cv2.minAreaRect(largest_areas[-2])\n",
        "    box = cv2.boxPoints(skin_rect)\n",
        "    box = np.int0(box)\n",
        "    mask_skin2 = np.zeros(skin.shape, np.uint8)\n",
        "    cv2.drawContours(mask_skin2,[box],0,(255,255,255), -1)\n",
        "    cv2.imwrite('{}\\\\27 mask_skin2.jpg'.format(data),mask_skin2)\n",
        "    \n",
        "    pix_height = max(skin_rect[1])\n",
        "    pix_to_cm_multiplier = 5.0/pix_height\n",
        "    skin_area = cv2.contourArea(box)\n",
        "    \n",
        "    \n",
        "    return fruit_area,fruit_bin ,fruit_final,skin_area, fruit_contour, pix_to_cm_multiplier\n",
        "\n",
        "\n",
        "if __name__ == '__main__':\n",
        "    img1 = cv2.imread(r\"C:\\Users\\piya\\Desktop\\model2\\Orange\\2.jpg\")\n",
        "    img = cv2.resize(img1,(1000,1000))\n",
        "    area, bin_fruit, img_fruit, skin_area, fruit_contour, pix_to_cm_multiplier = getAreaOfFood(img)\n",
        "    cv2.imshow('img',img_fruit)\n",
        "    cv2.waitKey(0)\n",
        "    cv2.destroyAllWindows()\n",
        "\n"
      ],
      "metadata": {
        "colab": {
          "base_uri": "https://localhost:8080/",
          "height": 284
        },
        "id": "BoBDyZJGy4OJ",
        "outputId": "c6a06e62-b422-44e2-c30e-98b89defcdc3"
      },
      "execution_count": null,
      "outputs": [
        {
          "output_type": "error",
          "ename": "error",
          "evalue": "ignored",
          "traceback": [
            "\u001b[0;31m---------------------------------------------------------------------------\u001b[0m",
            "\u001b[0;31merror\u001b[0m                                     Traceback (most recent call last)",
            "\u001b[0;32m<ipython-input-21-bf1b5b3fab8f>\u001b[0m in \u001b[0;36m<module>\u001b[0;34m\u001b[0m\n\u001b[1;32m    119\u001b[0m \u001b[0;32mif\u001b[0m \u001b[0m__name__\u001b[0m \u001b[0;34m==\u001b[0m \u001b[0;34m'__main__'\u001b[0m\u001b[0;34m:\u001b[0m\u001b[0;34m\u001b[0m\u001b[0;34m\u001b[0m\u001b[0m\n\u001b[1;32m    120\u001b[0m     \u001b[0mimg1\u001b[0m \u001b[0;34m=\u001b[0m \u001b[0mcv2\u001b[0m\u001b[0;34m.\u001b[0m\u001b[0mimread\u001b[0m\u001b[0;34m(\u001b[0m\u001b[0;34mr\"C:\\Users\\piya\\Desktop\\model2\\Orange\\2.jpg\"\u001b[0m\u001b[0;34m)\u001b[0m\u001b[0;34m\u001b[0m\u001b[0;34m\u001b[0m\u001b[0m\n\u001b[0;32m--> 121\u001b[0;31m     \u001b[0mimg\u001b[0m \u001b[0;34m=\u001b[0m \u001b[0mcv2\u001b[0m\u001b[0;34m.\u001b[0m\u001b[0mresize\u001b[0m\u001b[0;34m(\u001b[0m\u001b[0mimg1\u001b[0m\u001b[0;34m,\u001b[0m\u001b[0;34m(\u001b[0m\u001b[0;36m1000\u001b[0m\u001b[0;34m,\u001b[0m\u001b[0;36m1000\u001b[0m\u001b[0;34m)\u001b[0m\u001b[0;34m)\u001b[0m\u001b[0;34m\u001b[0m\u001b[0;34m\u001b[0m\u001b[0m\n\u001b[0m\u001b[1;32m    122\u001b[0m     \u001b[0marea\u001b[0m\u001b[0;34m,\u001b[0m \u001b[0mbin_fruit\u001b[0m\u001b[0;34m,\u001b[0m \u001b[0mimg_fruit\u001b[0m\u001b[0;34m,\u001b[0m \u001b[0mskin_area\u001b[0m\u001b[0;34m,\u001b[0m \u001b[0mfruit_contour\u001b[0m\u001b[0;34m,\u001b[0m \u001b[0mpix_to_cm_multiplier\u001b[0m \u001b[0;34m=\u001b[0m \u001b[0mgetAreaOfFood\u001b[0m\u001b[0;34m(\u001b[0m\u001b[0mimg\u001b[0m\u001b[0;34m)\u001b[0m\u001b[0;34m\u001b[0m\u001b[0;34m\u001b[0m\u001b[0m\n\u001b[1;32m    123\u001b[0m     \u001b[0mcv2\u001b[0m\u001b[0;34m.\u001b[0m\u001b[0mimshow\u001b[0m\u001b[0;34m(\u001b[0m\u001b[0;34m'img'\u001b[0m\u001b[0;34m,\u001b[0m\u001b[0mimg_fruit\u001b[0m\u001b[0;34m)\u001b[0m\u001b[0;34m\u001b[0m\u001b[0;34m\u001b[0m\u001b[0m\n",
            "\u001b[0;31merror\u001b[0m: OpenCV(4.6.0) /io/opencv/modules/imgproc/src/resize.cpp:4052: error: (-215:Assertion failed) !ssize.empty() in function 'resize'\n"
          ]
        }
      ]
    },
    {
      "cell_type": "code",
      "source": [
        "#calorie파일\n",
        "import cv2\n",
        "import numpy as np\n",
        "from image_segment import *#변경 필요(함수로 불러오기 하려면)\n",
        "\n",
        "#density - gram / cm^3\n",
        "density_dict = { 1:0.609, 2:0.94, 3:0.641,  4:0.641,5:0.513, 6:0.482,7:0.481}\n",
        "#kcal\n",
        "calorie_dict = { 1:52, 2:89,  3:41,4:16,5:40,6:47,7:18 }\n",
        "#skin of photo to real multiplier\n",
        "skin_multiplier = 5*2.3\n",
        "\n",
        "def getCalorie(label, volume): #volume in cm^3\n",
        "\tcalorie = calorie_dict[int(label)]\n",
        "\tdensity = density_dict[int(label)]\n",
        "\tmass = volume*density*1.0\n",
        "\tcalorie_tot = (calorie/100.0)*mass\n",
        "\treturn mass, calorie_tot, calorie #calorie per 100 grams\n",
        "\n",
        "def getVolume(label, area, skin_area, pix_to_cm_multiplier, fruit_contour):\n",
        "\tarea_fruit = (area/skin_area)*skin_multiplier #area in cm^2\n",
        "\tlabel = int(label)\n",
        "\tvolume = 100\n",
        "\tif label == 1 or label == 5 or label == 7 or label == 6 : #sphere-apple,tomato,orange,kiwi,onion\n",
        "\t\tradius = np.sqrt(area_fruit/np.pi)\n",
        "\t\tvolume = (4/3)*np.pi*radius*radius*radius\n",
        "\t\t#print (area_fruit, radius, volume, skin_area)\n",
        "\t\n",
        "\tif label == 2 or label == 4 or (label == 3 and area_fruit > 30): #cylinder like banana, cucumber, carrot\n",
        "\t\tfruit_rect = cv2.minAreaRect(fruit_contour)\n",
        "\t\theight = max(fruit_rect[1])*pix_to_cm_multiplier\n",
        "\t\tradius = area_fruit/(2.0*height)\n",
        "\t\tvolume = np.pi*radius*radius*height\n",
        "\t\t\n",
        "\tif (label==4 and area_fruit < 30) : # carrot\n",
        "\t\tvolume = area_fruit*0.5 #assuming width = 0.5 cm\n",
        "\t\n",
        "\treturn volume\n",
        "\n",
        "def calories(result,img):\n",
        "    img_path =img # \"C:/Users/M Sc-2/Desktop/dataset/FooD/\"+str(j)+\"_\"+str(i)+\".jpg\"\n",
        "    fruit_areas,final_f,areaod,skin_areas, fruit_contours, pix_cm = getAreaOfFood(img_path)\n",
        "    volume = getVolume(result, fruit_areas, skin_areas, pix_cm, fruit_contours)\n",
        "    mass, cal, cal_100 = getCalorie(result, volume)\n",
        "    fruit_volumes=volume\n",
        "    fruit_calories=cal\n",
        "    fruit_calories_100grams=cal_100\n",
        "    fruit_mass=mass\n",
        "    #print(\"\\nfruit_volumes\",fruit_volumes,\"\\nfruit_calories\",fruit_calories,\"\\nruit_calories_100grams\",fruit_calories_100grams,\"\\nfruit_mass\",fruit_mass)\n",
        "    return fruit_calories\n",
        "\n",
        "if __name__ == '__main__':\n",
        "    \n",
        "    a=r'C:\\Users\\M Sc-2\\Desktop\\data\\sa\\data1.jpg'\n",
        "    a=cv2.imread(a)\n",
        "    print(testing(1,a))\n"
      ],
      "metadata": {
        "colab": {
          "base_uri": "https://localhost:8080/",
          "height": 394
        },
        "id": "R_-zXazGyxq0",
        "outputId": "f4ef5679-a45c-4a2e-d103-474a105c5aee"
      },
      "execution_count": null,
      "outputs": [
        {
          "output_type": "error",
          "ename": "ModuleNotFoundError",
          "evalue": "ignored",
          "traceback": [
            "\u001b[0;31m---------------------------------------------------------------------------\u001b[0m",
            "\u001b[0;31mModuleNotFoundError\u001b[0m                       Traceback (most recent call last)",
            "\u001b[0;32m<ipython-input-22-f0436f10d930>\u001b[0m in \u001b[0;36m<module>\u001b[0;34m\u001b[0m\n\u001b[1;32m      2\u001b[0m \u001b[0;32mimport\u001b[0m \u001b[0mcv2\u001b[0m\u001b[0;34m\u001b[0m\u001b[0;34m\u001b[0m\u001b[0m\n\u001b[1;32m      3\u001b[0m \u001b[0;32mimport\u001b[0m \u001b[0mnumpy\u001b[0m \u001b[0;32mas\u001b[0m \u001b[0mnp\u001b[0m\u001b[0;34m\u001b[0m\u001b[0;34m\u001b[0m\u001b[0m\n\u001b[0;32m----> 4\u001b[0;31m \u001b[0;32mfrom\u001b[0m \u001b[0mimage_segment\u001b[0m \u001b[0;32mimport\u001b[0m \u001b[0;34m*\u001b[0m\u001b[0;34m\u001b[0m\u001b[0;34m\u001b[0m\u001b[0m\n\u001b[0m\u001b[1;32m      5\u001b[0m \u001b[0;34m\u001b[0m\u001b[0m\n\u001b[1;32m      6\u001b[0m \u001b[0;31m#density - gram / cm^3\u001b[0m\u001b[0;34m\u001b[0m\u001b[0;34m\u001b[0m\u001b[0;34m\u001b[0m\u001b[0m\n",
            "\u001b[0;31mModuleNotFoundError\u001b[0m: No module named 'image_segment'",
            "",
            "\u001b[0;31m---------------------------------------------------------------------------\u001b[0;32m\nNOTE: If your import is failing due to a missing package, you can\nmanually install dependencies using either !pip or !apt.\n\nTo view examples of installing some common dependencies, click the\n\"Open Examples\" button below.\n\u001b[0;31m---------------------------------------------------------------------------\u001b[0m\n"
          ],
          "errorDetails": {
            "actions": [
              {
                "action": "open_url",
                "actionText": "Open Examples",
                "url": "/notebooks/snippets/importing_libraries.ipynb"
              }
            ]
          }
        }
      ]
    },
    {
      "cell_type": "code",
      "source": [
        "#demo파일\n",
        "#from calorie (다른 파트에서 import할 수 있도록 함수명만 남김)\n",
        "import calories\n",
        "#from cnn_model (다른 파트에서 import할 수 있도록 함수명만 남김)\n",
        "import get_model\n",
        "import os  \n",
        "import cv2\n",
        "import numpy as np\n",
        "\n",
        "IMG_SIZE = 400\n",
        "LR = 1e-3\n",
        "no_of_fruits=7\n",
        "\n",
        "MODEL_NAME = 'Fruits_dectector-{}-{}.model'.format(LR, '5conv-basic')\n",
        "\n",
        "model_save_at=os.path.join(\"model\",MODEL_NAME)\n",
        "\n",
        "model=get_model(IMG_SIZE,no_of_fruits,LR)\n",
        "\n",
        "model.load(model_save_at)\n",
        "labels=list(np.load('labels.npy'))\n",
        "\n",
        "test_data='test_image.JPG'\n",
        "img=cv2.imread(test_data)\n",
        "img1=cv2.resize(img,(IMG_SIZE,IMG_SIZE))\n",
        "model_out=model.predict([img1])\n",
        "result=np.argmax(model_out)\n",
        "name=labels[result]\n",
        "cal=round(calories(result+1,img),2)\n",
        "\n",
        "import matplotlib.pyplot as plt\n",
        "plt.imshow(img)\n",
        "plt.title('{}({}kcal)'.format(name,cal))\n",
        "plt.axis('off')\n",
        "plt.show()"
      ],
      "metadata": {
        "id": "5eJ43ogXt-NH",
        "colab": {
          "base_uri": "https://localhost:8080/",
          "height": 394
        },
        "outputId": "4a4e1d02-1aac-4918-ae92-904c5bc403f8"
      },
      "execution_count": null,
      "outputs": [
        {
          "output_type": "error",
          "ename": "ModuleNotFoundError",
          "evalue": "ignored",
          "traceback": [
            "\u001b[0;31m---------------------------------------------------------------------------\u001b[0m",
            "\u001b[0;31mModuleNotFoundError\u001b[0m                       Traceback (most recent call last)",
            "\u001b[0;32m<ipython-input-24-164cafa465ef>\u001b[0m in \u001b[0;36m<module>\u001b[0;34m\u001b[0m\n\u001b[1;32m      1\u001b[0m \u001b[0;31m#demo파일\u001b[0m\u001b[0;34m\u001b[0m\u001b[0;34m\u001b[0m\u001b[0;34m\u001b[0m\u001b[0m\n\u001b[1;32m      2\u001b[0m \u001b[0;31m#from calorie\u001b[0m\u001b[0;34m\u001b[0m\u001b[0;34m\u001b[0m\u001b[0;34m\u001b[0m\u001b[0m\n\u001b[0;32m----> 3\u001b[0;31m \u001b[0;32mimport\u001b[0m \u001b[0mcalories\u001b[0m\u001b[0;34m\u001b[0m\u001b[0;34m\u001b[0m\u001b[0m\n\u001b[0m\u001b[1;32m      4\u001b[0m \u001b[0;31m#from cnn_model\u001b[0m\u001b[0;34m\u001b[0m\u001b[0;34m\u001b[0m\u001b[0;34m\u001b[0m\u001b[0m\n\u001b[1;32m      5\u001b[0m \u001b[0;32mimport\u001b[0m \u001b[0mget_model\u001b[0m\u001b[0;34m\u001b[0m\u001b[0;34m\u001b[0m\u001b[0m\n",
            "\u001b[0;31mModuleNotFoundError\u001b[0m: No module named 'calories'",
            "",
            "\u001b[0;31m---------------------------------------------------------------------------\u001b[0;32m\nNOTE: If your import is failing due to a missing package, you can\nmanually install dependencies using either !pip or !apt.\n\nTo view examples of installing some common dependencies, click the\n\"Open Examples\" button below.\n\u001b[0;31m---------------------------------------------------------------------------\u001b[0m\n"
          ],
          "errorDetails": {
            "actions": [
              {
                "action": "open_url",
                "actionText": "Open Examples",
                "url": "/notebooks/snippets/importing_libraries.ipynb"
              }
            ]
          }
        }
      ]
    },
    {
      "cell_type": "code",
      "source": [],
      "metadata": {
        "id": "S422c27vt-W2"
      },
      "execution_count": null,
      "outputs": []
    }
  ]
}