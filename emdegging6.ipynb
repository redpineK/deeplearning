{
  "nbformat": 4,
  "nbformat_minor": 0,
  "metadata": {
    "colab": {
      "provenance": [],
      "authorship_tag": "ABX9TyPk4ni8/Mo2wNOXbWZu+QZX",
      "include_colab_link": true
    },
    "kernelspec": {
      "name": "python3",
      "display_name": "Python 3"
    },
    "language_info": {
      "name": "python"
    }
  },
  "cells": [
    {
      "cell_type": "markdown",
      "metadata": {
        "id": "view-in-github",
        "colab_type": "text"
      },
      "source": [
        "<a href=\"https://colab.research.google.com/github/redpineK/deeplearning/blob/master/emdegging6.ipynb\" target=\"_parent\"><img src=\"https://colab.research.google.com/assets/colab-badge.svg\" alt=\"Open In Colab\"/></a>"
      ]
    },
    {
      "cell_type": "code",
      "execution_count": 9,
      "metadata": {
        "id": "6kZNABmLoiuH"
      },
      "outputs": [],
      "source": [
        "from tensorflow.keras.models import Sequential\n",
        "from tensorflow.keras.layers import Embedding\n",
        "import numpy as np"
      ]
    },
    {
      "cell_type": "code",
      "source": [
        "model = Sequential()\n",
        "embedding_layer = Embedding(input_dim=10,output_dim=4,input_length=2)\n",
        "model.add(embedding_layer)\n",
        "model.compile('adam','mse')\n",
        "model.summary()"
      ],
      "metadata": {
        "colab": {
          "base_uri": "https://localhost:8080/"
        },
        "id": "9XPRzJz7okRN",
        "outputId": "5bf1c560-7632-44ac-f7d7-99be274b324c"
      },
      "execution_count": 10,
      "outputs": [
        {
          "output_type": "stream",
          "name": "stdout",
          "text": [
            "Model: \"sequential_4\"\n",
            "_________________________________________________________________\n",
            " Layer (type)                Output Shape              Param #   \n",
            "=================================================================\n",
            " embedding_4 (Embedding)     (None, 2, 4)              40        \n",
            "                                                                 \n",
            "=================================================================\n",
            "Total params: 40\n",
            "Trainable params: 40\n",
            "Non-trainable params: 0\n",
            "_________________________________________________________________\n"
          ]
        }
      ]
    },
    {
      "cell_type": "code",
      "source": [
        "input_data = np.array([[1,2]])\n",
        "pred = model.predict(input_data)\n",
        "print(input_data.shape)\n",
        "print(pred)"
      ],
      "metadata": {
        "colab": {
          "base_uri": "https://localhost:8080/"
        },
        "id": "tkDYQVcso28I",
        "outputId": "d3bca67a-8705-4033-8579-fa9c52bdd2b0"
      },
      "execution_count": 11,
      "outputs": [
        {
          "output_type": "stream",
          "name": "stdout",
          "text": [
            "1/1 [==============================] - 0s 42ms/step\n",
            "(1, 2)\n",
            "[[[-0.03652147  0.00402728  0.03052224  0.01641984]\n",
            "  [-0.01442857  0.0385086  -0.03639083  0.01341119]]]\n"
          ]
        }
      ]
    },
    {
      "cell_type": "code",
      "source": [
        "print(input_data)\n",
        "print(input_data.shape)\n",
        "print(pred)\n",
        "print(pred.shape)"
      ],
      "metadata": {
        "colab": {
          "base_uri": "https://localhost:8080/"
        },
        "id": "llE8qyP5o-JK",
        "outputId": "94ec3eff-77a4-4adb-ad27-34fc5dcfa93e"
      },
      "execution_count": 15,
      "outputs": [
        {
          "output_type": "stream",
          "name": "stdout",
          "text": [
            "[[1 2]]\n",
            "(1, 2)\n",
            "[[[-0.03652147  0.00402728  0.03052224  0.01641984]\n",
            "  [-0.01442857  0.0385086  -0.03639083  0.01341119]]]\n",
            "(1, 2, 4)\n"
          ]
        }
      ]
    },
    {
      "cell_type": "code",
      "source": [
        "from numpy import array\n",
        "from tensorflow.keras.preprocessing.text import one_hot\n",
        "from tensorflow.keras.preprocessing.sequence import pad_sequences\n",
        "from tensorflow.keras.models import Sequential\n",
        "from tensorflow.keras.layers import Flatten,Embedding,Dense"
      ],
      "metadata": {
        "id": "aMlFL6-TsxPO"
      },
      "execution_count": 16,
      "outputs": []
    },
    {
      "cell_type": "code",
      "source": [
        "# Define 10 restaurant reviews\n",
        "reviews =[\n",
        "          'Never coming back!',\n",
        "          'horrible service',\n",
        "          'rude waitress',\n",
        "          'cold food',\n",
        "          'horrible food!',\n",
        "          'awesome',\n",
        "          'awesome services!',\n",
        "          'rocks',\n",
        "          'poor work',\n",
        "          'couldn\\'t have done better'\n",
        "]\n",
        "#Define labels\n",
        "labels = array([1,1,1,1,1,0,0,0,0,0])"
      ],
      "metadata": {
        "id": "Oxfg7mkos3Sa"
      },
      "execution_count": 17,
      "outputs": []
    },
    {
      "cell_type": "code",
      "source": [
        "Vocab_size = 50\n",
        "encoded_reviews = [one_hot(d,Vocab_size) for d in reviews]\n",
        "print(f'encoded reviews: {encoded_reviews}')"
      ],
      "metadata": {
        "colab": {
          "base_uri": "https://localhost:8080/"
        },
        "id": "sM_sDUYmuCwB",
        "outputId": "b002d14d-bedd-482a-cb48-071ca24e9312"
      },
      "execution_count": 18,
      "outputs": [
        {
          "output_type": "stream",
          "name": "stdout",
          "text": [
            "encoded reviews: [[31, 36, 26], [33, 20], [25, 24], [31, 29], [33, 29], [9], [9, 44], [22], [44, 30], [31, 7, 18, 21]]\n"
          ]
        }
      ]
    },
    {
      "cell_type": "code",
      "source": [
        "max_length = 4\n",
        "padded_reviews = pad_sequences(encoded_reviews,maxlen=max_length,padding='post')\n",
        "print(padded_reviews)"
      ],
      "metadata": {
        "colab": {
          "base_uri": "https://localhost:8080/"
        },
        "id": "KuslR3EIuOeB",
        "outputId": "21aa1043-b892-49f8-b2b7-eb1da1df84af"
      },
      "execution_count": 19,
      "outputs": [
        {
          "output_type": "stream",
          "name": "stdout",
          "text": [
            "[[31 36 26  0]\n",
            " [33 20  0  0]\n",
            " [25 24  0  0]\n",
            " [31 29  0  0]\n",
            " [33 29  0  0]\n",
            " [ 9  0  0  0]\n",
            " [ 9 44  0  0]\n",
            " [22  0  0  0]\n",
            " [44 30  0  0]\n",
            " [31  7 18 21]]\n"
          ]
        }
      ]
    },
    {
      "cell_type": "code",
      "source": [
        "model = Sequential()\n",
        "embedding_layer = Embedding(input_dim=Vocab_size,output_dim=8,input_length=max_length)\n",
        "model.add(embedding_layer)\n",
        "model.add(Flatten())\n",
        "model.add(Dense(1,activation='sigmoid'))\n",
        "model.compile(optimizer='adam',loss='binary_crossentropy',metrics=['acc'])\n",
        "print(model.summary())"
      ],
      "metadata": {
        "colab": {
          "base_uri": "https://localhost:8080/"
        },
        "id": "0M4VL-4CuZR1",
        "outputId": "3c0bdcbc-8208-48c4-8eef-3fc030b589fe"
      },
      "execution_count": 20,
      "outputs": [
        {
          "output_type": "stream",
          "name": "stdout",
          "text": [
            "Model: \"sequential_5\"\n",
            "_________________________________________________________________\n",
            " Layer (type)                Output Shape              Param #   \n",
            "=================================================================\n",
            " embedding_5 (Embedding)     (None, 4, 8)              400       \n",
            "                                                                 \n",
            " flatten (Flatten)           (None, 32)                0         \n",
            "                                                                 \n",
            " dense (Dense)               (None, 1)                 33        \n",
            "                                                                 \n",
            "=================================================================\n",
            "Total params: 433\n",
            "Trainable params: 433\n",
            "Non-trainable params: 0\n",
            "_________________________________________________________________\n",
            "None\n"
          ]
        }
      ]
    },
    {
      "cell_type": "code",
      "source": [
        "model.fit(padded_reviews,labels,epochs=100,verbose=0)"
      ],
      "metadata": {
        "colab": {
          "base_uri": "https://localhost:8080/"
        },
        "id": "qEWB8CdiufBd",
        "outputId": "c06ca2b6-8fd9-40aa-b349-1938d74739d2"
      },
      "execution_count": 21,
      "outputs": [
        {
          "output_type": "execute_result",
          "data": {
            "text/plain": [
              "<keras.callbacks.History at 0x7f2c45ba4cd0>"
            ]
          },
          "metadata": {},
          "execution_count": 21
        }
      ]
    },
    {
      "cell_type": "code",
      "source": [
        "print(embedding_layer.get_weights()[0].shape)\n",
        "print(embedding_layer.get_weights()[0])"
      ],
      "metadata": {
        "colab": {
          "base_uri": "https://localhost:8080/"
        },
        "id": "5csssY_7ulFf",
        "outputId": "83c4033c-4e43-4c4d-a8b9-e7f25be029cb"
      },
      "execution_count": 30,
      "outputs": [
        {
          "output_type": "stream",
          "name": "stdout",
          "text": [
            "(50, 8)\n",
            "[[ 9.03753638e-02 -1.04301870e-01  1.18698761e-01  6.95015565e-02\n",
            "  -1.25340894e-01  1.39426425e-01 -8.26701894e-02  1.56707913e-01]\n",
            " [ 3.28953192e-03 -4.45670150e-02  2.01883204e-02  2.87561528e-02\n",
            "  -8.57148319e-03  3.35103609e-02 -3.79138477e-02 -2.40823515e-02]\n",
            " [-4.57929149e-02  3.75991128e-02 -2.00870279e-02 -3.18695232e-03\n",
            "   1.84111856e-02 -1.67550817e-02 -1.70323960e-02 -8.05014372e-03]\n",
            " [ 2.19738744e-02 -1.21686570e-02 -8.94962624e-03  3.17842104e-02\n",
            "  -2.52251029e-02  2.46567987e-02  2.73606069e-02  2.79983543e-02]\n",
            " [-1.05029456e-02  2.55553797e-03  3.16648521e-02  4.60787304e-02\n",
            "   3.46557982e-02 -9.94142145e-03  1.45652033e-02 -3.24848443e-02]\n",
            " [ 3.92544977e-02 -4.65613380e-02 -3.16541567e-02 -4.42232005e-02\n",
            "   3.73439677e-02  1.07254162e-02 -7.98001140e-03 -2.64505297e-03]\n",
            " [-3.20354477e-02 -1.13021508e-02  6.21206686e-03  1.47438906e-02\n",
            "  -1.73926130e-02 -6.82985783e-03  4.78762873e-02 -3.49171087e-03]\n",
            " [ 1.14405558e-01 -1.12721823e-01  1.20916322e-01  1.44478679e-01\n",
            "  -8.17747787e-02  1.14313863e-01 -1.33690670e-01  7.83662647e-02]\n",
            " [ 1.88993551e-02 -9.23565775e-03 -2.85710935e-02 -4.34617884e-02\n",
            "  -4.00018096e-02  3.67206074e-02 -4.03206833e-02  1.94960497e-02]\n",
            " [ 1.30658209e-01  1.15478754e-01 -1.26778454e-01 -1.25144884e-01\n",
            "  -8.16474259e-02 -1.49253950e-01 -8.22778866e-02  8.12156945e-02]\n",
            " [ 1.44707225e-02  4.63116057e-02  6.37783855e-03  2.55722739e-02\n",
            "  -3.87856476e-02  6.77277893e-03 -1.32177249e-02 -4.46456671e-03]\n",
            " [ 2.17230432e-02  3.34760882e-02 -8.83686543e-03  1.24312043e-02\n",
            "   1.12822652e-02 -1.84278972e-02 -5.77532127e-03 -4.87141125e-02]\n",
            " [-7.54218176e-03 -2.22854745e-02  2.16139890e-02 -1.21894591e-02\n",
            "   2.36236192e-02 -3.78372781e-02  2.90718712e-02 -2.63959169e-03]\n",
            " [-1.42903812e-02 -4.23439518e-02 -2.46338379e-02  4.16306742e-02\n",
            "   8.56440142e-03  3.83156575e-02 -4.44960259e-02 -1.87152736e-02]\n",
            " [-4.03207429e-02 -7.94328749e-04 -1.90663468e-02  1.31985210e-02\n",
            "   3.76621522e-02  2.40018219e-03  1.68619491e-02  1.72736086e-02]\n",
            " [-2.68060099e-02 -4.85978276e-03  9.64640453e-03 -1.14582181e-02\n",
            "  -4.06826735e-02 -2.08635684e-02 -4.68378179e-02  1.52386725e-04]\n",
            " [-4.08984721e-04 -4.10360321e-02 -2.82909032e-02 -4.02305014e-02\n",
            "  -3.64010110e-02  2.96985768e-02 -1.34574883e-02 -2.70383246e-02]\n",
            " [ 4.49873134e-03  4.27544154e-02  3.92744429e-02 -1.97718292e-03\n",
            "  -3.55626456e-02  2.05713511e-03 -2.03176867e-02  4.33749594e-02]\n",
            " [ 1.51035503e-01 -1.07723780e-01 -8.48973468e-02  1.18826129e-01\n",
            "  -1.06842317e-01  9.30557325e-02  1.16473086e-01 -1.64014578e-01]\n",
            " [-4.25867699e-02  8.62339884e-03 -3.26419696e-02 -1.08920410e-03\n",
            "   2.78172605e-02  4.97101881e-02  5.20352274e-03 -2.38573551e-02]\n",
            " [-1.15393817e-01  1.24943160e-01 -9.27417576e-02 -8.87909159e-02\n",
            "   8.37839097e-02 -8.20047110e-02  5.64617552e-02 -1.60020113e-01]\n",
            " [ 5.24517931e-02  7.50414059e-02  2.71667037e-02 -6.01909794e-02\n",
            "   7.17604235e-02 -1.04193643e-01 -1.28906354e-01  1.49419367e-01]\n",
            " [ 1.47862196e-01  1.27236083e-01 -5.54400198e-02 -6.61544427e-02\n",
            "  -1.32653221e-01 -1.10451289e-01 -1.04780078e-01  9.26162302e-02]\n",
            " [ 3.07642259e-02 -4.42508347e-02 -7.55842775e-03 -6.10909611e-03\n",
            "  -4.86243367e-02 -4.89324331e-02 -4.85260598e-02  2.63892114e-04]\n",
            " [-1.02557138e-01  1.22227699e-01 -5.59928343e-02 -1.00303866e-01\n",
            "   6.03006519e-02 -1.40000954e-01  7.39243403e-02 -8.07691365e-02]\n",
            " [-1.45985186e-01 -9.67081338e-02  1.32620320e-01  1.04494162e-01\n",
            "   1.36070043e-01  1.19817674e-01  1.05371818e-01 -1.37033343e-01]\n",
            " [-9.68424380e-02  1.44836545e-01  1.03953876e-01 -5.21378666e-02\n",
            "   7.72765353e-02 -1.42689615e-01 -1.28724322e-01  1.12725690e-01]\n",
            " [ 4.16688062e-02  6.89908117e-03 -2.50343923e-02  1.50567181e-02\n",
            "   3.85154746e-02 -2.99877413e-02 -1.65931098e-02 -2.51622088e-02]\n",
            " [ 4.80116121e-02  4.70008515e-02  3.07781361e-02  3.45780887e-02\n",
            "  -3.52829918e-02  1.62883438e-02 -5.89770079e-03  4.60140817e-02]\n",
            " [-1.40106127e-01  1.41442463e-01 -6.89399019e-02 -4.95892763e-02\n",
            "   9.26691294e-02 -9.95462909e-02  1.11255825e-01 -1.31210700e-01]\n",
            " [ 1.09238870e-01 -8.12613741e-02  7.40419477e-02  8.61182138e-02\n",
            "  -7.20331371e-02  1.30309850e-01 -1.13517880e-01  1.53002277e-01]\n",
            " [-7.29531571e-02 -1.04835331e-01  1.31084174e-01  1.41902268e-01\n",
            "   1.24804489e-01  1.47578359e-01  8.39992240e-02 -8.95416364e-02]\n",
            " [ 4.26095389e-02  4.78211679e-02  2.12367661e-02  3.73758189e-02\n",
            "  -2.26625931e-02  4.16413285e-02  2.92636491e-02  3.11864056e-02]\n",
            " [-1.04836680e-01 -7.42819756e-02  1.29070759e-01  5.48765473e-02\n",
            "   1.48431957e-01  9.51975882e-02  7.36271143e-02 -1.11497015e-01]\n",
            " [ 4.35895845e-03 -3.77930626e-02  2.40751840e-02 -3.72761488e-02\n",
            "  -3.53494175e-02 -1.96650978e-02 -1.49627328e-02 -2.81028394e-02]\n",
            " [-2.65310407e-02  4.54393364e-02 -3.52601893e-02  5.66923618e-03\n",
            "   7.92028755e-03 -4.58324328e-02 -1.92715283e-02  3.34141962e-02]\n",
            " [-6.77287951e-02  1.13345668e-01 -1.13244474e-01 -1.24213301e-01\n",
            "   5.27333058e-02 -1.08818874e-01  9.02308151e-02 -1.26316905e-01]\n",
            " [-1.77560337e-02  3.26869637e-03 -2.70613320e-02 -3.37855816e-02\n",
            "   2.98043340e-03  3.03319842e-03  1.92445628e-02 -3.95198949e-02]\n",
            " [-3.53093147e-02  2.62126960e-02 -4.48283814e-02  4.40848581e-02\n",
            "  -1.15531906e-02 -1.90309174e-02  2.74274983e-02  4.31893952e-02]\n",
            " [-9.13365930e-03  4.74720933e-02 -1.53057203e-02 -1.99914817e-02\n",
            "   2.52758004e-02  2.81279571e-02 -1.94454677e-02 -4.33733724e-02]\n",
            " [-3.20137031e-02  1.42040290e-02 -3.73921506e-02 -3.47491279e-02\n",
            "  -3.64744663e-02  4.46312502e-03 -2.28553060e-02  4.27842252e-02]\n",
            " [-8.05889443e-03  3.86759378e-02 -2.24617254e-02 -4.77043539e-03\n",
            "   2.12792046e-02  1.48090012e-02  4.72901799e-02  7.76060671e-03]\n",
            " [ 2.10340731e-02  2.24517323e-02  2.98961885e-02 -4.61849570e-02\n",
            "   7.22792000e-03 -1.23117454e-02  3.54877226e-02  1.83724426e-02]\n",
            " [-3.28638107e-02  1.84107088e-02 -7.75574520e-03  3.34587730e-02\n",
            "  -4.25253399e-02  1.10222809e-02  1.16977096e-02  2.80320086e-02]\n",
            " [ 1.44388631e-01 -1.19397134e-01 -1.20795853e-01 -1.27313539e-01\n",
            "  -1.07754298e-01  6.76512495e-02 -5.16798533e-02  1.23399742e-01]\n",
            " [ 2.70800926e-02 -1.33762732e-02 -1.85497403e-02  7.56352022e-03\n",
            "  -4.00996096e-02 -3.79974470e-02  3.18223275e-02  1.52813233e-02]\n",
            " [-1.80648640e-03 -1.41224489e-02 -3.42774987e-02  2.08610632e-02\n",
            "   4.34214510e-02 -2.28015427e-02 -3.19904462e-02 -1.43155940e-02]\n",
            " [ 1.37957819e-02 -3.97597663e-02  3.42487171e-03  3.74002345e-02\n",
            "  -2.94236895e-02 -2.75754463e-02  3.07955183e-02 -1.93044189e-02]\n",
            " [ 1.38501264e-02  4.18565609e-02 -6.65270165e-03 -4.75394726e-02\n",
            "   3.54392417e-02 -3.07952408e-02 -1.78147778e-02  1.91396214e-02]\n",
            " [ 1.41000412e-02  1.07233152e-02  2.69135721e-02  3.86746973e-03\n",
            "  -1.15608461e-02  3.04116495e-02 -4.29308414e-03 -4.77310680e-02]]\n"
          ]
        }
      ]
    },
    {
      "cell_type": "code",
      "source": [
        "padded_reviews.shape\n"
      ],
      "metadata": {
        "colab": {
          "base_uri": "https://localhost:8080/"
        },
        "id": "mZVXM3VFxkkN",
        "outputId": "112a5e00-ab3c-49f6-acdc-e5eab24df8ea"
      },
      "execution_count": 24,
      "outputs": [
        {
          "output_type": "execute_result",
          "data": {
            "text/plain": [
              "(10, 4)"
            ]
          },
          "metadata": {},
          "execution_count": 24
        }
      ]
    },
    {
      "cell_type": "code",
      "source": [
        "pred  = model.predict(padded_reviews)\n",
        "print(pred)"
      ],
      "metadata": {
        "colab": {
          "base_uri": "https://localhost:8080/"
        },
        "id": "rSDDdu2dwktM",
        "outputId": "81af1aa3-1718-4d63-d9f8-8accc3e1c40b"
      },
      "execution_count": 26,
      "outputs": [
        {
          "output_type": "stream",
          "name": "stdout",
          "text": [
            "1/1 [==============================] - 0s 49ms/step\n",
            "[[0.7129587 ]\n",
            " [0.6296881 ]\n",
            " [0.6465909 ]\n",
            " [0.6440757 ]\n",
            " [0.6358964 ]\n",
            " [0.32205626]\n",
            " [0.35885975]\n",
            " [0.32690954]\n",
            " [0.34922454]\n",
            " [0.38764417]]\n"
          ]
        }
      ]
    }
  ]
}