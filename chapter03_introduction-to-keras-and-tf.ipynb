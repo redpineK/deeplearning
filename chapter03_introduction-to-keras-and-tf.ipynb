{
  "cells": [
    {
      "cell_type": "markdown",
      "metadata": {
        "id": "LfldcZzRjR1L"
      },
      "source": [
        "이 노트북은 [케라스 창시자에게 배우는 딥러닝 2판](https://tensorflow.blog/kerasdl2/)의 예제 코드를 담고 있습니다.\n",
        "\n",
        "<table align=\"left\"><tr><td>\n",
        "<a href=\"https://colab.research.google.com/github/rickiepark/deep-learning-with-python-2nd/blob/master/chapter03_introduction-to-keras-and-tf.ipynb\" target=\"_parent\"><img src=\"https://colab.research.google.com/assets/colab-badge.svg\" alt=\"Open In Colab\"/></a>\n",
        "</td></tr></table>"
      ]
    },
    {
      "cell_type": "markdown",
      "metadata": {
        "id": "iKORndCjjR1N"
      },
      "source": [
        "# 케라스와 텐서플로 소개"
      ]
    },
    {
      "cell_type": "markdown",
      "metadata": {
        "id": "Bnvrkq6pjR1O"
      },
      "source": [
        "## 텐서플로란?"
      ]
    },
    {
      "cell_type": "markdown",
      "metadata": {
        "id": "gXa_qKgAjR1O"
      },
      "source": [
        "## 케라스란?"
      ]
    },
    {
      "cell_type": "markdown",
      "metadata": {
        "id": "9Ti2lq6PjR1O"
      },
      "source": [
        "## 케라스와 텐서플로의 간략한 역사"
      ]
    },
    {
      "cell_type": "markdown",
      "metadata": {
        "id": "RS5aSY-JjR1O"
      },
      "source": [
        "## 딥러닝 작업 환경 설정하기"
      ]
    },
    {
      "cell_type": "markdown",
      "metadata": {
        "id": "tpAPYi2NjR1P"
      },
      "source": [
        "### 주피터 노트북: 권장하는 딥러닝 실험 도구"
      ]
    },
    {
      "cell_type": "markdown",
      "metadata": {
        "id": "j0JRUfctjR1P"
      },
      "source": [
        "### 코랩 사용하기"
      ]
    },
    {
      "cell_type": "markdown",
      "metadata": {
        "id": "S99ikTFVjR1Q"
      },
      "source": [
        "#### 코랩 시작하기"
      ]
    },
    {
      "cell_type": "markdown",
      "metadata": {
        "id": "X58JBJtljR1Q"
      },
      "source": [
        "#### pip로 패키지 설치하기"
      ]
    },
    {
      "cell_type": "markdown",
      "metadata": {
        "id": "dCnG27L6jR1R"
      },
      "source": [
        "#### GPU 런타임 사용하기"
      ]
    },
    {
      "cell_type": "markdown",
      "metadata": {
        "id": "djDuvOKVjR1R"
      },
      "source": [
        "## 텐서플로 시작하기"
      ]
    },
    {
      "cell_type": "markdown",
      "metadata": {
        "id": "T887Zne6jR1R"
      },
      "source": [
        "#### 상수 텐서와 변수"
      ]
    },
    {
      "cell_type": "markdown",
      "metadata": {
        "id": "e8ykr8bMjR1R"
      },
      "source": [
        "**모두 1 또는 모두 0인 텐서**"
      ]
    },
    {
      "cell_type": "code",
      "execution_count": null,
      "metadata": {
        "execution": {
          "iopub.execute_input": "2022-05-21T00:58:14.681100Z",
          "iopub.status.busy": "2022-05-21T00:58:14.680540Z",
          "iopub.status.idle": "2022-05-21T00:58:16.481810Z",
          "shell.execute_reply": "2022-05-21T00:58:16.480769Z"
        },
        "id": "0Yh_78IzjR1R",
        "outputId": "ecf11ea3-2112-4e27-d93c-38d10cb521b0",
        "colab": {
          "base_uri": "https://localhost:8080/"
        }
      },
      "outputs": [
        {
          "output_type": "stream",
          "name": "stdout",
          "text": [
            "tf.Tensor(\n",
            "[[1.]\n",
            " [1.]], shape=(2, 1), dtype=float32)\n"
          ]
        }
      ],
      "source": [
        "import tensorflow as tf\n",
        "x = tf.ones(shape=(2, 1))\n",
        "print(x)"
      ]
    },
    {
      "cell_type": "code",
      "execution_count": null,
      "metadata": {
        "execution": {
          "iopub.execute_input": "2022-05-21T00:58:16.485729Z",
          "iopub.status.busy": "2022-05-21T00:58:16.485088Z",
          "iopub.status.idle": "2022-05-21T00:58:16.490852Z",
          "shell.execute_reply": "2022-05-21T00:58:16.490149Z"
        },
        "id": "63xkTvoXjR1T",
        "outputId": "46fa3899-9a70-41b7-9361-f169a8633452",
        "colab": {
          "base_uri": "https://localhost:8080/"
        }
      },
      "outputs": [
        {
          "output_type": "stream",
          "name": "stdout",
          "text": [
            "tf.Tensor(\n",
            "[[0.]\n",
            " [0.]], shape=(2, 1), dtype=float32)\n"
          ]
        }
      ],
      "source": [
        "x = tf.zeros(shape=(2, 1))\n",
        "print(x)"
      ]
    },
    {
      "cell_type": "markdown",
      "metadata": {
        "id": "NthSViHdjR1T"
      },
      "source": [
        "**랜덤 텐서**"
      ]
    },
    {
      "cell_type": "code",
      "execution_count": null,
      "metadata": {
        "execution": {
          "iopub.execute_input": "2022-05-21T00:58:16.494374Z",
          "iopub.status.busy": "2022-05-21T00:58:16.493742Z",
          "iopub.status.idle": "2022-05-21T00:58:16.501220Z",
          "shell.execute_reply": "2022-05-21T00:58:16.500464Z"
        },
        "id": "Ktevr051jR1T",
        "outputId": "8b50b09d-ab92-4fb7-c3d8-7809dca4c275",
        "colab": {
          "base_uri": "https://localhost:8080/"
        }
      },
      "outputs": [
        {
          "output_type": "stream",
          "name": "stdout",
          "text": [
            "tf.Tensor(\n",
            "[[ 0.6189793 ]\n",
            " [ 0.77359086]\n",
            " [-0.66645133]], shape=(3, 1), dtype=float32)\n"
          ]
        }
      ],
      "source": [
        "x = tf.random.normal(shape=(3, 1), mean=0., stddev=1.)\n",
        "print(x)"
      ]
    },
    {
      "cell_type": "code",
      "execution_count": null,
      "metadata": {
        "execution": {
          "iopub.execute_input": "2022-05-21T00:58:16.504901Z",
          "iopub.status.busy": "2022-05-21T00:58:16.504410Z",
          "iopub.status.idle": "2022-05-21T00:58:16.510480Z",
          "shell.execute_reply": "2022-05-21T00:58:16.509458Z"
        },
        "id": "lcm6ziA-jR1T",
        "outputId": "560c99b8-e33c-4ff4-91b8-4d370a0fab06",
        "colab": {
          "base_uri": "https://localhost:8080/"
        }
      },
      "outputs": [
        {
          "output_type": "stream",
          "name": "stdout",
          "text": [
            "tf.Tensor(\n",
            "[[0.05876148]\n",
            " [0.3948239 ]\n",
            " [0.3419211 ]], shape=(3, 1), dtype=float32)\n"
          ]
        }
      ],
      "source": [
        "x = tf.random.uniform(shape=(3, 1), minval=0., maxval=1.)\n",
        "print(x)"
      ]
    },
    {
      "cell_type": "markdown",
      "metadata": {
        "id": "Xr-7w0jHjR1U"
      },
      "source": [
        "**넘파이 배열에 값 할당하기**"
      ]
    },
    {
      "cell_type": "code",
      "execution_count": null,
      "metadata": {
        "execution": {
          "iopub.execute_input": "2022-05-21T00:58:16.514734Z",
          "iopub.status.busy": "2022-05-21T00:58:16.514199Z",
          "iopub.status.idle": "2022-05-21T00:58:16.518209Z",
          "shell.execute_reply": "2022-05-21T00:58:16.517567Z"
        },
        "id": "0HnGGxzJjR1U"
      },
      "outputs": [],
      "source": [
        "import numpy as np\n",
        "x = np.ones(shape=(2, 2))\n",
        "x[0, 0] = 0."
      ]
    },
    {
      "cell_type": "markdown",
      "metadata": {
        "id": "exaFII_wjR1U"
      },
      "source": [
        "**텐서플로 변수 만들기**"
      ]
    },
    {
      "cell_type": "code",
      "execution_count": null,
      "metadata": {
        "execution": {
          "iopub.execute_input": "2022-05-21T00:58:16.522164Z",
          "iopub.status.busy": "2022-05-21T00:58:16.521381Z",
          "iopub.status.idle": "2022-05-21T00:58:16.529208Z",
          "shell.execute_reply": "2022-05-21T00:58:16.528387Z"
        },
        "id": "W3dtiJ7hjR1U",
        "outputId": "bb0daa21-e1e6-4d49-cbb4-a8944e98d88c",
        "colab": {
          "base_uri": "https://localhost:8080/"
        }
      },
      "outputs": [
        {
          "output_type": "stream",
          "name": "stdout",
          "text": [
            "<tf.Variable 'Variable:0' shape=(3, 1) dtype=float32, numpy=\n",
            "array([[-0.27607322],\n",
            "       [-2.4914272 ],\n",
            "       [ 1.2171313 ]], dtype=float32)>\n"
          ]
        }
      ],
      "source": [
        "v = tf.Variable(initial_value=tf.random.normal(shape=(3, 1)))\n",
        "print(v)"
      ]
    },
    {
      "cell_type": "markdown",
      "metadata": {
        "id": "ylun-78QjR1V"
      },
      "source": [
        "**텐서플로 변수에 값 할당하기**"
      ]
    },
    {
      "cell_type": "code",
      "execution_count": null,
      "metadata": {
        "execution": {
          "iopub.execute_input": "2022-05-21T00:58:16.532960Z",
          "iopub.status.busy": "2022-05-21T00:58:16.532657Z",
          "iopub.status.idle": "2022-05-21T00:58:16.545443Z",
          "shell.execute_reply": "2022-05-21T00:58:16.544477Z"
        },
        "id": "3L7pyEarjR1V",
        "outputId": "7faa42ff-2e16-4f31-f562-707f6891a286",
        "colab": {
          "base_uri": "https://localhost:8080/"
        }
      },
      "outputs": [
        {
          "output_type": "execute_result",
          "data": {
            "text/plain": [
              "<tf.Variable 'UnreadVariable' shape=(3, 1) dtype=float32, numpy=\n",
              "array([[1.],\n",
              "       [1.],\n",
              "       [1.]], dtype=float32)>"
            ]
          },
          "metadata": {},
          "execution_count": 7
        }
      ],
      "source": [
        "v.assign(tf.ones((3, 1)))"
      ]
    },
    {
      "cell_type": "markdown",
      "metadata": {
        "id": "slQzosWHjR1V"
      },
      "source": [
        "**변수 일부에 값 할당하기**"
      ]
    },
    {
      "cell_type": "code",
      "execution_count": null,
      "metadata": {
        "execution": {
          "iopub.execute_input": "2022-05-21T00:58:16.549025Z",
          "iopub.status.busy": "2022-05-21T00:58:16.548733Z",
          "iopub.status.idle": "2022-05-21T00:58:16.557519Z",
          "shell.execute_reply": "2022-05-21T00:58:16.556482Z"
        },
        "id": "RM9JbVFMjR1V",
        "outputId": "e9039823-f55c-4473-cbfd-4a2bcd2d7185",
        "colab": {
          "base_uri": "https://localhost:8080/"
        }
      },
      "outputs": [
        {
          "output_type": "execute_result",
          "data": {
            "text/plain": [
              "<tf.Variable 'UnreadVariable' shape=(3, 1) dtype=float32, numpy=\n",
              "array([[3.],\n",
              "       [1.],\n",
              "       [1.]], dtype=float32)>"
            ]
          },
          "metadata": {},
          "execution_count": 8
        }
      ],
      "source": [
        "v[0, 0].assign(3.)"
      ]
    },
    {
      "cell_type": "markdown",
      "metadata": {
        "id": "m2PtAFsgjR1V"
      },
      "source": [
        "**`assign_add` 사용하기**"
      ]
    },
    {
      "cell_type": "code",
      "execution_count": null,
      "metadata": {
        "execution": {
          "iopub.execute_input": "2022-05-21T00:58:16.561236Z",
          "iopub.status.busy": "2022-05-21T00:58:16.560971Z",
          "iopub.status.idle": "2022-05-21T00:58:16.568357Z",
          "shell.execute_reply": "2022-05-21T00:58:16.567523Z"
        },
        "id": "nRvjF0NKjR1W",
        "outputId": "9257b875-0ded-4403-ff38-3a1e78a7d0dd",
        "colab": {
          "base_uri": "https://localhost:8080/"
        }
      },
      "outputs": [
        {
          "output_type": "execute_result",
          "data": {
            "text/plain": [
              "<tf.Variable 'UnreadVariable' shape=(3, 1) dtype=float32, numpy=\n",
              "array([[4.],\n",
              "       [2.],\n",
              "       [2.]], dtype=float32)>"
            ]
          },
          "metadata": {},
          "execution_count": 9
        }
      ],
      "source": [
        "v.assign_add(tf.ones((3, 1)))"
      ]
    },
    {
      "cell_type": "markdown",
      "metadata": {
        "id": "ZdevQ8z-jR1W"
      },
      "source": [
        "#### 텐서 연산: 텐서플로에서 수학 계산하기"
      ]
    },
    {
      "cell_type": "markdown",
      "metadata": {
        "id": "tckVPX4tjR1W"
      },
      "source": [
        "**기본적인 수학 연산**"
      ]
    },
    {
      "cell_type": "code",
      "execution_count": null,
      "metadata": {
        "execution": {
          "iopub.execute_input": "2022-05-21T00:58:16.572052Z",
          "iopub.status.busy": "2022-05-21T00:58:16.571786Z",
          "iopub.status.idle": "2022-05-21T00:58:16.599467Z",
          "shell.execute_reply": "2022-05-21T00:58:16.598533Z"
        },
        "id": "2cfJ4xb9jR1W"
      },
      "outputs": [],
      "source": [
        "a = tf.ones((2, 2))\n",
        "b = tf.square(a)\n",
        "c = tf.sqrt(a)\n",
        "d = b + c\n",
        "e = tf.matmul(a, b)\n",
        "e *= d"
      ]
    },
    {
      "cell_type": "markdown",
      "metadata": {
        "id": "yD4QBR3LjR1W"
      },
      "source": [
        "#### GradientTape API 다시 살펴 보기"
      ]
    },
    {
      "cell_type": "markdown",
      "metadata": {
        "id": "wf9L61oejR1W"
      },
      "source": [
        "**`GradientTape` 사용하기**"
      ]
    },
    {
      "cell_type": "code",
      "execution_count": null,
      "metadata": {
        "execution": {
          "iopub.execute_input": "2022-05-21T00:58:16.603842Z",
          "iopub.status.busy": "2022-05-21T00:58:16.603513Z",
          "iopub.status.idle": "2022-05-21T00:58:16.612102Z",
          "shell.execute_reply": "2022-05-21T00:58:16.611176Z"
        },
        "id": "r2NyvJv1jR1W"
      },
      "outputs": [],
      "source": [
        "input_var = tf.Variable(initial_value=3.)\n",
        "with tf.GradientTape() as tape:\n",
        "   result = tf.square(input_var)\n",
        "gradient = tape.gradient(result, input_var)"
      ]
    },
    {
      "cell_type": "markdown",
      "metadata": {
        "id": "o9CCUOnqjR1W"
      },
      "source": [
        "**상수 입력 텐서와 함께 `GradientTape` 사용하기**"
      ]
    },
    {
      "cell_type": "code",
      "execution_count": null,
      "metadata": {
        "execution": {
          "iopub.execute_input": "2022-05-21T00:58:16.615692Z",
          "iopub.status.busy": "2022-05-21T00:58:16.615413Z",
          "iopub.status.idle": "2022-05-21T00:58:16.620532Z",
          "shell.execute_reply": "2022-05-21T00:58:16.619752Z"
        },
        "id": "GeWtkJ5ijR1X"
      },
      "outputs": [],
      "source": [
        "input_const = tf.constant(3.)\n",
        "with tf.GradientTape() as tape:\n",
        "   tape.watch(input_const)\n",
        "   result = tf.square(input_const)\n",
        "gradient = tape.gradient(result, input_const)"
      ]
    },
    {
      "cell_type": "markdown",
      "metadata": {
        "id": "UOoe3Zp8jR1X"
      },
      "source": [
        "**그레이디언트 테이프를 중첩하여 이계도 그레이디언트를 계산하기**"
      ]
    },
    {
      "cell_type": "code",
      "execution_count": null,
      "metadata": {
        "execution": {
          "iopub.execute_input": "2022-05-21T00:58:16.624217Z",
          "iopub.status.busy": "2022-05-21T00:58:16.623600Z",
          "iopub.status.idle": "2022-05-21T00:58:16.630991Z",
          "shell.execute_reply": "2022-05-21T00:58:16.629989Z"
        },
        "id": "e5gXa8SVjR1X"
      },
      "outputs": [],
      "source": [
        "time = tf.Variable(0.)\n",
        "with tf.GradientTape() as outer_tape:\n",
        "    with tf.GradientTape() as inner_tape:\n",
        "        position =  4.9 * time ** 2\n",
        "    speed = inner_tape.gradient(position, time)\n",
        "acceleration = outer_tape.gradient(speed, time)"
      ]
    },
    {
      "cell_type": "markdown",
      "metadata": {
        "id": "A1MVfacbjR1X"
      },
      "source": [
        "#### 엔드-투-엔드 예제: 텐서플로 선형 분류기"
      ]
    },
    {
      "cell_type": "markdown",
      "metadata": {
        "id": "l8RNP89rjR1X"
      },
      "source": [
        "**2D 평면에 두 클래스의 랜덤한 포인트 생성하기**"
      ]
    },
    {
      "cell_type": "code",
      "execution_count": null,
      "metadata": {
        "execution": {
          "iopub.execute_input": "2022-05-21T00:58:16.635105Z",
          "iopub.status.busy": "2022-05-21T00:58:16.634828Z",
          "iopub.status.idle": "2022-05-21T00:58:16.641379Z",
          "shell.execute_reply": "2022-05-21T00:58:16.640512Z"
        },
        "id": "ukRDkZjcjR1X"
      },
      "outputs": [],
      "source": [
        "num_samples_per_class = 1000\n",
        "negative_samples = np.random.multivariate_normal(\n",
        "    mean=[0, 3],\n",
        "    cov=[[1, 0.5],[0.5, 1]],\n",
        "    size=num_samples_per_class)\n",
        "positive_samples = np.random.multivariate_normal(\n",
        "    mean=[3, 0],\n",
        "    cov=[[1, 0.5],[0.5, 1]],\n",
        "    size=num_samples_per_class)"
      ]
    },
    {
      "cell_type": "markdown",
      "metadata": {
        "id": "XNW_TQz7jR1X"
      },
      "source": [
        "**두 클래스를 (2000, 2) 크기의 한 배열로 쌓기**"
      ]
    },
    {
      "cell_type": "code",
      "execution_count": null,
      "metadata": {
        "execution": {
          "iopub.execute_input": "2022-05-21T00:58:16.645184Z",
          "iopub.status.busy": "2022-05-21T00:58:16.644657Z",
          "iopub.status.idle": "2022-05-21T00:58:16.649566Z",
          "shell.execute_reply": "2022-05-21T00:58:16.648645Z"
        },
        "id": "mKsVyGg0jR1Y"
      },
      "outputs": [],
      "source": [
        "inputs = np.vstack((negative_samples, positive_samples)).astype(np.float32)"
      ]
    },
    {
      "cell_type": "markdown",
      "metadata": {
        "id": "JR70BhDujR1Y"
      },
      "source": [
        "**(0과 1로 구성된) 타깃 생성하기**"
      ]
    },
    {
      "cell_type": "code",
      "execution_count": null,
      "metadata": {
        "execution": {
          "iopub.execute_input": "2022-05-21T00:58:16.653376Z",
          "iopub.status.busy": "2022-05-21T00:58:16.652893Z",
          "iopub.status.idle": "2022-05-21T00:58:16.656858Z",
          "shell.execute_reply": "2022-05-21T00:58:16.656239Z"
        },
        "id": "jMEgZXkMjR1Y"
      },
      "outputs": [],
      "source": [
        "targets = np.vstack((np.zeros((num_samples_per_class, 1), dtype=\"float32\"),\n",
        "                     np.ones((num_samples_per_class, 1), dtype=\"float32\")))"
      ]
    },
    {
      "cell_type": "markdown",
      "metadata": {
        "id": "3joL3w9qjR1Y"
      },
      "source": [
        "**두 클래스의 포인트를 그래프로 그리기**"
      ]
    },
    {
      "cell_type": "code",
      "execution_count": null,
      "metadata": {
        "execution": {
          "iopub.execute_input": "2022-05-21T00:58:16.660370Z",
          "iopub.status.busy": "2022-05-21T00:58:16.659928Z",
          "iopub.status.idle": "2022-05-21T00:58:17.496563Z",
          "shell.execute_reply": "2022-05-21T00:58:17.495565Z"
        },
        "id": "9TXfBsUJjR1Y",
        "outputId": "2442cc8e-1ee0-47fd-bf4c-ae77653fd625",
        "colab": {
          "base_uri": "https://localhost:8080/",
          "height": 265
        }
      },
      "outputs": [
        {
          "output_type": "display_data",
          "data": {
            "text/plain": [
              "<Figure size 432x288 with 1 Axes>"
            ],
            "image/png": "[encoded data removed]"
          },
          "metadata": {
            "needs_background": "light"
          }
        }
      ],
      "source": [
        "import matplotlib.pyplot as plt\n",
        "plt.scatter(inputs[:, 0], inputs[:, 1], c=targets[:, 0])\n",
        "plt.show()"
      ]
    },
    {
      "cell_type": "markdown",
      "metadata": {
        "id": "2fZlBGjfjR1Y"
      },
      "source": [
        "**선형 분류기의 변수 만들기**"
      ]
    },
    {
      "cell_type": "code",
      "execution_count": null,
      "metadata": {
        "execution": {
          "iopub.execute_input": "2022-05-21T00:58:17.501331Z",
          "iopub.status.busy": "2022-05-21T00:58:17.500625Z",
          "iopub.status.idle": "2022-05-21T00:58:17.507479Z",
          "shell.execute_reply": "2022-05-21T00:58:17.506630Z"
        },
        "id": "Lr6-tTFtjR1Y"
      },
      "outputs": [],
      "source": [
        "input_dim = 2\n",
        "output_dim = 1\n",
        "W = tf.Variable(initial_value=tf.random.uniform(shape=(input_dim, output_dim)))\n",
        "b = tf.Variable(initial_value=tf.zeros(shape=(output_dim,)))"
      ]
    },
    {
      "cell_type": "markdown",
      "metadata": {
        "id": "nepUS0hcjR1Y"
      },
      "source": [
        "**정방향 패스 함수**"
      ]
    },
    {
      "cell_type": "code",
      "execution_count": null,
      "metadata": {
        "execution": {
          "iopub.execute_input": "2022-05-21T00:58:17.511530Z",
          "iopub.status.busy": "2022-05-21T00:58:17.510880Z",
          "iopub.status.idle": "2022-05-21T00:58:17.514807Z",
          "shell.execute_reply": "2022-05-21T00:58:17.513996Z"
        },
        "id": "NENOsp6wjR1Z"
      },
      "outputs": [],
      "source": [
        "def model(inputs):\n",
        "    return tf.matmul(inputs, W) + b"
      ]
    },
    {
      "cell_type": "markdown",
      "metadata": {
        "id": "PS4bb2IFjR1Z"
      },
      "source": [
        "**평균 제곱 오차 손실 함수**"
      ]
    },
    {
      "cell_type": "code",
      "execution_count": null,
      "metadata": {
        "execution": {
          "iopub.execute_input": "2022-05-21T00:58:17.518429Z",
          "iopub.status.busy": "2022-05-21T00:58:17.518140Z",
          "iopub.status.idle": "2022-05-21T00:58:17.522316Z",
          "shell.execute_reply": "2022-05-21T00:58:17.521551Z"
        },
        "id": "TfRT4wnCjR1Z"
      },
      "outputs": [],
      "source": [
        "def square_loss(targets, predictions):\n",
        "    per_sample_losses = tf.square(targets - predictions)\n",
        "    return tf.reduce_mean(per_sample_losses)"
      ]
    },
    {
      "cell_type": "markdown",
      "metadata": {
        "id": "BnMMSTVojR1a"
      },
      "source": [
        "**훈련 스텝 함수**"
      ]
    },
    {
      "cell_type": "code",
      "execution_count": null,
      "metadata": {
        "execution": {
          "iopub.execute_input": "2022-05-21T00:58:17.526391Z",
          "iopub.status.busy": "2022-05-21T00:58:17.525809Z",
          "iopub.status.idle": "2022-05-21T00:58:17.531136Z",
          "shell.execute_reply": "2022-05-21T00:58:17.530318Z"
        },
        "id": "pfnfnGcbjR1a"
      },
      "outputs": [],
      "source": [
        "learning_rate = 0.1\n",
        "\n",
        "def training_step(inputs, targets):\n",
        "    with tf.GradientTape() as tape:\n",
        "        predictions = model(inputs)\n",
        "        loss = square_loss(targets, predictions)\n",
        "    grad_loss_wrt_W, grad_loss_wrt_b = tape.gradient(loss, [W, b])\n",
        "    W.assign_sub(grad_loss_wrt_W * learning_rate)\n",
        "    b.assign_sub(grad_loss_wrt_b * learning_rate)\n",
        "    return loss"
      ]
    },
    {
      "cell_type": "markdown",
      "metadata": {
        "id": "AdzwgKLIjR1a"
      },
      "source": [
        "**배치 훈련 루프**"
      ]
    },
    {
      "cell_type": "code",
      "execution_count": null,
      "metadata": {
        "execution": {
          "iopub.execute_input": "2022-05-21T00:58:17.535011Z",
          "iopub.status.busy": "2022-05-21T00:58:17.534413Z",
          "iopub.status.idle": "2022-05-21T00:58:17.601552Z",
          "shell.execute_reply": "2022-05-21T00:58:17.600577Z"
        },
        "id": "EXeU2olUjR1a",
        "outputId": "28f04b28-9bc0-40ca-f0f7-4858938da762",
        "colab": {
          "base_uri": "https://localhost:8080/"
        }
      },
      "outputs": [
        {
          "output_type": "stream",
          "name": "stdout",
          "text": [
            "0번째 스텝의 손실: 6.7348\n",
            "1번째 스텝의 손실: 1.0284\n",
            "2번째 스텝의 손실: 0.2843\n",
            "3번째 스텝의 손실: 0.1757\n",
            "4번째 스텝의 손실: 0.1508\n",
            "5번째 스텝의 손실: 0.1378\n",
            "6번째 스텝의 손실: 0.1271\n",
            "7번째 스텝의 손실: 0.1177\n",
            "8번째 스텝의 손실: 0.1091\n",
            "9번째 스텝의 손실: 0.1013\n",
            "10번째 스텝의 손실: 0.0942\n",
            "11번째 스텝의 손실: 0.0877\n",
            "12번째 스텝의 손실: 0.0819\n",
            "13번째 스텝의 손실: 0.0766\n",
            "14번째 스텝의 손실: 0.0717\n",
            "15번째 스텝의 손실: 0.0673\n",
            "16번째 스텝의 손실: 0.0633\n",
            "17번째 스텝의 손실: 0.0597\n",
            "18번째 스텝의 손실: 0.0564\n",
            "19번째 스텝의 손실: 0.0534\n",
            "20번째 스텝의 손실: 0.0507\n",
            "21번째 스텝의 손실: 0.0482\n",
            "22번째 스텝의 손실: 0.0460\n",
            "23번째 스텝의 손실: 0.0439\n",
            "24번째 스텝의 손실: 0.0421\n",
            "25번째 스텝의 손실: 0.0404\n",
            "26번째 스텝의 손실: 0.0389\n",
            "27번째 스텝의 손실: 0.0375\n",
            "28번째 스텝의 손실: 0.0362\n",
            "29번째 스텝의 손실: 0.0351\n",
            "30번째 스텝의 손실: 0.0340\n",
            "31번째 스텝의 손실: 0.0331\n",
            "32번째 스텝의 손실: 0.0322\n",
            "33번째 스텝의 손실: 0.0314\n",
            "34번째 스텝의 손실: 0.0307\n",
            "35번째 스텝의 손실: 0.0301\n",
            "36번째 스텝의 손실: 0.0295\n",
            "37번째 스텝의 손실: 0.0289\n",
            "38번째 스텝의 손실: 0.0285\n",
            "39번째 스텝의 손실: 0.0280\n"
          ]
        }
      ],
      "source": [
        "for step in range(40):\n",
        "    loss = training_step(inputs, targets)\n",
        "    print(f\"{step}번째 스텝의 손실: {loss:.4f}\")"
      ]
    },
    {
      "cell_type": "code",
      "execution_count": null,
      "metadata": {
        "execution": {
          "iopub.execute_input": "2022-05-21T00:58:17.605276Z",
          "iopub.status.busy": "2022-05-21T00:58:17.604747Z",
          "iopub.status.idle": "2022-05-21T00:58:17.748955Z",
          "shell.execute_reply": "2022-05-21T00:58:17.746773Z"
        },
        "id": "JR1aqLU5jR1b",
        "outputId": "1717c6d8-cf64-494f-d8e7-47814246a234",
        "colab": {
          "base_uri": "https://localhost:8080/",
          "height": 265
        }
      },
      "outputs": [
        {
          "output_type": "display_data",
          "data": {
            "text/plain": [
              "<Figure size 432x288 with 1 Axes>"
            ],
            "image/png": "[encoded data removed]"
          },
          "metadata": {
            "needs_background": "light"
          }
        }
      ],
      "source": [
        "predictions = model(inputs)\n",
        "plt.scatter(inputs[:, 0], inputs[:, 1], c=predictions[:, 0] > 0.5)\n",
        "plt.show()"
      ]
    },
    {
      "cell_type": "code",
      "execution_count": null,
      "metadata": {
        "execution": {
          "iopub.execute_input": "2022-05-21T00:58:17.753051Z",
          "iopub.status.busy": "2022-05-21T00:58:17.752361Z",
          "iopub.status.idle": "2022-05-21T00:58:17.897123Z",
          "shell.execute_reply": "2022-05-21T00:58:17.895862Z"
        },
        "id": "iJrHw9WSjR1b",
        "outputId": "c30ab7f6-995d-48f1-a595-ae10e3a18e7c",
        "colab": {
          "base_uri": "https://localhost:8080/",
          "height": 265
        }
      },
      "outputs": [
        {
          "output_type": "display_data",
          "data": {
            "text/plain": [
              "<Figure size 432x288 with 1 Axes>"
            ],
            "image/png": "[encoded data removed]"
          },
          "metadata": {
            "needs_background": "light"
          }
        }
      ],
      "source": [
        "x = np.linspace(-1, 4, 100)\n",
        "# 사실 100개의 x 축 좌표를 만들 필요 없이 시작과 종료 위치만 있어도 됩니다.\n",
        "# x = [-1, 4]\n",
        "y = - W[0] /  W[1] * x + (0.5 - b) / W[1]\n",
        "plt.plot(x, y, \"-r\")\n",
        "plt.scatter(inputs[:, 0], inputs[:, 1], c=predictions[:, 0] > 0.5)\n",
        "plt.show()"
      ]
    },
    {
      "cell_type": "markdown",
      "metadata": {
        "id": "6Z2drwSqjR1b"
      },
      "source": [
        "## 신경망의 구조: 핵심 Keras API 이해하기"
      ]
    },
    {
      "cell_type": "markdown",
      "metadata": {
        "id": "tOk_UcQyjR1b"
      },
      "source": [
        "### 층: 딥러닝의 구성 요소"
      ]
    },
    {
      "cell_type": "markdown",
      "metadata": {
        "id": "R2XTNDbxjR1b"
      },
      "source": [
        "#### 케라스의 Layer 클래스"
      ]
    },
    {
      "cell_type": "markdown",
      "metadata": {
        "id": "VCGiAeb3jR1b"
      },
      "source": [
        "**`Layer`의 서브클래스로 구현한 `Dense` 층**"
      ]
    },
    {
      "cell_type": "code",
      "execution_count": null,
      "metadata": {
        "execution": {
          "iopub.execute_input": "2022-05-21T00:58:17.901835Z",
          "iopub.status.busy": "2022-05-21T00:58:17.901476Z",
          "iopub.status.idle": "2022-05-21T00:58:17.908604Z",
          "shell.execute_reply": "2022-05-21T00:58:17.907592Z"
        },
        "id": "0gwFDo70jR1b"
      },
      "outputs": [],
      "source": [
        "from tensorflow import keras\n",
        "\n",
        "class SimpleDense(keras.layers.Layer):\n",
        "\n",
        "    def __init__(self, units, activation=None):\n",
        "        super().__init__()\n",
        "        self.units = units\n",
        "        self.activation = activation\n",
        "\n",
        "    def build(self, input_shape):\n",
        "        input_dim = input_shape[-1]\n",
        "        self.W = self.add_weight(shape=(input_dim, self.units),\n",
        "                                 initializer=\"random_normal\")\n",
        "        self.b = self.add_weight(shape=(self.units,),\n",
        "                                 initializer=\"zeros\")\n",
        "\n",
        "    def call(self, inputs):\n",
        "        y = tf.matmul(inputs, self.W) + self.b\n",
        "        if self.activation is not None:\n",
        "            y = self.activation(y)\n",
        "        return y"
      ]
    },
    {
      "cell_type": "code",
      "execution_count": null,
      "metadata": {
        "execution": {
          "iopub.execute_input": "2022-05-21T00:58:17.912833Z",
          "iopub.status.busy": "2022-05-21T00:58:17.912083Z",
          "iopub.status.idle": "2022-05-21T00:58:17.923080Z",
          "shell.execute_reply": "2022-05-21T00:58:17.922276Z"
        },
        "id": "Z2KTF3FijR1c",
        "outputId": "1abcc42b-b145-4646-e148-cb9be937fad5",
        "colab": {
          "base_uri": "https://localhost:8080/"
        }
      },
      "outputs": [
        {
          "output_type": "stream",
          "name": "stdout",
          "text": [
            "(2, 32)\n"
          ]
        }
      ],
      "source": [
        "my_dense = SimpleDense(units=32, activation=tf.nn.relu)\n",
        "input_tensor = tf.ones(shape=(2, 784))\n",
        "output_tensor = my_dense(input_tensor)\n",
        "print(output_tensor.shape)"
      ]
    },
    {
      "cell_type": "markdown",
      "metadata": {
        "id": "-VnPv_4djR1c"
      },
      "source": [
        "#### 자동 크기 추론: 동적으로 층 만들기"
      ]
    },
    {
      "cell_type": "code",
      "execution_count": null,
      "metadata": {
        "execution": {
          "iopub.execute_input": "2022-05-21T00:58:17.926464Z",
          "iopub.status.busy": "2022-05-21T00:58:17.926171Z",
          "iopub.status.idle": "2022-05-21T00:58:17.933973Z",
          "shell.execute_reply": "2022-05-21T00:58:17.932941Z"
        },
        "id": "uO_ctIKmjR1c"
      },
      "outputs": [],
      "source": [
        "from tensorflow.keras import layers\n",
        "layer = layers.Dense(32, activation=\"relu\")"
      ]
    },
    {
      "cell_type": "code",
      "execution_count": null,
      "metadata": {
        "execution": {
          "iopub.execute_input": "2022-05-21T00:58:17.937598Z",
          "iopub.status.busy": "2022-05-21T00:58:17.937320Z",
          "iopub.status.idle": "2022-05-21T00:58:17.945965Z",
          "shell.execute_reply": "2022-05-21T00:58:17.944897Z"
        },
        "id": "MZxM9YAxjR1c"
      },
      "outputs": [],
      "source": [
        "from tensorflow.keras import models\n",
        "from tensorflow.keras import layers\n",
        "model = models.Sequential([\n",
        "    layers.Dense(32, activation=\"relu\"),\n",
        "    layers.Dense(32)\n",
        "])"
      ]
    },
    {
      "cell_type": "code",
      "execution_count": null,
      "metadata": {
        "execution": {
          "iopub.execute_input": "2022-05-21T00:58:17.949491Z",
          "iopub.status.busy": "2022-05-21T00:58:17.949222Z",
          "iopub.status.idle": "2022-05-21T00:58:17.957588Z",
          "shell.execute_reply": "2022-05-21T00:58:17.956818Z"
        },
        "id": "7x4nViHrjR1c"
      },
      "outputs": [],
      "source": [
        "model = keras.Sequential([\n",
        "    SimpleDense(32, activation=\"relu\"),\n",
        "    SimpleDense(64, activation=\"relu\"),\n",
        "    SimpleDense(32, activation=\"relu\"),\n",
        "    SimpleDense(10, activation=\"softmax\")\n",
        "])"
      ]
    },
    {
      "cell_type": "markdown",
      "metadata": {
        "id": "AnOIxT_pjR1c"
      },
      "source": [
        "### 층에서 모델로"
      ]
    },
    {
      "cell_type": "markdown",
      "metadata": {
        "id": "GuWb-UATjR1c"
      },
      "source": [
        "### “컴파일” 단계: 학습 과정 설정"
      ]
    },
    {
      "cell_type": "code",
      "execution_count": null,
      "metadata": {
        "execution": {
          "iopub.execute_input": "2022-05-21T00:58:17.961340Z",
          "iopub.status.busy": "2022-05-21T00:58:17.961064Z",
          "iopub.status.idle": "2022-05-21T00:58:17.973759Z",
          "shell.execute_reply": "2022-05-21T00:58:17.972882Z"
        },
        "id": "a6R5ru-3jR1c"
      },
      "outputs": [],
      "source": [
        "model = keras.Sequential([keras.layers.Dense(1)])\n",
        "model.compile(optimizer=\"rmsprop\",\n",
        "              loss=\"mean_squared_error\",\n",
        "              metrics=[\"accuracy\"])"
      ]
    },
    {
      "cell_type": "code",
      "execution_count": null,
      "metadata": {
        "execution": {
          "iopub.execute_input": "2022-05-21T00:58:17.977477Z",
          "iopub.status.busy": "2022-05-21T00:58:17.977176Z",
          "iopub.status.idle": "2022-05-21T00:58:17.989690Z",
          "shell.execute_reply": "2022-05-21T00:58:17.988911Z"
        },
        "id": "uA44NTPejR1c"
      },
      "outputs": [],
      "source": [
        "model.compile(optimizer=keras.optimizers.RMSprop(),\n",
        "              loss=keras.losses.MeanSquaredError(),\n",
        "              metrics=[keras.metrics.BinaryAccuracy()])"
      ]
    },
    {
      "cell_type": "markdown",
      "metadata": {
        "id": "3lnKn8lZjR1d"
      },
      "source": [
        "### 손실 함수 선택하기"
      ]
    },
    {
      "cell_type": "markdown",
      "metadata": {
        "id": "cDOSr9pXjR1d"
      },
      "source": [
        "### fit() 메서드 이해하기"
      ]
    },
    {
      "cell_type": "markdown",
      "metadata": {
        "id": "tmBftilFjR1d"
      },
      "source": [
        "**넘파이 데이터로 `fit()` 메서드 호출하기**"
      ]
    },
    {
      "cell_type": "code",
      "execution_count": null,
      "metadata": {
        "execution": {
          "iopub.execute_input": "2022-05-21T00:58:17.993795Z",
          "iopub.status.busy": "2022-05-21T00:58:17.993504Z",
          "iopub.status.idle": "2022-05-21T00:58:18.510003Z",
          "shell.execute_reply": "2022-05-21T00:58:18.509248Z"
        },
        "id": "TCD2GNU2jR1d",
        "outputId": "92647832-705d-4bbc-e648-f5f92ced9f6c",
        "colab": {
          "base_uri": "https://localhost:8080/"
        }
      },
      "outputs": [
        {
          "output_type": "stream",
          "name": "stdout",
          "text": [
            "Epoch 1/5\n",
            "16/16 [==============================] - 1s 2ms/step - loss: 10.1885 - binary_accuracy: 0.0020\n",
            "Epoch 2/5\n",
            "16/16 [==============================] - 0s 2ms/step - loss: 9.8145 - binary_accuracy: 0.0020 \n",
            "Epoch 3/5\n",
            "16/16 [==============================] - 0s 2ms/step - loss: 9.4990 - binary_accuracy: 0.0020\n",
            "Epoch 4/5\n",
            "16/16 [==============================] - 0s 2ms/step - loss: 9.1918 - binary_accuracy: 0.0020\n",
            "Epoch 5/5\n",
            "16/16 [==============================] - 0s 1ms/step - loss: 8.8920 - binary_accuracy: 0.0020\n"
          ]
        }
      ],
      "source": [
        "history = model.fit(\n",
        "    inputs,\n",
        "    targets,\n",
        "    epochs=5,\n",
        "    batch_size=128\n",
        ")"
      ]
    },
    {
      "cell_type": "code",
      "execution_count": null,
      "metadata": {
        "execution": {
          "iopub.execute_input": "2022-05-21T00:58:18.513804Z",
          "iopub.status.busy": "2022-05-21T00:58:18.513289Z",
          "iopub.status.idle": "2022-05-21T00:58:18.518984Z",
          "shell.execute_reply": "2022-05-21T00:58:18.518076Z"
        },
        "id": "7g0R_STajR1d",
        "outputId": "3c062060-d34a-4782-e19e-08338b3a4224",
        "colab": {
          "base_uri": "https://localhost:8080/"
        }
      },
      "outputs": [
        {
          "output_type": "execute_result",
          "data": {
            "text/plain": [
              "{'loss': [10.188525199890137,\n",
              "  9.814451217651367,\n",
              "  9.498977661132812,\n",
              "  9.191787719726562,\n",
              "  8.891997337341309],\n",
              " 'binary_accuracy': [0.0020000000949949026,\n",
              "  0.0020000000949949026,\n",
              "  0.0020000000949949026,\n",
              "  0.0020000000949949026,\n",
              "  0.0020000000949949026]}"
            ]
          },
          "metadata": {},
          "execution_count": 33
        }
      ],
      "source": [
        "history.history"
      ]
    },
    {
      "cell_type": "markdown",
      "metadata": {
        "id": "eg7A4QwCjR1d"
      },
      "source": [
        "### 검증 데이터에서 손실과 측정 지표 모니터링하기"
      ]
    },
    {
      "cell_type": "markdown",
      "metadata": {
        "id": "IcScui7rjR1d"
      },
      "source": [
        "**`validation_data` 매개변수 사용하기**"
      ]
    },
    {
      "cell_type": "code",
      "execution_count": null,
      "metadata": {
        "execution": {
          "iopub.execute_input": "2022-05-21T00:58:18.522664Z",
          "iopub.status.busy": "2022-05-21T00:58:18.522375Z",
          "iopub.status.idle": "2022-05-21T00:58:19.764061Z",
          "shell.execute_reply": "2022-05-21T00:58:19.763028Z"
        },
        "id": "KaP6UYfNjR1d",
        "outputId": "02f2ad49-f255-43c3-cf33-30d32089b7bd",
        "colab": {
          "base_uri": "https://localhost:8080/"
        }
      },
      "outputs": [
        {
          "output_type": "stream",
          "name": "stdout",
          "text": [
            "Epoch 1/5\n",
            "88/88 [==============================] - 1s 4ms/step - loss: 0.2450 - binary_accuracy: 0.9093 - val_loss: 0.0913 - val_binary_accuracy: 0.9850\n",
            "Epoch 2/5\n",
            "88/88 [==============================] - 0s 3ms/step - loss: 0.0680 - binary_accuracy: 0.9643 - val_loss: 0.0270 - val_binary_accuracy: 1.0000\n",
            "Epoch 3/5\n",
            "88/88 [==============================] - 0s 5ms/step - loss: 0.0779 - binary_accuracy: 0.9507 - val_loss: 0.0232 - val_binary_accuracy: 0.9967\n",
            "Epoch 4/5\n",
            "88/88 [==============================] - 0s 4ms/step - loss: 0.0765 - binary_accuracy: 0.9407 - val_loss: 0.0598 - val_binary_accuracy: 0.9883\n",
            "Epoch 5/5\n",
            "88/88 [==============================] - 0s 5ms/step - loss: 0.0638 - binary_accuracy: 0.9721 - val_loss: 0.0726 - val_binary_accuracy: 0.9533\n"
          ]
        },
        {
          "output_type": "execute_result",
          "data": {
            "text/plain": [
              "<keras.callbacks.History at 0x7f0787cb8bd0>"
            ]
          },
          "metadata": {},
          "execution_count": 34
        }
      ],
      "source": [
        "model = keras.Sequential([keras.layers.Dense(1)])\n",
        "model.compile(optimizer=keras.optimizers.RMSprop(learning_rate=0.1),\n",
        "              loss=keras.losses.MeanSquaredError(),\n",
        "              metrics=[keras.metrics.BinaryAccuracy()])\n",
        "\n",
        "indices_permutation = np.random.permutation(len(inputs))\n",
        "shuffled_inputs = inputs[indices_permutation]\n",
        "shuffled_targets = targets[indices_permutation]\n",
        "\n",
        "num_validation_samples = int(0.3 * len(inputs))\n",
        "val_inputs = shuffled_inputs[:num_validation_samples]\n",
        "val_targets = shuffled_targets[:num_validation_samples]\n",
        "training_inputs = shuffled_inputs[num_validation_samples:]\n",
        "training_targets = shuffled_targets[num_validation_samples:]\n",
        "model.fit(\n",
        "    training_inputs,\n",
        "    training_targets,\n",
        "    epochs=5,\n",
        "    batch_size=16,\n",
        "    validation_data=(val_inputs, val_targets)\n",
        ")"
      ]
    },
    {
      "cell_type": "markdown",
      "metadata": {
        "id": "mKS1lIrmjR1d"
      },
      "source": [
        "### 추론: 훈련한 모델 사용하기"
      ]
    },
    {
      "cell_type": "code",
      "execution_count": null,
      "metadata": {
        "execution": {
          "iopub.execute_input": "2022-05-21T00:58:19.768128Z",
          "iopub.status.busy": "2022-05-21T00:58:19.767816Z",
          "iopub.status.idle": "2022-05-21T00:58:19.874956Z",
          "shell.execute_reply": "2022-05-21T00:58:19.873756Z"
        },
        "id": "O6b3X5hUjR1e",
        "outputId": "c21acbd5-4367-4392-f0f5-6f40e2a25d63",
        "colab": {
          "base_uri": "https://localhost:8080/"
        }
      },
      "outputs": [
        {
          "output_type": "stream",
          "name": "stdout",
          "text": [
            "5/5 [==============================] - 0s 3ms/step\n",
            "[[0.2212547 ]\n",
            " [0.46757108]\n",
            " [1.3064125 ]\n",
            " [0.36760795]\n",
            " [0.98762196]\n",
            " [1.2589831 ]\n",
            " [0.9364893 ]\n",
            " [0.2468108 ]\n",
            " [0.94096804]\n",
            " [0.4054407 ]]\n"
          ]
        }
      ],
      "source": [
        "predictions = model.predict(val_inputs, batch_size=128)\n",
        "print(predictions[:10])"
      ]
    },
    {
      "cell_type": "markdown",
      "metadata": {
        "id": "jc1OJ7sJjR1e"
      },
      "source": [
        "## 요약"
      ]
    }
  ],
  "metadata": {
    "colab": {
      "name": "chapter03_introduction-to-keras-and-tf.i",
      "provenance": []
    },
    "kernelspec": {
      "display_name": "default:Python",
      "language": "python",
      "name": "conda-env-default-py"
    },
    "language_info": {
      "codemirror_mode": {
        "name": "ipython",
        "version": 3
      },
      "file_extension": ".py",
      "mimetype": "text/x-python",
      "name": "python",
      "nbconvert_exporter": "python",
      "pygments_lexer": "ipython3",
      "version": "3.9.10"
    }
  },
  "nbformat": 4,
  "nbformat_minor": 0
}