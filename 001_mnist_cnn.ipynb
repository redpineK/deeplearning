{
  "nbformat": 4,
  "nbformat_minor": 0,
  "metadata": {
    "colab": {
      "provenance": [],
      "authorship_tag": "ABX9TyMb97d8o6jRBwFsCnrOiEIr",
      "include_colab_link": true
    },
    "kernelspec": {
      "name": "python3",
      "display_name": "Python 3"
    },
    "language_info": {
      "name": "python"
    }
  },
  "cells": [
    {
      "cell_type": "markdown",
      "metadata": {
        "id": "view-in-github",
        "colab_type": "text"
      },
      "source": [
        "<a href=\"https://colab.research.google.com/github/redpineK/deeplearning/blob/master/001_mnist_cnn.ipynb\" target=\"_parent\"><img src=\"https://colab.research.google.com/assets/colab-badge.svg\" alt=\"Open In Colab\"/></a>"
      ]
    },
    {
      "cell_type": "markdown",
      "source": [
        "출처 - https://pinkwink.kr/1121"
      ],
      "metadata": {
        "id": "p8H2Iy8vpkTk"
      }
    },
    {
      "cell_type": "code",
      "execution_count": 1,
      "metadata": {
        "colab": {
          "base_uri": "https://localhost:8080/"
        },
        "id": "AUAlQVgupXmR",
        "outputId": "844e6177-9039-4ed0-b6c2-50cb579d9717"
      },
      "outputs": [
        {
          "output_type": "stream",
          "name": "stdout",
          "text": [
            "Python version :  3.10.12 (main, Jun  7 2023, 12:45:35) [GCC 9.4.0]\n",
            "TensorFlow version :  2.12.0\n",
            "Keras version :  2.12.0\n"
          ]
        }
      ],
      "source": [
        "import warnings\n",
        "warnings.simplefilter(action='ignore', category=FutureWarning)\n",
        "\n",
        "import sys\n",
        "import tensorflow as tf\n",
        "import keras\n",
        "from keras.models import Sequential\n",
        "from keras.layers import Dense, Dropout, Flatten\n",
        "from keras.layers.convolutional import Conv2D, MaxPooling2D\n",
        "import numpy as np\n",
        "np.random.seed(7)\n",
        "\n",
        "print('Python version : ', sys.version)\n",
        "print('TensorFlow version : ', tf.__version__)\n",
        "print('Keras version : ', keras.__version__)"
      ]
    },
    {
      "cell_type": "code",
      "source": [
        "img_rows = 28\n",
        "img_cols = 28\n",
        "\n",
        "(x_train, y_train), (x_test, y_test) = keras.datasets.mnist.load_data()\n",
        "\n",
        "input_shape = (img_rows, img_cols, 1)\n",
        "x_train = x_train.reshape(x_train.shape[0], img_rows, img_cols, 1)\n",
        "x_test = x_test.reshape(x_test.shape[0], img_rows, img_cols, 1)\n",
        "\n",
        "x_train = x_train.astype('float32') / 255.\n",
        "x_test = x_test.astype('float32') / 255.\n",
        "\n",
        "print('x_train shape:', x_train.shape)\n",
        "print(x_train.shape[0], 'train samples')\n",
        "print(x_test.shape[0], 'test samples')\n",
        "\n",
        "batch_size = 128\n",
        "num_classes = 10\n",
        "epochs = 12\n",
        "\n",
        "y_train = keras.utils.to_categorical(y_train, num_classes)\n",
        "y_test = keras.utils.to_categorical(y_test, num_classes)"
      ],
      "metadata": {
        "colab": {
          "base_uri": "https://localhost:8080/"
        },
        "id": "Vq5SY1QOppGr",
        "outputId": "21da614e-f87a-4aa8-e542-af4bd0a9c7a5"
      },
      "execution_count": 2,
      "outputs": [
        {
          "output_type": "stream",
          "name": "stdout",
          "text": [
            "Downloading data from https://storage.googleapis.com/tensorflow/tf-keras-datasets/mnist.npz\n",
            "11490434/11490434 [==============================] - 0s 0us/step\n",
            "x_train shape: (60000, 28, 28, 1)\n",
            "60000 train samples\n",
            "10000 test samples\n"
          ]
        }
      ]
    },
    {
      "cell_type": "code",
      "source": [
        "model = Sequential()\n",
        "model.add(Conv2D(32, kernel_size=(5, 5), strides=(1, 1), padding='same',\n",
        "                 activation='relu',\n",
        "                 input_shape=input_shape))\n",
        "model.add(MaxPooling2D(pool_size=(2, 2), strides=(2, 2)))\n",
        "model.add(Conv2D(64, (2, 2), activation='relu', padding='same'))\n",
        "model.add(MaxPooling2D(pool_size=(2, 2)))\n",
        "model.add(Dropout(0.25))\n",
        "model.add(Flatten())\n",
        "model.add(Dense(1000, activation='relu'))\n",
        "model.add(Dropout(0.5))\n",
        "model.add(Dense(num_classes, activation='softmax'))\n",
        "model.summary()"
      ],
      "metadata": {
        "colab": {
          "base_uri": "https://localhost:8080/"
        },
        "id": "F8tl48fpp6vj",
        "outputId": "57349e0f-25f8-40d5-a14f-829ed11762ca"
      },
      "execution_count": 3,
      "outputs": [
        {
          "output_type": "stream",
          "name": "stdout",
          "text": [
            "Model: \"sequential\"\n",
            "_________________________________________________________________\n",
            " Layer (type)                Output Shape              Param #   \n",
            "=================================================================\n",
            " conv2d (Conv2D)             (None, 28, 28, 32)        832       \n",
            "                                                                 \n",
            " max_pooling2d (MaxPooling2D  (None, 14, 14, 32)       0         \n",
            " )                                                               \n",
            "                                                                 \n",
            " conv2d_1 (Conv2D)           (None, 14, 14, 64)        8256      \n",
            "                                                                 \n",
            " max_pooling2d_1 (MaxPooling  (None, 7, 7, 64)         0         \n",
            " 2D)                                                             \n",
            "                                                                 \n",
            " dropout (Dropout)           (None, 7, 7, 64)          0         \n",
            "                                                                 \n",
            " flatten (Flatten)           (None, 3136)              0         \n",
            "                                                                 \n",
            " dense (Dense)               (None, 1000)              3137000   \n",
            "                                                                 \n",
            " dropout_1 (Dropout)         (None, 1000)              0         \n",
            "                                                                 \n",
            " dense_1 (Dense)             (None, 10)                10010     \n",
            "                                                                 \n",
            "=================================================================\n",
            "Total params: 3,156,098\n",
            "Trainable params: 3,156,098\n",
            "Non-trainable params: 0\n",
            "_________________________________________________________________\n"
          ]
        }
      ]
    },
    {
      "cell_type": "code",
      "source": [
        "from IPython.display import SVG\n",
        "from keras.utils.vis_utils import model_to_dot\n",
        "%matplotlib inline\n",
        "\n",
        "SVG(model_to_dot(model, show_shapes=True).create(prog='dot', format='svg'))"
      ],
      "metadata": {
        "colab": {
          "base_uri": "https://localhost:8080/",
          "height": 1000
        },
        "id": "GfGOSvF0qDhi",
        "outputId": "e47c63c5-1077-4f40-b07c-8b605567ca7f"
      },
      "execution_count": 4,
      "outputs": [
        {
          "output_type": "execute_result",
          "data": {
            "text/plain": [
              "<IPython.core.display.SVG object>"
            ],
            "image/svg+xml": "<svg xmlns=\"http://www.w3.org/2000/svg\" xmlns:xlink=\"http://www.w3.org/1999/xlink\" width=\"396pt\" height=\"1069pt\" viewBox=\"0.00 0.00 297.00 802.00\">\n<g id=\"graph0\" class=\"graph\" transform=\"scale(0.75 0.75) rotate(0) translate(4 798)\">\n<title>G</title>\n<polygon fill=\"white\" stroke=\"transparent\" points=\"-4,4 -4,-798 293,-798 293,4 -4,4\"/>\n<!-- 140492831750320 -->\n<g id=\"node1\" class=\"node\">\n<title>140492831750320</title>\n<polygon fill=\"none\" stroke=\"black\" points=\"11.5,-747.5 11.5,-793.5 277.5,-793.5 277.5,-747.5 11.5,-747.5\"/>\n<text text-anchor=\"middle\" x=\"57\" y=\"-778.3\" font-family=\"Times,serif\" font-size=\"14.00\">conv2d_input</text>\n<polyline fill=\"none\" stroke=\"black\" points=\"11.5,-770.5 102.5,-770.5 \"/>\n<text text-anchor=\"middle\" x=\"57\" y=\"-755.3\" font-family=\"Times,serif\" font-size=\"14.00\">InputLayer</text>\n<polyline fill=\"none\" stroke=\"black\" points=\"102.5,-747.5 102.5,-793.5 \"/>\n<text text-anchor=\"middle\" x=\"130\" y=\"-778.3\" font-family=\"Times,serif\" font-size=\"14.00\">input:</text>\n<polyline fill=\"none\" stroke=\"black\" points=\"102.5,-770.5 157.5,-770.5 \"/>\n<text text-anchor=\"middle\" x=\"130\" y=\"-755.3\" font-family=\"Times,serif\" font-size=\"14.00\">output:</text>\n<polyline fill=\"none\" stroke=\"black\" points=\"157.5,-747.5 157.5,-793.5 \"/>\n<text text-anchor=\"middle\" x=\"217.5\" y=\"-778.3\" font-family=\"Times,serif\" font-size=\"14.00\">[(None, 28, 28, 1)]</text>\n<polyline fill=\"none\" stroke=\"black\" points=\"157.5,-770.5 277.5,-770.5 \"/>\n<text text-anchor=\"middle\" x=\"217.5\" y=\"-755.3\" font-family=\"Times,serif\" font-size=\"14.00\">[(None, 28, 28, 1)]</text>\n</g>\n<!-- 140492818052192 -->\n<g id=\"node2\" class=\"node\">\n<title>140492818052192</title>\n<polygon fill=\"none\" stroke=\"black\" points=\"27,-664.5 27,-710.5 262,-710.5 262,-664.5 27,-664.5\"/>\n<text text-anchor=\"middle\" x=\"58\" y=\"-695.3\" font-family=\"Times,serif\" font-size=\"14.00\">conv2d</text>\n<polyline fill=\"none\" stroke=\"black\" points=\"27,-687.5 89,-687.5 \"/>\n<text text-anchor=\"middle\" x=\"58\" y=\"-672.3\" font-family=\"Times,serif\" font-size=\"14.00\">Conv2D</text>\n<polyline fill=\"none\" stroke=\"black\" points=\"89,-664.5 89,-710.5 \"/>\n<text text-anchor=\"middle\" x=\"116.5\" y=\"-695.3\" font-family=\"Times,serif\" font-size=\"14.00\">input:</text>\n<polyline fill=\"none\" stroke=\"black\" points=\"89,-687.5 144,-687.5 \"/>\n<text text-anchor=\"middle\" x=\"116.5\" y=\"-672.3\" font-family=\"Times,serif\" font-size=\"14.00\">output:</text>\n<polyline fill=\"none\" stroke=\"black\" points=\"144,-664.5 144,-710.5 \"/>\n<text text-anchor=\"middle\" x=\"203\" y=\"-695.3\" font-family=\"Times,serif\" font-size=\"14.00\">(None, 28, 28, 1)</text>\n<polyline fill=\"none\" stroke=\"black\" points=\"144,-687.5 262,-687.5 \"/>\n<text text-anchor=\"middle\" x=\"203\" y=\"-672.3\" font-family=\"Times,serif\" font-size=\"14.00\">(None, 28, 28, 32)</text>\n</g>\n<!-- 140492831750320&#45;&gt;140492818052192 -->\n<g id=\"edge1\" class=\"edge\">\n<title>140492831750320-&gt;140492818052192</title>\n<path fill=\"none\" stroke=\"black\" d=\"M144.5,-747.37C144.5,-739.15 144.5,-729.66 144.5,-720.73\"/>\n<polygon fill=\"black\" stroke=\"black\" points=\"148,-720.61 144.5,-710.61 141,-720.61 148,-720.61\"/>\n</g>\n<!-- 140490369393920 -->\n<g id=\"node3\" class=\"node\">\n<title>140490369393920</title>\n<polygon fill=\"none\" stroke=\"black\" points=\"7,-581.5 7,-627.5 282,-627.5 282,-581.5 7,-581.5\"/>\n<text text-anchor=\"middle\" x=\"58\" y=\"-612.3\" font-family=\"Times,serif\" font-size=\"14.00\">max_pooling2d</text>\n<polyline fill=\"none\" stroke=\"black\" points=\"7,-604.5 109,-604.5 \"/>\n<text text-anchor=\"middle\" x=\"58\" y=\"-589.3\" font-family=\"Times,serif\" font-size=\"14.00\">MaxPooling2D</text>\n<polyline fill=\"none\" stroke=\"black\" points=\"109,-581.5 109,-627.5 \"/>\n<text text-anchor=\"middle\" x=\"136.5\" y=\"-612.3\" font-family=\"Times,serif\" font-size=\"14.00\">input:</text>\n<polyline fill=\"none\" stroke=\"black\" points=\"109,-604.5 164,-604.5 \"/>\n<text text-anchor=\"middle\" x=\"136.5\" y=\"-589.3\" font-family=\"Times,serif\" font-size=\"14.00\">output:</text>\n<polyline fill=\"none\" stroke=\"black\" points=\"164,-581.5 164,-627.5 \"/>\n<text text-anchor=\"middle\" x=\"223\" y=\"-612.3\" font-family=\"Times,serif\" font-size=\"14.00\">(None, 28, 28, 32)</text>\n<polyline fill=\"none\" stroke=\"black\" points=\"164,-604.5 282,-604.5 \"/>\n<text text-anchor=\"middle\" x=\"223\" y=\"-589.3\" font-family=\"Times,serif\" font-size=\"14.00\">(None, 14, 14, 32)</text>\n</g>\n<!-- 140492818052192&#45;&gt;140490369393920 -->\n<g id=\"edge2\" class=\"edge\">\n<title>140492818052192-&gt;140490369393920</title>\n<path fill=\"none\" stroke=\"black\" d=\"M144.5,-664.37C144.5,-656.15 144.5,-646.66 144.5,-637.73\"/>\n<polygon fill=\"black\" stroke=\"black\" points=\"148,-637.61 144.5,-627.61 141,-637.61 148,-637.61\"/>\n</g>\n<!-- 140490369396272 -->\n<g id=\"node4\" class=\"node\">\n<title>140490369396272</title>\n<polygon fill=\"none\" stroke=\"black\" points=\"23,-498.5 23,-544.5 266,-544.5 266,-498.5 23,-498.5\"/>\n<text text-anchor=\"middle\" x=\"58\" y=\"-529.3\" font-family=\"Times,serif\" font-size=\"14.00\">conv2d_1</text>\n<polyline fill=\"none\" stroke=\"black\" points=\"23,-521.5 93,-521.5 \"/>\n<text text-anchor=\"middle\" x=\"58\" y=\"-506.3\" font-family=\"Times,serif\" font-size=\"14.00\">Conv2D</text>\n<polyline fill=\"none\" stroke=\"black\" points=\"93,-498.5 93,-544.5 \"/>\n<text text-anchor=\"middle\" x=\"120.5\" y=\"-529.3\" font-family=\"Times,serif\" font-size=\"14.00\">input:</text>\n<polyline fill=\"none\" stroke=\"black\" points=\"93,-521.5 148,-521.5 \"/>\n<text text-anchor=\"middle\" x=\"120.5\" y=\"-506.3\" font-family=\"Times,serif\" font-size=\"14.00\">output:</text>\n<polyline fill=\"none\" stroke=\"black\" points=\"148,-498.5 148,-544.5 \"/>\n<text text-anchor=\"middle\" x=\"207\" y=\"-529.3\" font-family=\"Times,serif\" font-size=\"14.00\">(None, 14, 14, 32)</text>\n<polyline fill=\"none\" stroke=\"black\" points=\"148,-521.5 266,-521.5 \"/>\n<text text-anchor=\"middle\" x=\"207\" y=\"-506.3\" font-family=\"Times,serif\" font-size=\"14.00\">(None, 14, 14, 64)</text>\n</g>\n<!-- 140490369393920&#45;&gt;140490369396272 -->\n<g id=\"edge3\" class=\"edge\">\n<title>140490369393920-&gt;140490369396272</title>\n<path fill=\"none\" stroke=\"black\" d=\"M144.5,-581.37C144.5,-573.15 144.5,-563.66 144.5,-554.73\"/>\n<polygon fill=\"black\" stroke=\"black\" points=\"148,-554.61 144.5,-544.61 141,-554.61 148,-554.61\"/>\n</g>\n<!-- 140490369392528 -->\n<g id=\"node5\" class=\"node\">\n<title>140490369392528</title>\n<polygon fill=\"none\" stroke=\"black\" points=\"0,-415.5 0,-461.5 289,-461.5 289,-415.5 0,-415.5\"/>\n<text text-anchor=\"middle\" x=\"58\" y=\"-446.3\" font-family=\"Times,serif\" font-size=\"14.00\">max_pooling2d_1</text>\n<polyline fill=\"none\" stroke=\"black\" points=\"0,-438.5 116,-438.5 \"/>\n<text text-anchor=\"middle\" x=\"58\" y=\"-423.3\" font-family=\"Times,serif\" font-size=\"14.00\">MaxPooling2D</text>\n<polyline fill=\"none\" stroke=\"black\" points=\"116,-415.5 116,-461.5 \"/>\n<text text-anchor=\"middle\" x=\"143.5\" y=\"-446.3\" font-family=\"Times,serif\" font-size=\"14.00\">input:</text>\n<polyline fill=\"none\" stroke=\"black\" points=\"116,-438.5 171,-438.5 \"/>\n<text text-anchor=\"middle\" x=\"143.5\" y=\"-423.3\" font-family=\"Times,serif\" font-size=\"14.00\">output:</text>\n<polyline fill=\"none\" stroke=\"black\" points=\"171,-415.5 171,-461.5 \"/>\n<text text-anchor=\"middle\" x=\"230\" y=\"-446.3\" font-family=\"Times,serif\" font-size=\"14.00\">(None, 14, 14, 64)</text>\n<polyline fill=\"none\" stroke=\"black\" points=\"171,-438.5 289,-438.5 \"/>\n<text text-anchor=\"middle\" x=\"230\" y=\"-423.3\" font-family=\"Times,serif\" font-size=\"14.00\">(None, 7, 7, 64)</text>\n</g>\n<!-- 140490369396272&#45;&gt;140490369392528 -->\n<g id=\"edge4\" class=\"edge\">\n<title>140490369396272-&gt;140490369392528</title>\n<path fill=\"none\" stroke=\"black\" d=\"M144.5,-498.37C144.5,-490.15 144.5,-480.66 144.5,-471.73\"/>\n<polygon fill=\"black\" stroke=\"black\" points=\"148,-471.61 144.5,-461.61 141,-471.61 148,-471.61\"/>\n</g>\n<!-- 140490369391424 -->\n<g id=\"node6\" class=\"node\">\n<title>140490369391424</title>\n<polygon fill=\"none\" stroke=\"black\" points=\"34,-332.5 34,-378.5 255,-378.5 255,-332.5 34,-332.5\"/>\n<text text-anchor=\"middle\" x=\"65\" y=\"-363.3\" font-family=\"Times,serif\" font-size=\"14.00\">dropout</text>\n<polyline fill=\"none\" stroke=\"black\" points=\"34,-355.5 96,-355.5 \"/>\n<text text-anchor=\"middle\" x=\"65\" y=\"-340.3\" font-family=\"Times,serif\" font-size=\"14.00\">Dropout</text>\n<polyline fill=\"none\" stroke=\"black\" points=\"96,-332.5 96,-378.5 \"/>\n<text text-anchor=\"middle\" x=\"123.5\" y=\"-363.3\" font-family=\"Times,serif\" font-size=\"14.00\">input:</text>\n<polyline fill=\"none\" stroke=\"black\" points=\"96,-355.5 151,-355.5 \"/>\n<text text-anchor=\"middle\" x=\"123.5\" y=\"-340.3\" font-family=\"Times,serif\" font-size=\"14.00\">output:</text>\n<polyline fill=\"none\" stroke=\"black\" points=\"151,-332.5 151,-378.5 \"/>\n<text text-anchor=\"middle\" x=\"203\" y=\"-363.3\" font-family=\"Times,serif\" font-size=\"14.00\">(None, 7, 7, 64)</text>\n<polyline fill=\"none\" stroke=\"black\" points=\"151,-355.5 255,-355.5 \"/>\n<text text-anchor=\"middle\" x=\"203\" y=\"-340.3\" font-family=\"Times,serif\" font-size=\"14.00\">(None, 7, 7, 64)</text>\n</g>\n<!-- 140490369392528&#45;&gt;140490369391424 -->\n<g id=\"edge5\" class=\"edge\">\n<title>140490369392528-&gt;140490369391424</title>\n<path fill=\"none\" stroke=\"black\" d=\"M144.5,-415.37C144.5,-407.15 144.5,-397.66 144.5,-388.73\"/>\n<polygon fill=\"black\" stroke=\"black\" points=\"148,-388.61 144.5,-378.61 141,-388.61 148,-388.61\"/>\n</g>\n<!-- 140490369396752 -->\n<g id=\"node7\" class=\"node\">\n<title>140490369396752</title>\n<polygon fill=\"none\" stroke=\"black\" points=\"38,-249.5 38,-295.5 251,-295.5 251,-249.5 38,-249.5\"/>\n<text text-anchor=\"middle\" x=\"65\" y=\"-280.3\" font-family=\"Times,serif\" font-size=\"14.00\">flatten</text>\n<polyline fill=\"none\" stroke=\"black\" points=\"38,-272.5 92,-272.5 \"/>\n<text text-anchor=\"middle\" x=\"65\" y=\"-257.3\" font-family=\"Times,serif\" font-size=\"14.00\">Flatten</text>\n<polyline fill=\"none\" stroke=\"black\" points=\"92,-249.5 92,-295.5 \"/>\n<text text-anchor=\"middle\" x=\"119.5\" y=\"-280.3\" font-family=\"Times,serif\" font-size=\"14.00\">input:</text>\n<polyline fill=\"none\" stroke=\"black\" points=\"92,-272.5 147,-272.5 \"/>\n<text text-anchor=\"middle\" x=\"119.5\" y=\"-257.3\" font-family=\"Times,serif\" font-size=\"14.00\">output:</text>\n<polyline fill=\"none\" stroke=\"black\" points=\"147,-249.5 147,-295.5 \"/>\n<text text-anchor=\"middle\" x=\"199\" y=\"-280.3\" font-family=\"Times,serif\" font-size=\"14.00\">(None, 7, 7, 64)</text>\n<polyline fill=\"none\" stroke=\"black\" points=\"147,-272.5 251,-272.5 \"/>\n<text text-anchor=\"middle\" x=\"199\" y=\"-257.3\" font-family=\"Times,serif\" font-size=\"14.00\">(None, 3136)</text>\n</g>\n<!-- 140490369391424&#45;&gt;140490369396752 -->\n<g id=\"edge6\" class=\"edge\">\n<title>140490369391424-&gt;140490369396752</title>\n<path fill=\"none\" stroke=\"black\" d=\"M144.5,-332.37C144.5,-324.15 144.5,-314.66 144.5,-305.73\"/>\n<polygon fill=\"black\" stroke=\"black\" points=\"148,-305.61 144.5,-295.61 141,-305.61 148,-305.61\"/>\n</g>\n<!-- 140490320047376 -->\n<g id=\"node8\" class=\"node\">\n<title>140490320047376</title>\n<polygon fill=\"none\" stroke=\"black\" points=\"47.5,-166.5 47.5,-212.5 241.5,-212.5 241.5,-166.5 47.5,-166.5\"/>\n<text text-anchor=\"middle\" x=\"72.5\" y=\"-197.3\" font-family=\"Times,serif\" font-size=\"14.00\">dense</text>\n<polyline fill=\"none\" stroke=\"black\" points=\"47.5,-189.5 97.5,-189.5 \"/>\n<text text-anchor=\"middle\" x=\"72.5\" y=\"-174.3\" font-family=\"Times,serif\" font-size=\"14.00\">Dense</text>\n<polyline fill=\"none\" stroke=\"black\" points=\"97.5,-166.5 97.5,-212.5 \"/>\n<text text-anchor=\"middle\" x=\"125\" y=\"-197.3\" font-family=\"Times,serif\" font-size=\"14.00\">input:</text>\n<polyline fill=\"none\" stroke=\"black\" points=\"97.5,-189.5 152.5,-189.5 \"/>\n<text text-anchor=\"middle\" x=\"125\" y=\"-174.3\" font-family=\"Times,serif\" font-size=\"14.00\">output:</text>\n<polyline fill=\"none\" stroke=\"black\" points=\"152.5,-166.5 152.5,-212.5 \"/>\n<text text-anchor=\"middle\" x=\"197\" y=\"-197.3\" font-family=\"Times,serif\" font-size=\"14.00\">(None, 3136)</text>\n<polyline fill=\"none\" stroke=\"black\" points=\"152.5,-189.5 241.5,-189.5 \"/>\n<text text-anchor=\"middle\" x=\"197\" y=\"-174.3\" font-family=\"Times,serif\" font-size=\"14.00\">(None, 1000)</text>\n</g>\n<!-- 140490369396752&#45;&gt;140490320047376 -->\n<g id=\"edge7\" class=\"edge\">\n<title>140490369396752-&gt;140490320047376</title>\n<path fill=\"none\" stroke=\"black\" d=\"M144.5,-249.37C144.5,-241.15 144.5,-231.66 144.5,-222.73\"/>\n<polygon fill=\"black\" stroke=\"black\" points=\"148,-222.61 144.5,-212.61 141,-222.61 148,-222.61\"/>\n</g>\n<!-- 140490369395936 -->\n<g id=\"node9\" class=\"node\">\n<title>140490369395936</title>\n<polygon fill=\"none\" stroke=\"black\" points=\"36.5,-83.5 36.5,-129.5 252.5,-129.5 252.5,-83.5 36.5,-83.5\"/>\n<text text-anchor=\"middle\" x=\"72.5\" y=\"-114.3\" font-family=\"Times,serif\" font-size=\"14.00\">dropout_1</text>\n<polyline fill=\"none\" stroke=\"black\" points=\"36.5,-106.5 108.5,-106.5 \"/>\n<text text-anchor=\"middle\" x=\"72.5\" y=\"-91.3\" font-family=\"Times,serif\" font-size=\"14.00\">Dropout</text>\n<polyline fill=\"none\" stroke=\"black\" points=\"108.5,-83.5 108.5,-129.5 \"/>\n<text text-anchor=\"middle\" x=\"136\" y=\"-114.3\" font-family=\"Times,serif\" font-size=\"14.00\">input:</text>\n<polyline fill=\"none\" stroke=\"black\" points=\"108.5,-106.5 163.5,-106.5 \"/>\n<text text-anchor=\"middle\" x=\"136\" y=\"-91.3\" font-family=\"Times,serif\" font-size=\"14.00\">output:</text>\n<polyline fill=\"none\" stroke=\"black\" points=\"163.5,-83.5 163.5,-129.5 \"/>\n<text text-anchor=\"middle\" x=\"208\" y=\"-114.3\" font-family=\"Times,serif\" font-size=\"14.00\">(None, 1000)</text>\n<polyline fill=\"none\" stroke=\"black\" points=\"163.5,-106.5 252.5,-106.5 \"/>\n<text text-anchor=\"middle\" x=\"208\" y=\"-91.3\" font-family=\"Times,serif\" font-size=\"14.00\">(None, 1000)</text>\n</g>\n<!-- 140490320047376&#45;&gt;140490369395936 -->\n<g id=\"edge8\" class=\"edge\">\n<title>140490320047376-&gt;140490369395936</title>\n<path fill=\"none\" stroke=\"black\" d=\"M144.5,-166.37C144.5,-158.15 144.5,-148.66 144.5,-139.73\"/>\n<polygon fill=\"black\" stroke=\"black\" points=\"148,-139.61 144.5,-129.61 141,-139.61 148,-139.61\"/>\n</g>\n<!-- 140490320050352 -->\n<g id=\"node10\" class=\"node\">\n<title>140490320050352</title>\n<polygon fill=\"none\" stroke=\"black\" points=\"42,-0.5 42,-46.5 247,-46.5 247,-0.5 42,-0.5\"/>\n<text text-anchor=\"middle\" x=\"72.5\" y=\"-31.3\" font-family=\"Times,serif\" font-size=\"14.00\">dense_1</text>\n<polyline fill=\"none\" stroke=\"black\" points=\"42,-23.5 103,-23.5 \"/>\n<text text-anchor=\"middle\" x=\"72.5\" y=\"-8.3\" font-family=\"Times,serif\" font-size=\"14.00\">Dense</text>\n<polyline fill=\"none\" stroke=\"black\" points=\"103,-0.5 103,-46.5 \"/>\n<text text-anchor=\"middle\" x=\"130.5\" y=\"-31.3\" font-family=\"Times,serif\" font-size=\"14.00\">input:</text>\n<polyline fill=\"none\" stroke=\"black\" points=\"103,-23.5 158,-23.5 \"/>\n<text text-anchor=\"middle\" x=\"130.5\" y=\"-8.3\" font-family=\"Times,serif\" font-size=\"14.00\">output:</text>\n<polyline fill=\"none\" stroke=\"black\" points=\"158,-0.5 158,-46.5 \"/>\n<text text-anchor=\"middle\" x=\"202.5\" y=\"-31.3\" font-family=\"Times,serif\" font-size=\"14.00\">(None, 1000)</text>\n<polyline fill=\"none\" stroke=\"black\" points=\"158,-23.5 247,-23.5 \"/>\n<text text-anchor=\"middle\" x=\"202.5\" y=\"-8.3\" font-family=\"Times,serif\" font-size=\"14.00\">(None, 10)</text>\n</g>\n<!-- 140490369395936&#45;&gt;140490320050352 -->\n<g id=\"edge9\" class=\"edge\">\n<title>140490369395936-&gt;140490320050352</title>\n<path fill=\"none\" stroke=\"black\" d=\"M144.5,-83.37C144.5,-75.15 144.5,-65.66 144.5,-56.73\"/>\n<polygon fill=\"black\" stroke=\"black\" points=\"148,-56.61 144.5,-46.61 141,-56.61 148,-56.61\"/>\n</g>\n</g>\n</svg>"
          },
          "metadata": {},
          "execution_count": 4
        }
      ]
    },
    {
      "cell_type": "code",
      "source": [
        "model.compile(loss='categorical_crossentropy', optimizer='adam', metrics=['accuracy'])\n",
        "hist = model.fit(x_train, y_train,\n",
        "                 batch_size=batch_size,\n",
        "                 epochs=epochs,\n",
        "                 verbose=1,\n",
        "                 validation_data=(x_test, y_test))"
      ],
      "metadata": {
        "colab": {
          "base_uri": "https://localhost:8080/"
        },
        "id": "ga0Qur1aqIry",
        "outputId": "99c1536d-edd1-4301-c79b-208380c14078"
      },
      "execution_count": null,
      "outputs": [
        {
          "output_type": "stream",
          "name": "stdout",
          "text": [
            "Epoch 1/12\n",
            "469/469 [==============================] - 119s 250ms/step - loss: 0.1790 - accuracy: 0.9442 - val_loss: 0.0429 - val_accuracy: 0.9868\n",
            "Epoch 2/12\n",
            " 68/469 [===>..........................] - ETA: 1:30 - loss: 0.0646 - accuracy: 0.9785"
          ]
        }
      ]
    },
    {
      "cell_type": "code",
      "source": [
        "score = model.evaluate(x_test, y_test, verbose=0)\n",
        "print('Test loss:', score[0])\n",
        "print('Test accuracy:', score[1])"
      ],
      "metadata": {
        "id": "7aynpl-PqQTS"
      },
      "execution_count": null,
      "outputs": []
    },
    {
      "cell_type": "code",
      "source": [
        "n = 0\n",
        "plt.imshow(x_test[n].reshape(28, 28), cmap='Greys', interpolation='nearest')\n",
        "plt.show()\n",
        "\n",
        "print('The Answer is ', model.predict_classes(x_test[n].reshape((1, 28, 28, 1))))"
      ],
      "metadata": {
        "id": "HmhHKITeqYCb"
      },
      "execution_count": null,
      "outputs": []
    },
    {
      "cell_type": "code",
      "source": [
        "import random\n",
        "\n",
        "predicted_result = model.predict(x_test)\n",
        "predicted_labels = np.argmax(predicted_result, axis=1)\n",
        "\n",
        "test_labels = np.argmax(y_test, axis=1)\n",
        "\n",
        "wrong_result = []\n",
        "\n",
        "for n in range(0, len(test_labels)):\n",
        "    if predicted_labels[n] != test_labels[n]:\n",
        "        wrong_result.append(n)\n",
        "\n",
        "samples = random.choices(population=wrong_result, k=16)\n",
        "\n",
        "count = 0\n",
        "nrows = ncols = 4\n",
        "\n",
        "plt.figure(figsize=(12,8))\n",
        "\n",
        "for n in samples:\n",
        "    count += 1\n",
        "    plt.subplot(nrows, ncols, count)\n",
        "    plt.imshow(x_test[n].reshape(28, 28), cmap='Greys', interpolation='nearest')\n",
        "    tmp = \"Label:\" + str(test_labels[n]) + \", Prediction:\" + str(predicted_labels[n])\n",
        "    plt.title(tmp)\n",
        "\n",
        "plt.tight_layout()\n",
        "plt.show()"
      ],
      "metadata": {
        "id": "UWlOurk4qcJy"
      },
      "execution_count": null,
      "outputs": []
    }
  ]
}