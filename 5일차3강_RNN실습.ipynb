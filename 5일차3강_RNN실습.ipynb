{
  "nbformat": 4,
  "nbformat_minor": 0,
  "metadata": {
    "accelerator": "GPU",
    "colab": {
      "name": "5일차3강_RNN실습.ipynb",
      "provenance": [],
      "collapsed_sections": []
    },
    "kernelspec": {
      "display_name": "Python 3",
      "language": "python",
      "name": "python3"
    },
    "language_info": {
      "codemirror_mode": {
        "name": "ipython",
        "version": 3
      },
      "file_extension": ".py",
      "mimetype": "text/x-python",
      "name": "python",
      "nbconvert_exporter": "python",
      "pygments_lexer": "ipython3",
      "version": "3.8.8"
    }
  },
  "cells": [
    {
      "cell_type": "markdown",
      "metadata": {
        "id": "QpJUJia4IbVS"
      },
      "source": [
        "LSTM 기반의 삼성전자 주가 예측 예제\n",
        " - yahoo finance 에서 데이터 다운로드 후 3일(3MA), 5일(5MA) 가격이평선 추가"
      ]
    },
    {
      "cell_type": "code",
      "metadata": {
        "id": "Ah3M-kc3aZqy"
      },
      "source": [
        "import tensorflow as tf\n",
        "import numpy as np\n",
        "import pandas as pd\n",
        "import matplotlib.pyplot as plt\n",
        "from tensorflow.keras.models import Sequential\n",
        "from tensorflow.keras.layers import LSTM, Dense, Dropout"
      ],
      "execution_count": 84,
      "outputs": []
    },
    {
      "cell_type": "markdown",
      "metadata": {
        "id": "tU_3ujIh9_N0"
      },
      "source": [
        "데이터 불러오기"
      ]
    },
    {
      "cell_type": "code",
      "metadata": {
        "colab": {
          "base_uri": "https://localhost:8080/",
          "height": 36
        },
        "id": "2WdxY6Onj7ck",
        "outputId": "ac4889f6-f913-4878-eba4-4736bb4efe20"
      },
      "source": [
        "%pwd"
      ],
      "execution_count": 85,
      "outputs": [
        {
          "output_type": "execute_result",
          "data": {
            "application/vnd.google.colaboratory.intrinsic+json": {
              "type": "string"
            },
            "text/plain": [
              "'/content'"
            ]
          },
          "metadata": {},
          "execution_count": 85
        }
      ]
    },
    {
      "cell_type": "code",
      "metadata": {
        "colab": {
          "base_uri": "https://localhost:8080/",
          "height": 206
        },
        "id": "9srMq0M9fXwk",
        "outputId": "c02b0919-daef-41aa-8e68-5e3f5acc8f34"
      },
      "source": [
        "raw_df = pd.read_csv('./005930.KS_3MA_5MA.csv')  # yahoo finance 로부터 데이터 다운로드\n",
        "\n",
        "raw_df.head()"
      ],
      "execution_count": 86,
      "outputs": [
        {
          "output_type": "execute_result",
          "data": {
            "text/html": [
              "<div>\n",
              "<style scoped>\n",
              "    .dataframe tbody tr th:only-of-type {\n",
              "        vertical-align: middle;\n",
              "    }\n",
              "\n",
              "    .dataframe tbody tr th {\n",
              "        vertical-align: top;\n",
              "    }\n",
              "\n",
              "    .dataframe thead th {\n",
              "        text-align: right;\n",
              "    }\n",
              "</style>\n",
              "<table border=\"1\" class=\"dataframe\">\n",
              "  <thead>\n",
              "    <tr style=\"text-align: right;\">\n",
              "      <th></th>\n",
              "      <th>Date</th>\n",
              "      <th>Open</th>\n",
              "      <th>High</th>\n",
              "      <th>Low</th>\n",
              "      <th>Close</th>\n",
              "      <th>Adj Close</th>\n",
              "      <th>Volume</th>\n",
              "      <th>3MA</th>\n",
              "      <th>5MA</th>\n",
              "    </tr>\n",
              "  </thead>\n",
              "  <tbody>\n",
              "    <tr>\n",
              "      <th>0</th>\n",
              "      <td>2000-01-04</td>\n",
              "      <td>6000.0</td>\n",
              "      <td>6110.0</td>\n",
              "      <td>5660.0</td>\n",
              "      <td>6110.0</td>\n",
              "      <td>4719.226563</td>\n",
              "      <td>74195000.0</td>\n",
              "      <td>NaN</td>\n",
              "      <td>NaN</td>\n",
              "    </tr>\n",
              "    <tr>\n",
              "      <th>1</th>\n",
              "      <td>2000-01-05</td>\n",
              "      <td>5800.0</td>\n",
              "      <td>6060.0</td>\n",
              "      <td>5520.0</td>\n",
              "      <td>5580.0</td>\n",
              "      <td>4309.866211</td>\n",
              "      <td>74680000.0</td>\n",
              "      <td>NaN</td>\n",
              "      <td>NaN</td>\n",
              "    </tr>\n",
              "    <tr>\n",
              "      <th>2</th>\n",
              "      <td>2000-01-06</td>\n",
              "      <td>5750.0</td>\n",
              "      <td>5780.0</td>\n",
              "      <td>5580.0</td>\n",
              "      <td>5620.0</td>\n",
              "      <td>4340.761719</td>\n",
              "      <td>54390000.0</td>\n",
              "      <td>4456.618164</td>\n",
              "      <td>NaN</td>\n",
              "    </tr>\n",
              "    <tr>\n",
              "      <th>3</th>\n",
              "      <td>2000-01-07</td>\n",
              "      <td>5560.0</td>\n",
              "      <td>5670.0</td>\n",
              "      <td>5360.0</td>\n",
              "      <td>5540.0</td>\n",
              "      <td>4278.971680</td>\n",
              "      <td>40305000.0</td>\n",
              "      <td>4309.866537</td>\n",
              "      <td>NaN</td>\n",
              "    </tr>\n",
              "    <tr>\n",
              "      <th>4</th>\n",
              "      <td>2000-01-10</td>\n",
              "      <td>5600.0</td>\n",
              "      <td>5770.0</td>\n",
              "      <td>5580.0</td>\n",
              "      <td>5770.0</td>\n",
              "      <td>4456.619141</td>\n",
              "      <td>46880000.0</td>\n",
              "      <td>4358.784180</td>\n",
              "      <td>4421.089063</td>\n",
              "    </tr>\n",
              "  </tbody>\n",
              "</table>\n",
              "</div>"
            ],
            "text/plain": [
              "         Date    Open    High  ...      Volume          3MA          5MA\n",
              "0  2000-01-04  6000.0  6110.0  ...  74195000.0          NaN          NaN\n",
              "1  2000-01-05  5800.0  6060.0  ...  74680000.0          NaN          NaN\n",
              "2  2000-01-06  5750.0  5780.0  ...  54390000.0  4456.618164          NaN\n",
              "3  2000-01-07  5560.0  5670.0  ...  40305000.0  4309.866537          NaN\n",
              "4  2000-01-10  5600.0  5770.0  ...  46880000.0  4358.784180  4421.089063\n",
              "\n",
              "[5 rows x 9 columns]"
            ]
          },
          "metadata": {},
          "execution_count": 86
        }
      ]
    },
    {
      "cell_type": "code",
      "metadata": {
        "id": "gT5aXJsbFwxA"
      },
      "source": [
        ""
      ],
      "execution_count": 42,
      "outputs": []
    },
    {
      "cell_type": "code",
      "metadata": {
        "colab": {
          "base_uri": "https://localhost:8080/"
        },
        "id": "aFcLaQTnGI7S",
        "outputId": "4e05d82d-8d06-4f1a-a4f1-68be8cc6f725"
      },
      "source": [
        "raw_df['Adj Close']"
      ],
      "execution_count": 87,
      "outputs": [
        {
          "output_type": "execute_result",
          "data": {
            "text/plain": [
              "0        4719.226563\n",
              "1        4309.866211\n",
              "2        4340.761719\n",
              "3        4278.971680\n",
              "4        4456.619141\n",
              "            ...     \n",
              "5390    80145.171880\n",
              "5391    80543.406250\n",
              "5392    81439.437500\n",
              "5393    80543.406250\n",
              "5394    80145.171880\n",
              "Name: Adj Close, Length: 5395, dtype: float64"
            ]
          },
          "metadata": {},
          "execution_count": 87
        }
      ]
    },
    {
      "cell_type": "code",
      "metadata": {
        "colab": {
          "base_uri": "https://localhost:8080/",
          "height": 404
        },
        "id": "d1lsO_jInckj",
        "outputId": "95a19258-52b5-4ae3-bf6e-967916e30d52"
      },
      "source": [
        "plt.figure(figsize=(12, 6))\n",
        "plt.title('SAMSUNG ELECTRONIC STCOK PRICE')\n",
        "plt.ylabel('Adj price (won)')\n",
        "plt.xlabel('period (day)')\n",
        "plt.grid()\n",
        "plt.plot(raw_df['Adj Close'], label='Adj Close', color='r')\n",
        "plt.legend(loc='best')\n",
        "plt.show()"
      ],
      "execution_count": 83,
      "outputs": [
        {
          "output_type": "display_data",
          "data": {
            "image/png": "[encoded data removed]",
            "text/plain": [
              "<Figure size 864x432 with 1 Axes>"
            ]
          },
          "metadata": {
            "needs_background": "light"
          }
        }
      ]
    },
    {
      "cell_type": "markdown",
      "metadata": {
        "id": "QEM4W_B3I9pt"
      },
      "source": [
        ""
      ]
    },
    {
      "cell_type": "markdown",
      "metadata": {
        "id": "iQtB5ixT-KZt"
      },
      "source": [
        "데이터 전처리 (Missing Data 처리, 정규화 등)"
      ]
    },
    {
      "cell_type": "code",
      "metadata": {
        "colab": {
          "base_uri": "https://localhost:8080/",
          "height": 300
        },
        "id": "LtXkxvPchBSW",
        "outputId": "2677fcbd-e2a4-4f2e-dcb9-55dc9e36ab0e"
      },
      "source": [
        "# 통계정보 확인\n",
        "\n",
        "raw_df.describe()"
      ],
      "execution_count": 76,
      "outputs": [
        {
          "output_type": "execute_result",
          "data": {
            "text/html": [
              "<div>\n",
              "<style scoped>\n",
              "    .dataframe tbody tr th:only-of-type {\n",
              "        vertical-align: middle;\n",
              "    }\n",
              "\n",
              "    .dataframe tbody tr th {\n",
              "        vertical-align: top;\n",
              "    }\n",
              "\n",
              "    .dataframe thead th {\n",
              "        text-align: right;\n",
              "    }\n",
              "</style>\n",
              "<table border=\"1\" class=\"dataframe\">\n",
              "  <thead>\n",
              "    <tr style=\"text-align: right;\">\n",
              "      <th></th>\n",
              "      <th>Open</th>\n",
              "      <th>High</th>\n",
              "      <th>Low</th>\n",
              "      <th>Close</th>\n",
              "      <th>Adj Close</th>\n",
              "      <th>Volume</th>\n",
              "      <th>3MA</th>\n",
              "      <th>5MA</th>\n",
              "    </tr>\n",
              "  </thead>\n",
              "  <tbody>\n",
              "    <tr>\n",
              "      <th>count</th>\n",
              "      <td>5269.000000</td>\n",
              "      <td>5269.000000</td>\n",
              "      <td>5269.000000</td>\n",
              "      <td>5269.000000</td>\n",
              "      <td>5269.000000</td>\n",
              "      <td>5.269000e+03</td>\n",
              "      <td>5269.000000</td>\n",
              "      <td>5269.000000</td>\n",
              "    </tr>\n",
              "    <tr>\n",
              "      <th>mean</th>\n",
              "      <td>23101.309546</td>\n",
              "      <td>23348.830898</td>\n",
              "      <td>22853.370659</td>\n",
              "      <td>23101.381666</td>\n",
              "      <td>20104.864011</td>\n",
              "      <td>2.253498e+07</td>\n",
              "      <td>20090.424057</td>\n",
              "      <td>20076.100400</td>\n",
              "    </tr>\n",
              "    <tr>\n",
              "      <th>std</th>\n",
              "      <td>17753.177927</td>\n",
              "      <td>17923.425941</td>\n",
              "      <td>17589.495566</td>\n",
              "      <td>17750.160912</td>\n",
              "      <td>17283.142857</td>\n",
              "      <td>1.542577e+07</td>\n",
              "      <td>17261.798448</td>\n",
              "      <td>17240.757582</td>\n",
              "    </tr>\n",
              "    <tr>\n",
              "      <th>min</th>\n",
              "      <td>2540.000000</td>\n",
              "      <td>2760.000000</td>\n",
              "      <td>2420.000000</td>\n",
              "      <td>2730.000000</td>\n",
              "      <td>2108.591064</td>\n",
              "      <td>2.765000e+04</td>\n",
              "      <td>2154.933187</td>\n",
              "      <td>2185.828369</td>\n",
              "    </tr>\n",
              "    <tr>\n",
              "      <th>25%</th>\n",
              "      <td>10180.000000</td>\n",
              "      <td>10340.000000</td>\n",
              "      <td>10020.000000</td>\n",
              "      <td>10180.000000</td>\n",
              "      <td>7965.930664</td>\n",
              "      <td>1.218155e+07</td>\n",
              "      <td>7929.743815</td>\n",
              "      <td>7941.938281</td>\n",
              "    </tr>\n",
              "    <tr>\n",
              "      <th>50%</th>\n",
              "      <td>16160.000000</td>\n",
              "      <td>16340.000000</td>\n",
              "      <td>15960.000000</td>\n",
              "      <td>16160.000000</td>\n",
              "      <td>13076.118160</td>\n",
              "      <td>1.828551e+07</td>\n",
              "      <td>13072.025390</td>\n",
              "      <td>13077.448050</td>\n",
              "    </tr>\n",
              "    <tr>\n",
              "      <th>75%</th>\n",
              "      <td>29500.000000</td>\n",
              "      <td>29780.000000</td>\n",
              "      <td>29200.000000</td>\n",
              "      <td>29480.000000</td>\n",
              "      <td>24580.816410</td>\n",
              "      <td>2.792230e+07</td>\n",
              "      <td>24591.831380</td>\n",
              "      <td>24597.178120</td>\n",
              "    </tr>\n",
              "    <tr>\n",
              "      <th>max</th>\n",
              "      <td>90300.000000</td>\n",
              "      <td>96800.000000</td>\n",
              "      <td>89500.000000</td>\n",
              "      <td>91000.000000</td>\n",
              "      <td>90198.078130</td>\n",
              "      <td>1.642150e+08</td>\n",
              "      <td>89636.401040</td>\n",
              "      <td>89167.239060</td>\n",
              "    </tr>\n",
              "  </tbody>\n",
              "</table>\n",
              "</div>"
            ],
            "text/plain": [
              "               Open          High  ...           3MA           5MA\n",
              "count   5269.000000   5269.000000  ...   5269.000000   5269.000000\n",
              "mean   23101.309546  23348.830898  ...  20090.424057  20076.100400\n",
              "std    17753.177927  17923.425941  ...  17261.798448  17240.757582\n",
              "min     2540.000000   2760.000000  ...   2154.933187   2185.828369\n",
              "25%    10180.000000  10340.000000  ...   7929.743815   7941.938281\n",
              "50%    16160.000000  16340.000000  ...  13072.025390  13077.448050\n",
              "75%    29500.000000  29780.000000  ...  24591.831380  24597.178120\n",
              "max    90300.000000  96800.000000  ...  89636.401040  89167.239060\n",
              "\n",
              "[8 rows x 8 columns]"
            ]
          },
          "metadata": {},
          "execution_count": 76
        }
      ]
    },
    {
      "cell_type": "code",
      "metadata": {
        "colab": {
          "base_uri": "https://localhost:8080/"
        },
        "id": "ExtqrJEXWjBS",
        "outputId": "68b2e74b-cc3d-4391-ab9a-d696f45fa2d6"
      },
      "source": [
        "# Missing Data 확인\n",
        "\n",
        "raw_df.isnull().sum()"
      ],
      "execution_count": 77,
      "outputs": [
        {
          "output_type": "execute_result",
          "data": {
            "text/plain": [
              "Date         0\n",
              "Open         0\n",
              "High         0\n",
              "Low          0\n",
              "Close        0\n",
              "Adj Close    0\n",
              "Volume       0\n",
              "3MA          0\n",
              "5MA          0\n",
              "dtype: int64"
            ]
          },
          "metadata": {},
          "execution_count": 77
        }
      ]
    },
    {
      "cell_type": "code",
      "metadata": {
        "colab": {
          "base_uri": "https://localhost:8080/"
        },
        "id": "eJKlSQjlxvgj",
        "outputId": "93df55ae-42ff-4446-8634-1572f2b7a16e"
      },
      "source": [
        "# 최소값이 0 인 column 체크\n",
        "\n",
        "for col in raw_df.columns:\n",
        "\n",
        "    if raw_df[col].min() == 0:\n",
        "        col_name = col\n",
        "        print(col_name, type(col_name))"
      ],
      "execution_count": 47,
      "outputs": [
        {
          "output_type": "stream",
          "name": "stdout",
          "text": [
            "Volume <class 'str'>\n"
          ]
        }
      ]
    },
    {
      "cell_type": "code",
      "metadata": {
        "colab": {
          "base_uri": "https://localhost:8080/",
          "height": 423
        },
        "id": "-sjMP002VR5P",
        "outputId": "ea146cd2-a897-4047-97bf-bb05b960778c"
      },
      "source": [
        "raw_df.loc[raw_df['Volume']==0]"
      ],
      "execution_count": 48,
      "outputs": [
        {
          "output_type": "execute_result",
          "data": {
            "text/html": [
              "<div>\n",
              "<style scoped>\n",
              "    .dataframe tbody tr th:only-of-type {\n",
              "        vertical-align: middle;\n",
              "    }\n",
              "\n",
              "    .dataframe tbody tr th {\n",
              "        vertical-align: top;\n",
              "    }\n",
              "\n",
              "    .dataframe thead th {\n",
              "        text-align: right;\n",
              "    }\n",
              "</style>\n",
              "<table border=\"1\" class=\"dataframe\">\n",
              "  <thead>\n",
              "    <tr style=\"text-align: right;\">\n",
              "      <th></th>\n",
              "      <th>Date</th>\n",
              "      <th>Open</th>\n",
              "      <th>High</th>\n",
              "      <th>Low</th>\n",
              "      <th>Close</th>\n",
              "      <th>Adj Close</th>\n",
              "      <th>Volume</th>\n",
              "      <th>3MA</th>\n",
              "      <th>5MA</th>\n",
              "    </tr>\n",
              "  </thead>\n",
              "  <tbody>\n",
              "    <tr>\n",
              "      <th>23</th>\n",
              "      <td>2000-02-04</td>\n",
              "      <td>5130.0</td>\n",
              "      <td>5130.0</td>\n",
              "      <td>5130.0</td>\n",
              "      <td>5130.0</td>\n",
              "      <td>3962.297363</td>\n",
              "      <td>0.0</td>\n",
              "      <td>3993.192708</td>\n",
              "      <td>4079.698633</td>\n",
              "    </tr>\n",
              "    <tr>\n",
              "      <th>41</th>\n",
              "      <td>2000-03-01</td>\n",
              "      <td>5120.0</td>\n",
              "      <td>5120.0</td>\n",
              "      <td>5120.0</td>\n",
              "      <td>5120.0</td>\n",
              "      <td>3954.572754</td>\n",
              "      <td>0.0</td>\n",
              "      <td>3872.185872</td>\n",
              "      <td>3897.416895</td>\n",
              "    </tr>\n",
              "    <tr>\n",
              "      <th>66</th>\n",
              "      <td>2000-04-05</td>\n",
              "      <td>6800.0</td>\n",
              "      <td>6800.0</td>\n",
              "      <td>6800.0</td>\n",
              "      <td>6800.0</td>\n",
              "      <td>5252.166504</td>\n",
              "      <td>0.0</td>\n",
              "      <td>5329.404460</td>\n",
              "      <td>5321.680957</td>\n",
              "    </tr>\n",
              "    <tr>\n",
              "      <th>72</th>\n",
              "      <td>2000-04-13</td>\n",
              "      <td>6910.0</td>\n",
              "      <td>6910.0</td>\n",
              "      <td>6910.0</td>\n",
              "      <td>6910.0</td>\n",
              "      <td>5337.128906</td>\n",
              "      <td>0.0</td>\n",
              "      <td>5386.046061</td>\n",
              "      <td>5471.522168</td>\n",
              "    </tr>\n",
              "    <tr>\n",
              "      <th>84</th>\n",
              "      <td>2000-05-01</td>\n",
              "      <td>6000.0</td>\n",
              "      <td>6000.0</td>\n",
              "      <td>6000.0</td>\n",
              "      <td>6000.0</td>\n",
              "      <td>4634.264160</td>\n",
              "      <td>0.0</td>\n",
              "      <td>4479.789062</td>\n",
              "      <td>4424.178320</td>\n",
              "    </tr>\n",
              "    <tr>\n",
              "      <th>...</th>\n",
              "      <td>...</td>\n",
              "      <td>...</td>\n",
              "      <td>...</td>\n",
              "      <td>...</td>\n",
              "      <td>...</td>\n",
              "      <td>...</td>\n",
              "      <td>...</td>\n",
              "      <td>...</td>\n",
              "      <td>...</td>\n",
              "    </tr>\n",
              "    <tr>\n",
              "      <th>4623</th>\n",
              "      <td>2018-04-30</td>\n",
              "      <td>53000.0</td>\n",
              "      <td>53000.0</td>\n",
              "      <td>53000.0</td>\n",
              "      <td>53000.0</td>\n",
              "      <td>47608.343750</td>\n",
              "      <td>0.0</td>\n",
              "      <td>47350.837240</td>\n",
              "      <td>46530.417970</td>\n",
              "    </tr>\n",
              "    <tr>\n",
              "      <th>4624</th>\n",
              "      <td>2018-05-02</td>\n",
              "      <td>53000.0</td>\n",
              "      <td>53000.0</td>\n",
              "      <td>53000.0</td>\n",
              "      <td>53000.0</td>\n",
              "      <td>47608.343750</td>\n",
              "      <td>0.0</td>\n",
              "      <td>47608.343750</td>\n",
              "      <td>46986.739840</td>\n",
              "    </tr>\n",
              "    <tr>\n",
              "      <th>4625</th>\n",
              "      <td>2018-05-03</td>\n",
              "      <td>53000.0</td>\n",
              "      <td>53000.0</td>\n",
              "      <td>53000.0</td>\n",
              "      <td>53000.0</td>\n",
              "      <td>47608.343750</td>\n",
              "      <td>0.0</td>\n",
              "      <td>47608.343750</td>\n",
              "      <td>47453.839840</td>\n",
              "    </tr>\n",
              "    <tr>\n",
              "      <th>5077</th>\n",
              "      <td>2020-03-09</td>\n",
              "      <td>56500.0</td>\n",
              "      <td>56500.0</td>\n",
              "      <td>56500.0</td>\n",
              "      <td>56500.0</td>\n",
              "      <td>53537.445310</td>\n",
              "      <td>0.0</td>\n",
              "      <td>53948.053380</td>\n",
              "      <td>53745.904690</td>\n",
              "    </tr>\n",
              "    <tr>\n",
              "      <th>5080</th>\n",
              "      <td>2020-03-12</td>\n",
              "      <td>52100.0</td>\n",
              "      <td>52100.0</td>\n",
              "      <td>52100.0</td>\n",
              "      <td>52100.0</td>\n",
              "      <td>49368.156250</td>\n",
              "      <td>0.0</td>\n",
              "      <td>50157.791670</td>\n",
              "      <td>51509.653120</td>\n",
              "    </tr>\n",
              "  </tbody>\n",
              "</table>\n",
              "<p>116 rows × 9 columns</p>\n",
              "</div>"
            ],
            "text/plain": [
              "            Date     Open     High  ...  Volume           3MA           5MA\n",
              "23    2000-02-04   5130.0   5130.0  ...     0.0   3993.192708   4079.698633\n",
              "41    2000-03-01   5120.0   5120.0  ...     0.0   3872.185872   3897.416895\n",
              "66    2000-04-05   6800.0   6800.0  ...     0.0   5329.404460   5321.680957\n",
              "72    2000-04-13   6910.0   6910.0  ...     0.0   5386.046061   5471.522168\n",
              "84    2000-05-01   6000.0   6000.0  ...     0.0   4479.789062   4424.178320\n",
              "...          ...      ...      ...  ...     ...           ...           ...\n",
              "4623  2018-04-30  53000.0  53000.0  ...     0.0  47350.837240  46530.417970\n",
              "4624  2018-05-02  53000.0  53000.0  ...     0.0  47608.343750  46986.739840\n",
              "4625  2018-05-03  53000.0  53000.0  ...     0.0  47608.343750  47453.839840\n",
              "5077  2020-03-09  56500.0  56500.0  ...     0.0  53948.053380  53745.904690\n",
              "5080  2020-03-12  52100.0  52100.0  ...     0.0  50157.791670  51509.653120\n",
              "\n",
              "[116 rows x 9 columns]"
            ]
          },
          "metadata": {},
          "execution_count": 48
        }
      ]
    },
    {
      "cell_type": "code",
      "metadata": {
        "colab": {
          "base_uri": "https://localhost:8080/"
        },
        "id": "T6Uv4EM7SWnL",
        "outputId": "70dab831-a48f-4425-c1ce-61bb1185c238"
      },
      "source": [
        "raw_df.shape"
      ],
      "execution_count": 78,
      "outputs": [
        {
          "output_type": "execute_result",
          "data": {
            "text/plain": [
              "(5269, 9)"
            ]
          },
          "metadata": {},
          "execution_count": 78
        }
      ]
    },
    {
      "cell_type": "code",
      "metadata": {
        "colab": {
          "base_uri": "https://localhost:8080/"
        },
        "id": "Ac7ieaSiUkYl",
        "outputId": "d4a5f648-1497-41af-d382-4498fc25fd7e"
      },
      "source": [
        "# 각 column에 0 몇개인지 확인\n",
        "\n",
        "for col in raw_df.columns:\n",
        "\n",
        "    missing_rows = raw_df.loc[raw_df[col]==0].shape[0]\n",
        "    print(col + ': ' + str(missing_rows))"
      ],
      "execution_count": 49,
      "outputs": [
        {
          "output_type": "stream",
          "name": "stdout",
          "text": [
            "Date: 0\n",
            "Open: 0\n",
            "High: 0\n",
            "Low: 0\n",
            "Close: 0\n",
            "Adj Close: 0\n",
            "Volume: 116\n",
            "3MA: 0\n",
            "5MA: 0\n"
          ]
        }
      ]
    },
    {
      "cell_type": "code",
      "metadata": {
        "colab": {
          "base_uri": "https://localhost:8080/"
        },
        "id": "EqPvPM4UVskp",
        "outputId": "5fcb42ff-63d7-4e21-9a99-4c74830c9283"
      },
      "source": [
        "# 먼저 0 을 NaN 으로 바꾼후, Missing Data 처리\n",
        "\n",
        "raw_df['Volume'] = raw_df['Volume'].replace(0, np.nan)\n",
        "\n",
        "# 각 column에 0 몇개인지 확인\n",
        "\n",
        "for col in raw_df.columns:\n",
        "\n",
        "    missing_rows = raw_df.loc[raw_df[col]==0].shape[0]\n",
        "    print(col + ': ' + str(missing_rows))"
      ],
      "execution_count": 50,
      "outputs": [
        {
          "output_type": "stream",
          "name": "stdout",
          "text": [
            "Date: 0\n",
            "Open: 0\n",
            "High: 0\n",
            "Low: 0\n",
            "Close: 0\n",
            "Adj Close: 0\n",
            "Volume: 0\n",
            "3MA: 0\n",
            "5MA: 0\n"
          ]
        }
      ]
    },
    {
      "cell_type": "code",
      "metadata": {
        "colab": {
          "base_uri": "https://localhost:8080/"
        },
        "id": "BJ2attPDfw3E",
        "outputId": "af6099bf-8610-4c2a-cd12-cc44c8a9f0fb"
      },
      "source": [
        "# missing data 확인\n",
        "\n",
        "raw_df.isnull().sum()"
      ],
      "execution_count": 51,
      "outputs": [
        {
          "output_type": "execute_result",
          "data": {
            "text/plain": [
              "Date           0\n",
              "Open           6\n",
              "High           6\n",
              "Low            6\n",
              "Close          6\n",
              "Adj Close      6\n",
              "Volume       122\n",
              "3MA            2\n",
              "5MA            4\n",
              "dtype: int64"
            ]
          },
          "metadata": {},
          "execution_count": 51
        }
      ]
    },
    {
      "cell_type": "code",
      "metadata": {
        "colab": {
          "base_uri": "https://localhost:8080/"
        },
        "id": "l470iWLyhhzF",
        "outputId": "17667e25-9708-4956-92aa-7fd210708e8b"
      },
      "source": [
        "raw_df.isnull().any()"
      ],
      "execution_count": 52,
      "outputs": [
        {
          "output_type": "execute_result",
          "data": {
            "text/plain": [
              "Date         False\n",
              "Open          True\n",
              "High          True\n",
              "Low           True\n",
              "Close         True\n",
              "Adj Close     True\n",
              "Volume        True\n",
              "3MA           True\n",
              "5MA           True\n",
              "dtype: bool"
            ]
          },
          "metadata": {},
          "execution_count": 52
        }
      ]
    },
    {
      "cell_type": "code",
      "metadata": {
        "colab": {
          "base_uri": "https://localhost:8080/",
          "height": 237
        },
        "id": "Ves_xphWh182",
        "outputId": "467632b3-69d5-4a74-a749-65e7e023f7f1"
      },
      "source": [
        "raw_df.loc[raw_df['Open'].isna()]"
      ],
      "execution_count": 53,
      "outputs": [
        {
          "output_type": "execute_result",
          "data": {
            "text/html": [
              "<div>\n",
              "<style scoped>\n",
              "    .dataframe tbody tr th:only-of-type {\n",
              "        vertical-align: middle;\n",
              "    }\n",
              "\n",
              "    .dataframe tbody tr th {\n",
              "        vertical-align: top;\n",
              "    }\n",
              "\n",
              "    .dataframe thead th {\n",
              "        text-align: right;\n",
              "    }\n",
              "</style>\n",
              "<table border=\"1\" class=\"dataframe\">\n",
              "  <thead>\n",
              "    <tr style=\"text-align: right;\">\n",
              "      <th></th>\n",
              "      <th>Date</th>\n",
              "      <th>Open</th>\n",
              "      <th>High</th>\n",
              "      <th>Low</th>\n",
              "      <th>Close</th>\n",
              "      <th>Adj Close</th>\n",
              "      <th>Volume</th>\n",
              "      <th>3MA</th>\n",
              "      <th>5MA</th>\n",
              "    </tr>\n",
              "  </thead>\n",
              "  <tbody>\n",
              "    <tr>\n",
              "      <th>1304</th>\n",
              "      <td>2005-01-03</td>\n",
              "      <td>NaN</td>\n",
              "      <td>NaN</td>\n",
              "      <td>NaN</td>\n",
              "      <td>NaN</td>\n",
              "      <td>NaN</td>\n",
              "      <td>NaN</td>\n",
              "      <td>6959.12207</td>\n",
              "      <td>6879.953247</td>\n",
              "    </tr>\n",
              "    <tr>\n",
              "      <th>4513</th>\n",
              "      <td>2017-11-16</td>\n",
              "      <td>NaN</td>\n",
              "      <td>NaN</td>\n",
              "      <td>NaN</td>\n",
              "      <td>NaN</td>\n",
              "      <td>NaN</td>\n",
              "      <td>NaN</td>\n",
              "      <td>49164.99805</td>\n",
              "      <td>49500.836920</td>\n",
              "    </tr>\n",
              "    <tr>\n",
              "      <th>4518</th>\n",
              "      <td>2017-11-23</td>\n",
              "      <td>NaN</td>\n",
              "      <td>NaN</td>\n",
              "      <td>NaN</td>\n",
              "      <td>NaN</td>\n",
              "      <td>NaN</td>\n",
              "      <td>NaN</td>\n",
              "      <td>49156.16602</td>\n",
              "      <td>49107.554690</td>\n",
              "    </tr>\n",
              "    <tr>\n",
              "      <th>4542</th>\n",
              "      <td>2018-01-02</td>\n",
              "      <td>NaN</td>\n",
              "      <td>NaN</td>\n",
              "      <td>NaN</td>\n",
              "      <td>NaN</td>\n",
              "      <td>NaN</td>\n",
              "      <td>NaN</td>\n",
              "      <td>44729.72852</td>\n",
              "      <td>43995.521480</td>\n",
              "    </tr>\n",
              "    <tr>\n",
              "      <th>4755</th>\n",
              "      <td>2018-11-15</td>\n",
              "      <td>NaN</td>\n",
              "      <td>NaN</td>\n",
              "      <td>NaN</td>\n",
              "      <td>NaN</td>\n",
              "      <td>NaN</td>\n",
              "      <td>NaN</td>\n",
              "      <td>40391.00586</td>\n",
              "      <td>40596.151370</td>\n",
              "    </tr>\n",
              "    <tr>\n",
              "      <th>5000</th>\n",
              "      <td>2019-11-14</td>\n",
              "      <td>NaN</td>\n",
              "      <td>NaN</td>\n",
              "      <td>NaN</td>\n",
              "      <td>NaN</td>\n",
              "      <td>NaN</td>\n",
              "      <td>NaN</td>\n",
              "      <td>49476.37500</td>\n",
              "      <td>49146.848630</td>\n",
              "    </tr>\n",
              "  </tbody>\n",
              "</table>\n",
              "</div>"
            ],
            "text/plain": [
              "            Date  Open  High  Low  ...  Adj Close  Volume          3MA           5MA\n",
              "1304  2005-01-03   NaN   NaN  NaN  ...        NaN     NaN   6959.12207   6879.953247\n",
              "4513  2017-11-16   NaN   NaN  NaN  ...        NaN     NaN  49164.99805  49500.836920\n",
              "4518  2017-11-23   NaN   NaN  NaN  ...        NaN     NaN  49156.16602  49107.554690\n",
              "4542  2018-01-02   NaN   NaN  NaN  ...        NaN     NaN  44729.72852  43995.521480\n",
              "4755  2018-11-15   NaN   NaN  NaN  ...        NaN     NaN  40391.00586  40596.151370\n",
              "5000  2019-11-14   NaN   NaN  NaN  ...        NaN     NaN  49476.37500  49146.848630\n",
              "\n",
              "[6 rows x 9 columns]"
            ]
          },
          "metadata": {},
          "execution_count": 53
        }
      ]
    },
    {
      "cell_type": "code",
      "metadata": {
        "colab": {
          "base_uri": "https://localhost:8080/"
        },
        "id": "eIKrl7HwjxUh",
        "outputId": "3b3b6bfb-2424-42cf-d303-cd2508ea84de"
      },
      "source": [
        "# missing data 처리\n",
        "\n",
        "raw_df = raw_df.dropna()\n",
        "\n",
        "raw_df.isnull().sum()"
      ],
      "execution_count": 54,
      "outputs": [
        {
          "output_type": "execute_result",
          "data": {
            "text/plain": [
              "Date         0\n",
              "Open         0\n",
              "High         0\n",
              "Low          0\n",
              "Close        0\n",
              "Adj Close    0\n",
              "Volume       0\n",
              "3MA          0\n",
              "5MA          0\n",
              "dtype: int64"
            ]
          },
          "metadata": {},
          "execution_count": 54
        }
      ]
    },
    {
      "cell_type": "code",
      "metadata": {
        "colab": {
          "base_uri": "https://localhost:8080/"
        },
        "id": "pWjPDWKXz1Ap",
        "outputId": "e7d31772-ba3b-4b06-fa21-46cfaa45cbc3"
      },
      "source": [
        "# 정규화 (Date 제외한 모든 수치부분 정규화)\n",
        "\n",
        "from sklearn.preprocessing import MinMaxScaler\n",
        "\n",
        "scaler = MinMaxScaler()\n",
        "\n",
        "scale_cols = ['Open', 'High', 'Low', 'Close', 'Adj Close',\n",
        "              '3MA', '5MA', 'Volume']\n",
        "\n",
        "scaled_df = scaler.fit_transform(raw_df[scale_cols])\n",
        "\n",
        "scaled_df = pd.DataFrame(scaled_df, columns=scale_cols)\n",
        "\n",
        "print(scaled_df)"
      ],
      "execution_count": 55,
      "outputs": [
        {
          "output_type": "stream",
          "name": "stdout",
          "text": [
            "          Open      High       Low  ...       3MA       5MA    Volume\n",
            "0     0.034868  0.032008  0.036288  ...  0.025192  0.025698  0.285359\n",
            "1     0.037375  0.035517  0.038470  ...  0.025634  0.025094  0.363715\n",
            "2     0.034982  0.031689  0.036518  ...  0.026163  0.025343  0.177799\n",
            "3     0.034868  0.031689  0.036059  ...  0.025987  0.025503  0.250704\n",
            "4     0.036235  0.033177  0.037437  ...  0.026163  0.026018  0.300555\n",
            "...        ...       ...       ...  ...       ...       ...       ...\n",
            "5264  0.891750  0.830923  0.896647  ...  0.895299  0.903144  0.064088\n",
            "5265  0.892890  0.834113  0.897795  ...  0.894920  0.900854  0.061199\n",
            "5266  0.899727  0.841557  0.903537  ...  0.897955  0.902457  0.091190\n",
            "5267  0.895169  0.835177  0.898944  ...  0.899472  0.902228  0.085145\n",
            "5268  0.895169  0.833050  0.896647  ...  0.897955  0.901083  0.090683\n",
            "\n",
            "[5269 rows x 8 columns]\n"
          ]
        }
      ]
    },
    {
      "cell_type": "markdown",
      "metadata": {
        "id": "XEocuNgdjv9f"
      },
      "source": [
        "주가예측을 위해 3MA, 5MA, Adj Close 항목을 feature 선정\n",
        " - 정답은 Adj Close 선정\n",
        " - 시계열 데이터를 위한 window_size = 40 선정"
      ]
    },
    {
      "cell_type": "code",
      "metadata": {
        "id": "_Dekc31jpHlz"
      },
      "source": [
        "# 입력 파라미터 feature, label => numpy type\n",
        "\n",
        "def make_sequene_dataset(feature, label, window_size):\n",
        "\n",
        "    feature_list = []      # 생성될 feature list\n",
        "    label_list = []        # 생성될 label list\n",
        "\n",
        "    for i in range(len(feature)-window_size):\n",
        "\n",
        "        feature_list.append(feature[i:i+window_size])\n",
        "        label_list.append(label[i+window_size])\n",
        "\n",
        "    return np.array(feature_list), np.array(label_list)"
      ],
      "execution_count": 56,
      "outputs": []
    },
    {
      "cell_type": "code",
      "metadata": {
        "id": "xB3BIwF-nPrw"
      },
      "source": [
        "# feature_df, label_df 생성\n",
        "\n",
        "feature_cols = [ '3MA', '5MA', 'Adj Close' ]\n",
        "label_cols = [ 'Adj Close' ]\n",
        "\n",
        "feature_df = pd.DataFrame(scaled_df, columns=feature_cols)\n",
        "label_df = pd.DataFrame(scaled_df, columns=label_cols)"
      ],
      "execution_count": 57,
      "outputs": []
    },
    {
      "cell_type": "code",
      "metadata": {
        "colab": {
          "base_uri": "https://localhost:8080/"
        },
        "id": "DWutUAPSn62i",
        "outputId": "d7cf3d8c-b137-4470-d811-2846f4552621"
      },
      "source": [
        "# DataFrame => Numpy 변환\n",
        "\n",
        "feature_np = feature_df.to_numpy()\n",
        "label_np = label_df.to_numpy()\n",
        "\n",
        "print(feature_np.shape, label_np.shape)"
      ],
      "execution_count": 58,
      "outputs": [
        {
          "output_type": "stream",
          "name": "stdout",
          "text": [
            "(5269, 3) (5269, 1)\n"
          ]
        }
      ]
    },
    {
      "cell_type": "markdown",
      "metadata": {
        "id": "fvHj457p-dzb"
      },
      "source": [
        "시계열 데이터 생성 (make_sequence_dataset)"
      ]
    },
    {
      "cell_type": "code",
      "metadata": {
        "colab": {
          "base_uri": "https://localhost:8080/"
        },
        "id": "aCTkuL3bn_8-",
        "outputId": "6be2295f-8669-4636-ba15-86895cb3bef3"
      },
      "source": [
        "window_size = 40\n",
        "\n",
        "X, Y = make_sequene_dataset(feature_np, label_np, window_size)\n",
        "\n",
        "print(X.shape, Y.shape)"
      ],
      "execution_count": 59,
      "outputs": [
        {
          "output_type": "stream",
          "name": "stdout",
          "text": [
            "(5229, 40, 3) (5229, 1)\n"
          ]
        }
      ]
    },
    {
      "cell_type": "markdown",
      "metadata": {
        "id": "6wTuyxnw-ZNC"
      },
      "source": [
        "학습데이터, 테스트데이터 생성"
      ]
    },
    {
      "cell_type": "code",
      "metadata": {
        "colab": {
          "base_uri": "https://localhost:8080/"
        },
        "id": "pDekSzzpoIiO",
        "outputId": "e238cdde-7012-48b2-d055-28e4e4ba8c66"
      },
      "source": [
        "# train, test 분리\n",
        "\n",
        "#split = int(len(X)*0.95)\n",
        "split = -200\n",
        "\n",
        "x_train = X[0:split]\n",
        "y_train = Y[0:split]\n",
        "\n",
        "x_test = X[split:]\n",
        "y_test = Y[split:]\n",
        "\n",
        "print(x_train.shape, y_train.shape)\n",
        "print(x_test.shape, y_test.shape)"
      ],
      "execution_count": 60,
      "outputs": [
        {
          "output_type": "stream",
          "name": "stdout",
          "text": [
            "(5029, 40, 3) (5029, 1)\n",
            "(200, 40, 3) (200, 1)\n"
          ]
        }
      ]
    },
    {
      "cell_type": "markdown",
      "metadata": {
        "id": "Sc9d9NJB-jV0"
      },
      "source": [
        "모델 구축 및 컴파일"
      ]
    },
    {
      "cell_type": "code",
      "metadata": {
        "id": "s66hRSnAoK0D"
      },
      "source": [
        "# model 생성\n",
        "\n",
        "model = Sequential()"
      ],
      "execution_count": 61,
      "outputs": []
    },
    {
      "cell_type": "code",
      "metadata": {
        "id": "pHWn9mwbj2m-"
      },
      "source": [
        "model.add(LSTM(128, activation='tanh', input_shape=x_train[0].shape))"
      ],
      "execution_count": 62,
      "outputs": []
    },
    {
      "cell_type": "code",
      "metadata": {
        "id": "_p85F75hj2m-"
      },
      "source": [
        "model.add(Dense(1, activation='linear'))"
      ],
      "execution_count": 63,
      "outputs": []
    },
    {
      "cell_type": "code",
      "metadata": {
        "colab": {
          "base_uri": "https://localhost:8080/"
        },
        "id": "yBlP2iimoNay",
        "outputId": "28288ca7-c7af-4043-cd55-4699a139940b"
      },
      "source": [
        "model.compile(loss='mse', optimizer='adam', metrics=['mae'])\n",
        "\n",
        "model.summary()"
      ],
      "execution_count": 64,
      "outputs": [
        {
          "output_type": "stream",
          "name": "stdout",
          "text": [
            "Model: \"sequential\"\n",
            "_________________________________________________________________\n",
            "Layer (type)                 Output Shape              Param #   \n",
            "=================================================================\n",
            "lstm (LSTM)                  (None, 128)               67584     \n",
            "_________________________________________________________________\n",
            "dense (Dense)                (None, 1)                 129       \n",
            "=================================================================\n",
            "Total params: 67,713\n",
            "Trainable params: 67,713\n",
            "Non-trainable params: 0\n",
            "_________________________________________________________________\n"
          ]
        }
      ]
    },
    {
      "cell_type": "markdown",
      "metadata": {
        "id": "t_9GD7Vg-mHw"
      },
      "source": [
        "모델 학습 (EarlyStopping 적용)"
      ]
    },
    {
      "cell_type": "code",
      "metadata": {
        "colab": {
          "base_uri": "https://localhost:8080/"
        },
        "id": "xpAYLcPHoPUd",
        "outputId": "14fe1335-7f0a-44a0-e79e-22a3b2412700"
      },
      "source": [
        "from tensorflow.keras.callbacks import EarlyStopping\n",
        "\n",
        "early_stop = EarlyStopping(monitor='val_loss', patience=5)\n",
        "\n",
        "model.fit(x_train, y_train, \n",
        "          validation_data=(x_test, y_test),\n",
        "          epochs=100, batch_size=16,\n",
        "          callbacks=[early_stop])"
      ],
      "execution_count": 65,
      "outputs": [
        {
          "output_type": "stream",
          "name": "stdout",
          "text": [
            "Epoch 1/100\n",
            "315/315 [==============================] - 11s 15ms/step - loss: 7.0459e-04 - mae: 0.0103 - val_loss: 0.0012 - val_mae: 0.0245\n",
            "Epoch 2/100\n",
            "315/315 [==============================] - 4s 12ms/step - loss: 8.4425e-05 - mae: 0.0060 - val_loss: 8.5069e-04 - val_mae: 0.0196\n",
            "Epoch 3/100\n",
            "315/315 [==============================] - 4s 12ms/step - loss: 8.7913e-05 - mae: 0.0061 - val_loss: 0.0010 - val_mae: 0.0234\n",
            "Epoch 4/100\n",
            "315/315 [==============================] - 4s 12ms/step - loss: 7.5900e-05 - mae: 0.0057 - val_loss: 5.7454e-04 - val_mae: 0.0165\n",
            "Epoch 5/100\n",
            "315/315 [==============================] - 4s 12ms/step - loss: 6.5178e-05 - mae: 0.0053 - val_loss: 9.5350e-04 - val_mae: 0.0241\n",
            "Epoch 6/100\n",
            "315/315 [==============================] - 4s 13ms/step - loss: 6.5325e-05 - mae: 0.0053 - val_loss: 4.5001e-04 - val_mae: 0.0164\n",
            "Epoch 7/100\n",
            "315/315 [==============================] - 4s 12ms/step - loss: 7.3267e-05 - mae: 0.0057 - val_loss: 6.2441e-04 - val_mae: 0.0185\n",
            "Epoch 8/100\n",
            "315/315 [==============================] - 4s 12ms/step - loss: 5.6666e-05 - mae: 0.0050 - val_loss: 6.6557e-04 - val_mae: 0.0199\n",
            "Epoch 9/100\n",
            "315/315 [==============================] - 4s 12ms/step - loss: 5.4903e-05 - mae: 0.0049 - val_loss: 3.2822e-04 - val_mae: 0.0129\n",
            "Epoch 10/100\n",
            "315/315 [==============================] - 4s 13ms/step - loss: 5.2436e-05 - mae: 0.0048 - val_loss: 3.3913e-04 - val_mae: 0.0130\n",
            "Epoch 11/100\n",
            "315/315 [==============================] - 4s 12ms/step - loss: 4.7183e-05 - mae: 0.0046 - val_loss: 5.4849e-04 - val_mae: 0.0183\n",
            "Epoch 12/100\n",
            "315/315 [==============================] - 4s 12ms/step - loss: 4.3607e-05 - mae: 0.0044 - val_loss: 3.4377e-04 - val_mae: 0.0133\n",
            "Epoch 13/100\n",
            "315/315 [==============================] - 4s 12ms/step - loss: 4.3200e-05 - mae: 0.0044 - val_loss: 3.6728e-04 - val_mae: 0.0140\n",
            "Epoch 14/100\n",
            "315/315 [==============================] - 4s 12ms/step - loss: 4.1277e-05 - mae: 0.0043 - val_loss: 4.3671e-04 - val_mae: 0.0161\n"
          ]
        },
        {
          "output_type": "execute_result",
          "data": {
            "text/plain": [
              "<keras.callbacks.History at 0x7fd64d2c8310>"
            ]
          },
          "metadata": {},
          "execution_count": 65
        }
      ]
    },
    {
      "cell_type": "markdown",
      "metadata": {
        "id": "CN5J-MPa-q9_"
      },
      "source": [
        "예측을 통한 정답과의 비교 \n",
        "(오차계산 MAPE 사용, 평균절대값백분율오차)"
      ]
    },
    {
      "cell_type": "code",
      "metadata": {
        "colab": {
          "base_uri": "https://localhost:8080/",
          "height": 404
        },
        "id": "iUUCbGgQoSQ1",
        "outputId": "dae4ea15-7d77-45f2-fdb3-c8c63295fa31"
      },
      "source": [
        "pred = model.predict(x_test)\n",
        "\n",
        "plt.figure(figsize=(12, 6))\n",
        "plt.title('3MA + 5MA + Adj Close, window_size=40')\n",
        "plt.ylabel('adj close')\n",
        "plt.xlabel('period')\n",
        "plt.plot(y_test, label='actual')\n",
        "plt.plot(pred, label='prediction')\n",
        "plt.grid()\n",
        "plt.legend(loc='best')\n",
        "\n",
        "plt.show()"
      ],
      "execution_count": 66,
      "outputs": [
        {
          "output_type": "display_data",
          "data": {
            "image/png": "[encoded data removed]",
            "text/plain": [
              "<Figure size 864x432 with 1 Axes>"
            ]
          },
          "metadata": {
            "needs_background": "light"
          }
        }
      ]
    },
    {
      "cell_type": "code",
      "metadata": {
        "colab": {
          "base_uri": "https://localhost:8080/"
        },
        "id": "3rpiFjKRoZlk",
        "outputId": "d9650d02-3367-4a7a-acc5-6dd3cdd95789"
      },
      "source": [
        "# 평균절대값백분율오차계산 (MAPE)\n",
        "\n",
        "print( np.sum(abs(y_test-pred)/y_test) / len(x_test) )"
      ],
      "execution_count": null,
      "outputs": [
        {
          "output_type": "stream",
          "name": "stdout",
          "text": [
            "0.016294216373398934\n"
          ]
        }
      ]
    },
    {
      "cell_type": "code",
      "metadata": {
        "id": "MO0aOPtGj2m_"
      },
      "source": [
        ""
      ],
      "execution_count": null,
      "outputs": []
    },
    {
      "cell_type": "code",
      "metadata": {
        "id": "fPzIGzWsj2m_"
      },
      "source": [
        ""
      ],
      "execution_count": null,
      "outputs": []
    }
  ]
}