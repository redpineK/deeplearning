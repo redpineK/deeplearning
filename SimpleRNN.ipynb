{
  "nbformat": 4,
  "nbformat_minor": 0,
  "metadata": {
    "colab": {
      "provenance": [],
      "collapsed_sections": [],
      "include_colab_link": true
    },
    "kernelspec": {
      "name": "python3",
      "display_name": "Python 3"
    },
    "language_info": {
      "name": "python"
    }
  },
  "cells": [
    {
      "cell_type": "markdown",
      "metadata": {
        "id": "view-in-github",
        "colab_type": "text"
      },
      "source": [
        "<a href=\"https://colab.research.google.com/github/redpineK/deeplearning/blob/master/SimpleRNN.ipynb\" target=\"_parent\"><img src=\"https://colab.research.google.com/assets/colab-badge.svg\" alt=\"Open In Colab\"/></a>"
      ]
    },
    {
      "cell_type": "markdown",
      "source": [
        "\n",
        "\n",
        "출처: https://hdevstudy.tistory.com/127 [김인연의 개발 공부:티스토리]\n",
        "\n"
      ],
      "metadata": {
        "id": "uIScfbJsYqhP"
      }
    },
    {
      "cell_type": "code",
      "execution_count": 1,
      "metadata": {
        "id": "Mhf4JCRoYhy8"
      },
      "outputs": [],
      "source": [
        "import numpy as np\n",
        "\n",
        "t = np.arange(0, 1000)\n",
        "x = np.sin(0.02 * t) + np.random.rand(1000)\n",
        "train, test = x[0:800], x[800:1000]\n"
      ]
    },
    {
      "cell_type": "code",
      "source": [
        "print(len(train))"
      ],
      "metadata": {
        "colab": {
          "base_uri": "https://localhost:8080/"
        },
        "id": "10J92AA05lZO",
        "outputId": "b81c5f21-427a-48e3-e3d5-1cac8e8eae9f"
      },
      "execution_count": 7,
      "outputs": [
        {
          "output_type": "stream",
          "name": "stdout",
          "text": [
            "800\n"
          ]
        }
      ]
    },
    {
      "cell_type": "code",
      "source": [
        "# INPUT\t\t\t                \tOUTPUT\n",
        "# sin(0) sin(1) sin(2) sin(3)\tsin(4)\n",
        "# sin(1) sin(2) sin(3) sin(4)\tsin(5)\n",
        "# sin(2) sin(3) sin(4) sin(5)\tsin(6)\n",
        "# ...\n"
      ],
      "metadata": {
        "id": "MVgJWaR8YoYm"
      },
      "execution_count": null,
      "outputs": []
    },
    {
      "cell_type": "code",
      "source": [
        "def convert_to_matrix(data, step):\n",
        "    x, y = [], []\n",
        "    for i in range(len(data) - step):\n",
        "        d = i + step  \n",
        "        x.append(data[i:d])\n",
        "        y.append(data[d])\n",
        "    return np.array(x), np.array(y)\n",
        "\n",
        "train = np.append(train, np.repeat(train[-1], 4))\n",
        "test = np.append(test, np.repeat(test[-1], 4))\n",
        "print(len(train))\n",
        "print(len(test))\n",
        "print(train[-5:-1])\n",
        "train_x, train_y = convert_to_matrix(train, 4)\n",
        "test_x, test_y = convert_to_matrix(test, 4)\n",
        "\n",
        "train_x = np.reshape(train_x, (train_x.shape[0], 1, train_x.shape[1]))\n",
        "test_x = np.reshape(test_x, (test_x.shape[0], 1, test_x.shape[1]))\n"
      ],
      "metadata": {
        "id": "BPbkTHoUYyg2",
        "colab": {
          "base_uri": "https://localhost:8080/"
        },
        "outputId": "3a0e4324-b215-4d76-f0eb-b692e1556ff3"
      },
      "execution_count": 16,
      "outputs": [
        {
          "output_type": "stream",
          "name": "stdout",
          "text": [
            "820\n",
            "220\n",
            "[-0.24315311 -0.24315311 -0.24315311 -0.24315311]\n"
          ]
        }
      ]
    },
    {
      "cell_type": "code",
      "source": [
        "train"
      ],
      "metadata": {
        "id": "OHLxL6tY95ba"
      },
      "execution_count": null,
      "outputs": []
    },
    {
      "cell_type": "code",
      "source": [
        "train_y"
      ],
      "metadata": {
        "id": "qEhPHP2o6yyF"
      },
      "execution_count": null,
      "outputs": []
    },
    {
      "cell_type": "code",
      "source": [
        "from keras.models import Sequential\n",
        "from keras.layers import SimpleRNN, Dense\n",
        "\n",
        "model = Sequential()\n",
        "model.add(SimpleRNN(units=32, input_shape=(1, 4), activation='relu'))\n",
        "model.add(Dense(8, activation='relu'))\n",
        "model.add(Dense(1))\n",
        "model.compile(loss='mse', optimizer='adam', metrics=['acc'])"
      ],
      "metadata": {
        "id": "tf7aWzj7Y9k_"
      },
      "execution_count": 17,
      "outputs": []
    },
    {
      "cell_type": "code",
      "source": [
        "model.summary()\n",
        "\n",
        "# Layer (type)                 Output Shape              Param #   \n",
        "# =================================================================\n",
        "# simple_rnn (SimpleRNN)       (None, 32)                1184      \n",
        "# _________________________________________________________________\n",
        "# dense (Dense)                (None, 8)                 264       \n",
        "# _________________________________________________________________\n",
        "# dense_1 (Dense)              (None, 1)                 9         \n",
        "# =================================================================\n",
        "# Total params: 1,457\n",
        "# Trainable params: 1,457\n",
        "# Non-trainable params: 0\n"
      ],
      "metadata": {
        "colab": {
          "base_uri": "https://localhost:8080/"
        },
        "id": "1eoDRjp1ZBTm",
        "outputId": "09c2464a-9453-4f42-dfab-4cf4f01d6c71"
      },
      "execution_count": 18,
      "outputs": [
        {
          "output_type": "stream",
          "name": "stdout",
          "text": [
            "Model: \"sequential\"\n",
            "_________________________________________________________________\n",
            " Layer (type)                Output Shape              Param #   \n",
            "=================================================================\n",
            " simple_rnn (SimpleRNN)      (None, 32)                1184      \n",
            "                                                                 \n",
            " dense (Dense)               (None, 8)                 264       \n",
            "                                                                 \n",
            " dense_1 (Dense)             (None, 1)                 9         \n",
            "                                                                 \n",
            "=================================================================\n",
            "Total params: 1,457\n",
            "Trainable params: 1,457\n",
            "Non-trainable params: 0\n",
            "_________________________________________________________________\n"
          ]
        }
      ]
    },
    {
      "cell_type": "code",
      "source": [
        "history = model.fit(train_x, train_y, epochs=100, batch_size=16)\n"
      ],
      "metadata": {
        "colab": {
          "base_uri": "https://localhost:8080/"
        },
        "id": "Zuk36cRmZHRe",
        "outputId": "4326bc40-b19b-4e0e-a1e5-1f057ad7fc9e"
      },
      "execution_count": 19,
      "outputs": [
        {
          "output_type": "stream",
          "name": "stdout",
          "text": [
            "Epoch 1/100\n",
            "51/51 [==============================] - 1s 2ms/step - loss: 0.1723 - acc: 0.0000e+00\n",
            "Epoch 2/100\n",
            "51/51 [==============================] - 0s 2ms/step - loss: 0.1266 - acc: 0.0000e+00\n",
            "Epoch 3/100\n",
            "51/51 [==============================] - 0s 2ms/step - loss: 0.1127 - acc: 0.0000e+00\n",
            "Epoch 4/100\n",
            "51/51 [==============================] - 0s 2ms/step - loss: 0.1074 - acc: 0.0000e+00\n",
            "Epoch 5/100\n",
            "51/51 [==============================] - 0s 3ms/step - loss: 0.1061 - acc: 0.0000e+00\n",
            "Epoch 6/100\n",
            "51/51 [==============================] - 0s 2ms/step - loss: 0.1041 - acc: 0.0000e+00\n",
            "Epoch 7/100\n",
            "51/51 [==============================] - 0s 2ms/step - loss: 0.1047 - acc: 0.0000e+00\n",
            "Epoch 8/100\n",
            "51/51 [==============================] - 0s 2ms/step - loss: 0.1034 - acc: 0.0000e+00\n",
            "Epoch 9/100\n",
            "51/51 [==============================] - 0s 2ms/step - loss: 0.1039 - acc: 0.0000e+00\n",
            "Epoch 10/100\n",
            "51/51 [==============================] - 0s 2ms/step - loss: 0.1040 - acc: 0.0000e+00\n",
            "Epoch 11/100\n",
            "51/51 [==============================] - 0s 2ms/step - loss: 0.1049 - acc: 0.0000e+00\n",
            "Epoch 12/100\n",
            "51/51 [==============================] - 0s 2ms/step - loss: 0.1032 - acc: 0.0000e+00\n",
            "Epoch 13/100\n",
            "51/51 [==============================] - 0s 2ms/step - loss: 0.1024 - acc: 0.0000e+00\n",
            "Epoch 14/100\n",
            "51/51 [==============================] - 0s 2ms/step - loss: 0.1028 - acc: 0.0000e+00\n",
            "Epoch 15/100\n",
            "51/51 [==============================] - 0s 2ms/step - loss: 0.1019 - acc: 0.0000e+00\n",
            "Epoch 16/100\n",
            "51/51 [==============================] - 0s 2ms/step - loss: 0.1029 - acc: 0.0000e+00\n",
            "Epoch 17/100\n",
            "51/51 [==============================] - 0s 2ms/step - loss: 0.1018 - acc: 0.0000e+00\n",
            "Epoch 18/100\n",
            "51/51 [==============================] - 0s 2ms/step - loss: 0.1009 - acc: 0.0000e+00\n",
            "Epoch 19/100\n",
            "51/51 [==============================] - 0s 2ms/step - loss: 0.1017 - acc: 0.0000e+00\n",
            "Epoch 20/100\n",
            "51/51 [==============================] - 0s 2ms/step - loss: 0.1011 - acc: 0.0000e+00\n",
            "Epoch 21/100\n",
            "51/51 [==============================] - 0s 2ms/step - loss: 0.1010 - acc: 0.0000e+00\n",
            "Epoch 22/100\n",
            "51/51 [==============================] - 0s 2ms/step - loss: 0.1011 - acc: 0.0000e+00\n",
            "Epoch 23/100\n",
            "51/51 [==============================] - 0s 2ms/step - loss: 0.1008 - acc: 0.0000e+00\n",
            "Epoch 24/100\n",
            "51/51 [==============================] - 0s 2ms/step - loss: 0.1005 - acc: 0.0000e+00\n",
            "Epoch 25/100\n",
            "51/51 [==============================] - 0s 2ms/step - loss: 0.1007 - acc: 0.0000e+00\n",
            "Epoch 26/100\n",
            "51/51 [==============================] - 0s 2ms/step - loss: 0.0995 - acc: 0.0000e+00\n",
            "Epoch 27/100\n",
            "51/51 [==============================] - 0s 2ms/step - loss: 0.0998 - acc: 0.0000e+00\n",
            "Epoch 28/100\n",
            "51/51 [==============================] - 0s 2ms/step - loss: 0.1011 - acc: 0.0000e+00\n",
            "Epoch 29/100\n",
            "51/51 [==============================] - 0s 2ms/step - loss: 0.0998 - acc: 0.0000e+00\n",
            "Epoch 30/100\n",
            "51/51 [==============================] - 0s 2ms/step - loss: 0.0999 - acc: 0.0000e+00\n",
            "Epoch 31/100\n",
            "51/51 [==============================] - 0s 2ms/step - loss: 0.0992 - acc: 0.0000e+00\n",
            "Epoch 32/100\n",
            "51/51 [==============================] - 0s 2ms/step - loss: 0.0990 - acc: 0.0000e+00\n",
            "Epoch 33/100\n",
            "51/51 [==============================] - 0s 5ms/step - loss: 0.1009 - acc: 0.0000e+00\n",
            "Epoch 34/100\n",
            "51/51 [==============================] - 0s 2ms/step - loss: 0.0993 - acc: 0.0000e+00\n",
            "Epoch 35/100\n",
            "51/51 [==============================] - 0s 2ms/step - loss: 0.0990 - acc: 0.0000e+00\n",
            "Epoch 36/100\n",
            "51/51 [==============================] - 0s 2ms/step - loss: 0.1002 - acc: 0.0000e+00\n",
            "Epoch 37/100\n",
            "51/51 [==============================] - 0s 2ms/step - loss: 0.0985 - acc: 0.0000e+00\n",
            "Epoch 38/100\n",
            "51/51 [==============================] - 0s 2ms/step - loss: 0.0992 - acc: 0.0000e+00\n",
            "Epoch 39/100\n",
            "51/51 [==============================] - 0s 2ms/step - loss: 0.0985 - acc: 0.0000e+00\n",
            "Epoch 40/100\n",
            "51/51 [==============================] - 0s 2ms/step - loss: 0.0987 - acc: 0.0000e+00\n",
            "Epoch 41/100\n",
            "51/51 [==============================] - 0s 2ms/step - loss: 0.0993 - acc: 0.0000e+00\n",
            "Epoch 42/100\n",
            "51/51 [==============================] - 0s 2ms/step - loss: 0.0980 - acc: 0.0000e+00\n",
            "Epoch 43/100\n",
            "51/51 [==============================] - 0s 2ms/step - loss: 0.0987 - acc: 0.0000e+00\n",
            "Epoch 44/100\n",
            "51/51 [==============================] - 0s 2ms/step - loss: 0.0994 - acc: 0.0000e+00\n",
            "Epoch 45/100\n",
            "51/51 [==============================] - 0s 2ms/step - loss: 0.0984 - acc: 0.0000e+00\n",
            "Epoch 46/100\n",
            "51/51 [==============================] - 0s 2ms/step - loss: 0.0993 - acc: 0.0000e+00\n",
            "Epoch 47/100\n",
            "51/51 [==============================] - 0s 2ms/step - loss: 0.0987 - acc: 0.0000e+00\n",
            "Epoch 48/100\n",
            "51/51 [==============================] - 0s 2ms/step - loss: 0.0976 - acc: 0.0000e+00\n",
            "Epoch 49/100\n",
            "51/51 [==============================] - 0s 2ms/step - loss: 0.0980 - acc: 0.0000e+00\n",
            "Epoch 50/100\n",
            "51/51 [==============================] - 0s 2ms/step - loss: 0.0975 - acc: 0.0000e+00\n",
            "Epoch 51/100\n",
            "51/51 [==============================] - 0s 2ms/step - loss: 0.0981 - acc: 0.0000e+00\n",
            "Epoch 52/100\n",
            "51/51 [==============================] - 0s 2ms/step - loss: 0.0976 - acc: 0.0000e+00\n",
            "Epoch 53/100\n",
            "51/51 [==============================] - 0s 2ms/step - loss: 0.0985 - acc: 0.0000e+00\n",
            "Epoch 54/100\n",
            "51/51 [==============================] - 0s 2ms/step - loss: 0.0975 - acc: 0.0000e+00\n",
            "Epoch 55/100\n",
            "51/51 [==============================] - 0s 2ms/step - loss: 0.0970 - acc: 0.0000e+00\n",
            "Epoch 56/100\n",
            "51/51 [==============================] - 0s 2ms/step - loss: 0.0969 - acc: 0.0000e+00\n",
            "Epoch 57/100\n",
            "51/51 [==============================] - 0s 2ms/step - loss: 0.0968 - acc: 0.0000e+00\n",
            "Epoch 58/100\n",
            "51/51 [==============================] - 0s 2ms/step - loss: 0.0960 - acc: 0.0000e+00\n",
            "Epoch 59/100\n",
            "51/51 [==============================] - 0s 2ms/step - loss: 0.0957 - acc: 0.0000e+00\n",
            "Epoch 60/100\n",
            "51/51 [==============================] - 0s 2ms/step - loss: 0.0962 - acc: 0.0000e+00\n",
            "Epoch 61/100\n",
            "51/51 [==============================] - 0s 2ms/step - loss: 0.0965 - acc: 0.0000e+00\n",
            "Epoch 62/100\n",
            "51/51 [==============================] - 0s 2ms/step - loss: 0.0955 - acc: 0.0000e+00\n",
            "Epoch 63/100\n",
            "51/51 [==============================] - 0s 2ms/step - loss: 0.0960 - acc: 0.0000e+00\n",
            "Epoch 64/100\n",
            "51/51 [==============================] - 0s 2ms/step - loss: 0.0970 - acc: 0.0000e+00\n",
            "Epoch 65/100\n",
            "51/51 [==============================] - 0s 2ms/step - loss: 0.0953 - acc: 0.0000e+00\n",
            "Epoch 66/100\n",
            "51/51 [==============================] - 0s 2ms/step - loss: 0.0962 - acc: 0.0000e+00\n",
            "Epoch 67/100\n",
            "51/51 [==============================] - 0s 2ms/step - loss: 0.0960 - acc: 0.0000e+00\n",
            "Epoch 68/100\n",
            "51/51 [==============================] - 0s 2ms/step - loss: 0.0960 - acc: 0.0000e+00\n",
            "Epoch 69/100\n",
            "51/51 [==============================] - 0s 2ms/step - loss: 0.0951 - acc: 0.0000e+00\n",
            "Epoch 70/100\n",
            "51/51 [==============================] - 0s 2ms/step - loss: 0.0948 - acc: 0.0000e+00\n",
            "Epoch 71/100\n",
            "51/51 [==============================] - 0s 2ms/step - loss: 0.0952 - acc: 0.0000e+00\n",
            "Epoch 72/100\n",
            "51/51 [==============================] - 0s 2ms/step - loss: 0.0945 - acc: 0.0000e+00\n",
            "Epoch 73/100\n",
            "51/51 [==============================] - 0s 2ms/step - loss: 0.0950 - acc: 0.0000e+00\n",
            "Epoch 74/100\n",
            "51/51 [==============================] - 0s 2ms/step - loss: 0.0962 - acc: 0.0000e+00\n",
            "Epoch 75/100\n",
            "51/51 [==============================] - 0s 2ms/step - loss: 0.0954 - acc: 0.0000e+00\n",
            "Epoch 76/100\n",
            "51/51 [==============================] - 0s 2ms/step - loss: 0.0945 - acc: 0.0000e+00\n",
            "Epoch 77/100\n",
            "51/51 [==============================] - 0s 2ms/step - loss: 0.0952 - acc: 0.0000e+00\n",
            "Epoch 78/100\n",
            "51/51 [==============================] - 0s 2ms/step - loss: 0.0948 - acc: 0.0000e+00\n",
            "Epoch 79/100\n",
            "51/51 [==============================] - 0s 2ms/step - loss: 0.0952 - acc: 0.0000e+00\n",
            "Epoch 80/100\n",
            "51/51 [==============================] - 0s 2ms/step - loss: 0.0938 - acc: 0.0000e+00\n",
            "Epoch 81/100\n",
            "51/51 [==============================] - 0s 2ms/step - loss: 0.0942 - acc: 0.0000e+00\n",
            "Epoch 82/100\n",
            "51/51 [==============================] - 0s 2ms/step - loss: 0.0941 - acc: 0.0000e+00\n",
            "Epoch 83/100\n",
            "51/51 [==============================] - 0s 2ms/step - loss: 0.0937 - acc: 0.0000e+00\n",
            "Epoch 84/100\n",
            "51/51 [==============================] - 0s 2ms/step - loss: 0.0941 - acc: 0.0000e+00\n",
            "Epoch 85/100\n",
            "51/51 [==============================] - 0s 2ms/step - loss: 0.0934 - acc: 0.0000e+00\n",
            "Epoch 86/100\n",
            "51/51 [==============================] - 0s 2ms/step - loss: 0.0939 - acc: 0.0000e+00\n",
            "Epoch 87/100\n",
            "51/51 [==============================] - 0s 2ms/step - loss: 0.0934 - acc: 0.0000e+00\n",
            "Epoch 88/100\n",
            "51/51 [==============================] - 0s 2ms/step - loss: 0.0936 - acc: 0.0000e+00\n",
            "Epoch 89/100\n",
            "51/51 [==============================] - 0s 2ms/step - loss: 0.0941 - acc: 0.0000e+00\n",
            "Epoch 90/100\n",
            "51/51 [==============================] - 0s 2ms/step - loss: 0.0939 - acc: 0.0000e+00\n",
            "Epoch 91/100\n",
            "51/51 [==============================] - 0s 2ms/step - loss: 0.0926 - acc: 0.0000e+00\n",
            "Epoch 92/100\n",
            "51/51 [==============================] - 0s 2ms/step - loss: 0.0949 - acc: 0.0000e+00\n",
            "Epoch 93/100\n",
            "51/51 [==============================] - 0s 2ms/step - loss: 0.0929 - acc: 0.0000e+00\n",
            "Epoch 94/100\n",
            "51/51 [==============================] - 0s 2ms/step - loss: 0.0940 - acc: 0.0000e+00\n",
            "Epoch 95/100\n",
            "51/51 [==============================] - 0s 2ms/step - loss: 0.0922 - acc: 0.0000e+00\n",
            "Epoch 96/100\n",
            "51/51 [==============================] - 0s 2ms/step - loss: 0.0926 - acc: 0.0000e+00\n",
            "Epoch 97/100\n",
            "51/51 [==============================] - 0s 2ms/step - loss: 0.0928 - acc: 0.0000e+00\n",
            "Epoch 98/100\n",
            "51/51 [==============================] - 0s 2ms/step - loss: 0.0920 - acc: 0.0000e+00\n",
            "Epoch 99/100\n",
            "51/51 [==============================] - 0s 2ms/step - loss: 0.0933 - acc: 0.0000e+00\n",
            "Epoch 100/100\n",
            "51/51 [==============================] - 0s 2ms/step - loss: 0.0919 - acc: 0.0000e+00\n"
          ]
        }
      ]
    },
    {
      "cell_type": "code",
      "source": [
        "import matplotlib.pyplot as plt\n",
        "%matplotlib inline\n",
        "\n",
        "plt.plot(history.history['loss'], label='loss')\n",
        "plt.ylabel('loss')\n",
        "plt.xlabel('epoch')\n",
        "plt.legend(loc='best')\n",
        "plt.show()\n"
      ],
      "metadata": {
        "colab": {
          "base_uri": "https://localhost:8080/",
          "height": 279
        },
        "id": "0ZjrkOjzZKeG",
        "outputId": "68c6a5c0-97bc-4a16-c820-1b578a1f7c7e"
      },
      "execution_count": 21,
      "outputs": [
        {
          "output_type": "display_data",
          "data": {
            "text/plain": [
              "<Figure size 432x288 with 1 Axes>"
            ],
            "image/png": "[encoded data removed]"
          },
          "metadata": {
            "needs_background": "light"
          }
        }
      ]
    },
    {
      "cell_type": "code",
      "source": [
        "test_loss, test_acc = model.evaluate(test_x, test_y)\n",
        "print('loss: {:.4f}\\nacc: {:.4f}'.format(test_loss, test_acc))\n",
        "# loss: 0.1183\n",
        "# acc: 0.0000\n"
      ],
      "metadata": {
        "colab": {
          "base_uri": "https://localhost:8080/"
        },
        "id": "zuR3P44xZO3u",
        "outputId": "167d195d-d54a-4af3-c03e-262436a2aed3"
      },
      "execution_count": 22,
      "outputs": [
        {
          "output_type": "stream",
          "name": "stdout",
          "text": [
            "7/7 [==============================] - 0s 3ms/step - loss: 0.1019 - acc: 0.0000e+00\n",
            "loss: 0.1019\n",
            "acc: 0.0000\n"
          ]
        }
      ]
    },
    {
      "cell_type": "code",
      "source": [
        "test_predictions = model.predict(test_x)\n",
        "\n",
        "for i in range(5):\n",
        "    print(test_y[i], test_predictions[i])\n",
        "# 0.38551802173851374 [0.20283031]\n",
        "# -0.021098359361594488 [0.06128622]\n",
        "# -0.036755569826498524 [-0.08885847]\n",
        "# -0.08457433557120209 [0.23765944]\n",
        "# 0.30249685570373663 [0.01381123]\n",
        "\n",
        "plt.plot(test_y)\n",
        "plt.plot(test_predictions)\n",
        "plt.show()\n"
      ],
      "metadata": {
        "colab": {
          "base_uri": "https://localhost:8080/",
          "height": 361
        },
        "id": "WwkRaAEoZUAX",
        "outputId": "b5b90ac8-8951-4574-eaee-bca99fdfe12b"
      },
      "execution_count": 23,
      "outputs": [
        {
          "output_type": "stream",
          "name": "stdout",
          "text": [
            "0.112482606550871 [0.3229124]\n",
            "0.11684390884986967 [-0.12892489]\n",
            "0.4357164133382636 [-0.1229344]\n",
            "-0.328628747782159 [0.14854829]\n",
            "0.5073816936270767 [0.0400443]\n"
          ]
        },
        {
          "output_type": "display_data",
          "data": {
            "text/plain": [
              "<Figure size 432x288 with 1 Axes>"
            ],
            "image/png": "[encoded data removed]"
          },
          "metadata": {
            "needs_background": "light"
          }
        }
      ]
    }
  ]
}