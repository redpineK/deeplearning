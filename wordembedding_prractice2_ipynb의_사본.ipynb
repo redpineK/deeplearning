{
  "nbformat": 4,
  "nbformat_minor": 0,
  "metadata": {
    "colab": {
      "provenance": [],
      "authorship_tag": "ABX9TyNTwLSXmYNQ2VlihpBS03rl",
      "include_colab_link": true
    },
    "kernelspec": {
      "name": "python3",
      "display_name": "Python 3"
    },
    "language_info": {
      "name": "python"
    }
  },
  "cells": [
    {
      "cell_type": "markdown",
      "metadata": {
        "id": "view-in-github",
        "colab_type": "text"
      },
      "source": [
        "<a href=\"https://colab.research.google.com/github/redpineK/deeplearning/blob/master/wordembedding_prractice2_ipynb%EC%9D%98_%EC%82%AC%EB%B3%B8.ipynb\" target=\"_parent\"><img src=\"https://colab.research.google.com/assets/colab-badge.svg\" alt=\"Open In Colab\"/></a>"
      ]
    },
    {
      "cell_type": "markdown",
      "source": [
        "출처 - https://wikidocs.net/32105\n",
        "출처 - https://taeguu.tistory.com/69"
      ],
      "metadata": {
        "id": "77jjMqatNYUZ"
      }
    },
    {
      "cell_type": "code",
      "source": [
        "import numpy as np\n",
        "import tensorflow as tf\n",
        "\n",
        "raw_inputs = np.array([\n",
        "    [1,2,3],\n",
        "    [4,5,6],\n",
        "    [7,8,0],\n",
        "])\n",
        "\n",
        "embedding = tf.keras.layers.Embedding(\n",
        "    input_dim = 10, output_dim = 2, mask_zero = True\n",
        ")\n",
        "\n",
        "output = embedding(raw_inputs)\n",
        "\n",
        "print(output)"
      ],
      "metadata": {
        "id": "cy_ppWiRLObN",
        "outputId": "cc9ac165-d9c8-4a5d-85b0-95a5e940473b",
        "colab": {
          "base_uri": "https://localhost:8080/"
        }
      },
      "execution_count": 9,
      "outputs": [
        {
          "output_type": "stream",
          "name": "stdout",
          "text": [
            "tf.Tensor(\n",
            "[[[ 0.02417648 -0.00098808]\n",
            "  [-0.02850262 -0.04900086]\n",
            "  [ 0.04472769 -0.04089211]]\n",
            "\n",
            " [[-0.03007719  0.01265666]\n",
            "  [-0.01090667 -0.02249056]\n",
            "  [ 0.03585598  0.00795426]]\n",
            "\n",
            " [[ 0.0054244   0.02063299]\n",
            "  [ 0.00556815 -0.0335386 ]\n",
            "  [ 0.02259988  0.03657872]]], shape=(3, 3, 2), dtype=float32)\n"
          ]
        }
      ]
    },
    {
      "cell_type": "code",
      "execution_count": 10,
      "metadata": {
        "colab": {
          "base_uri": "https://localhost:8080/"
        },
        "id": "F1FYnKQLNTbU",
        "outputId": "477bb042-e353-4381-93ab-da8b3ef29c6e"
      },
      "outputs": [
        {
          "output_type": "stream",
          "name": "stdout",
          "text": [
            "정수 인코딩 :  [[1, 3, 4], [1, 2, 5], [6, 2, 7, 8]]\n",
            "단어 집합 :  {'나는': 1, '학교에': 2, '밥을': 3, '먹었다': 4, '갔다': 5, '오늘': 6, '선생님이': 7, '오셨다': 8}\n"
          ]
        }
      ],
      "source": [
        "from tensorflow.keras.models import Sequential\n",
        "from tensorflow.keras.layers import SimpleRNN, Embedding, Dense\n",
        "from tensorflow.keras.preprocessing.text import Tokenizer\n",
        "from tensorflow.keras.preprocessing.sequence import pad_sequences\n",
        "\n",
        "# train_text = \"The earth is an awesome place live\"\n",
        "text = [\"나는 밥을 먹었다\", \"나는 학교에 갔다\", \"오늘 학교에 선생님이 오셨다\"]\n",
        "# 단어 집합 생성\n",
        "tokenizer = Tokenizer()\n",
        "tokenizer.fit_on_texts(text)\n",
        "sequences = tokenizer.texts_to_sequences(text)\n",
        "# 정수 인코딩\n",
        "word_index = tokenizer.word_index\n",
        "print(\"정수 인코딩 : \",sequences)\n",
        "print(\"단어 집합 : \",word_index)"
      ]
    },
    {
      "cell_type": "code",
      "source": [
        "data = pad_sequences(sequences, maxlen=4, padding='post')\n",
        "print(data)\n",
        "print(data.shape)"
      ],
      "metadata": {
        "colab": {
          "base_uri": "https://localhost:8080/"
        },
        "id": "_MCEjb6uNp6A",
        "outputId": "e5a0c6ba-a934-40fe-e1c5-9a444e69e761"
      },
      "execution_count": 11,
      "outputs": [
        {
          "output_type": "stream",
          "name": "stdout",
          "text": [
            "[[1 3 4 0]\n",
            " [1 2 5 0]\n",
            " [6 2 7 8]]\n",
            "(3, 4)\n"
          ]
        }
      ]
    },
    {
      "cell_type": "code",
      "source": [
        "embedding_dim = 100\n",
        "model = Sequential()\n",
        "model.add(Embedding(len(word_index) + 1, embedding_dim, input_length=4))\n",
        "model.compile('rmsprop','mse')\n",
        "model.summary()\n",
        "print(\"input array: \", data.shape)\n",
        "output_array = model.predict(data)\n",
        "print(\"output array: \", output_array.shape)"
      ],
      "metadata": {
        "colab": {
          "base_uri": "https://localhost:8080/"
        },
        "id": "3N6cNM5gSatA",
        "outputId": "0a6fe92e-e2ec-4b63-ae8d-963d7df94907"
      },
      "execution_count": 12,
      "outputs": [
        {
          "output_type": "stream",
          "name": "stdout",
          "text": [
            "Model: \"sequential_1\"\n",
            "_________________________________________________________________\n",
            " Layer (type)                Output Shape              Param #   \n",
            "=================================================================\n",
            " embedding_2 (Embedding)     (None, 4, 100)            900       \n",
            "                                                                 \n",
            "=================================================================\n",
            "Total params: 900\n",
            "Trainable params: 900\n",
            "Non-trainable params: 0\n",
            "_________________________________________________________________\n",
            "input array:  (3, 4)\n",
            "1/1 [==============================] - 0s 231ms/step\n",
            "output array:  (3, 4, 100)\n"
          ]
        }
      ]
    },
    {
      "cell_type": "code",
      "source": [
        "type(model)\n",
        "model"
      ],
      "metadata": {
        "id": "fzL7ob7gxh66",
        "outputId": "b1e4c452-ee7c-4a85-ed09-6d322d00e567",
        "colab": {
          "base_uri": "https://localhost:8080/"
        }
      },
      "execution_count": 15,
      "outputs": [
        {
          "output_type": "execute_result",
          "data": {
            "text/plain": [
              "<keras.engine.sequential.Sequential at 0x7fca4bdce150>"
            ]
          },
          "metadata": {},
          "execution_count": 15
        }
      ]
    },
    {
      "cell_type": "code",
      "source": [
        "print(\"첫번째 문장 embedding 결과 : \", output_array[0][0])\n",
        "print(\"두번째 문장 embedding 결과 : \", output_array[1][0])"
      ],
      "metadata": {
        "colab": {
          "base_uri": "https://localhost:8080/"
        },
        "id": "gJiIXU80XD7Y",
        "outputId": "8d812716-6e8d-44c6-dcc2-41ce00ee4a18"
      },
      "execution_count": null,
      "outputs": [
        {
          "output_type": "stream",
          "name": "stdout",
          "text": [
            "첫번째 문장 embedding 결과 :  [ 0.02549931  0.00573844 -0.0313284   0.02795484  0.03318924  0.02546461\n",
            " -0.04146696 -0.00453953  0.04116144  0.01345712  0.01004329  0.04576221\n",
            " -0.02661508  0.02259971  0.00019739  0.04076651  0.03691976 -0.01220553\n",
            "  0.01727128  0.04675208  0.04767982  0.03141779 -0.02067733  0.01823011\n",
            " -0.02536675  0.01861408 -0.01715596 -0.03122287  0.04869511 -0.01129771\n",
            "  0.0200212  -0.04884242  0.03302152 -0.04145394 -0.02602971  0.04042307\n",
            "  0.0047039  -0.00766909 -0.00318252 -0.01364858  0.00625874 -0.04773426\n",
            "  0.00827658  0.01779832  0.03293863 -0.02912314  0.03277463  0.01181341\n",
            " -0.01059031 -0.01498593  0.01595111 -0.02037647 -0.03093036  0.04011032\n",
            " -0.01833414 -0.03132057  0.0341225   0.02172519  0.0282363  -0.00629539\n",
            "  0.00572466  0.01425943  0.03551254  0.00095893 -0.00253319 -0.01421244\n",
            "  0.01046241  0.0171574   0.01787332 -0.00429909 -0.0032467   0.01614984\n",
            "  0.00884765 -0.03575505 -0.03874158 -0.00590372 -0.03032322  0.02590361\n",
            " -0.04629814 -0.03590786 -0.00037811 -0.00591316  0.04825756  0.00982178\n",
            " -0.02289506  0.03757176 -0.03875832 -0.03747842 -0.01462436  0.02873906\n",
            "  0.01502366  0.01913914  0.00334675  0.02991373 -0.01082573 -0.03460224\n",
            "  0.00764715  0.04020036  0.02570898 -0.0104175 ]\n",
            "두번째 문장 embedding 결과 :  [ 0.02549931  0.00573844 -0.0313284   0.02795484  0.03318924  0.02546461\n",
            " -0.04146696 -0.00453953  0.04116144  0.01345712  0.01004329  0.04576221\n",
            " -0.02661508  0.02259971  0.00019739  0.04076651  0.03691976 -0.01220553\n",
            "  0.01727128  0.04675208  0.04767982  0.03141779 -0.02067733  0.01823011\n",
            " -0.02536675  0.01861408 -0.01715596 -0.03122287  0.04869511 -0.01129771\n",
            "  0.0200212  -0.04884242  0.03302152 -0.04145394 -0.02602971  0.04042307\n",
            "  0.0047039  -0.00766909 -0.00318252 -0.01364858  0.00625874 -0.04773426\n",
            "  0.00827658  0.01779832  0.03293863 -0.02912314  0.03277463  0.01181341\n",
            " -0.01059031 -0.01498593  0.01595111 -0.02037647 -0.03093036  0.04011032\n",
            " -0.01833414 -0.03132057  0.0341225   0.02172519  0.0282363  -0.00629539\n",
            "  0.00572466  0.01425943  0.03551254  0.00095893 -0.00253319 -0.01421244\n",
            "  0.01046241  0.0171574   0.01787332 -0.00429909 -0.0032467   0.01614984\n",
            "  0.00884765 -0.03575505 -0.03874158 -0.00590372 -0.03032322  0.02590361\n",
            " -0.04629814 -0.03590786 -0.00037811 -0.00591316  0.04825756  0.00982178\n",
            " -0.02289506  0.03757176 -0.03875832 -0.03747842 -0.01462436  0.02873906\n",
            "  0.01502366  0.01913914  0.00334675  0.02991373 -0.01082573 -0.03460224\n",
            "  0.00764715  0.04020036  0.02570898 -0.0104175 ]\n"
          ]
        }
      ]
    },
    {
      "cell_type": "code",
      "source": [],
      "metadata": {
        "id": "0VX6N-ZcOBuR"
      },
      "execution_count": null,
      "outputs": []
    },
    {
      "cell_type": "code",
      "source": [
        "# 1. 토큰화\n",
        "tokenized_text = [['Hope', 'to', 'see', 'you', 'soon'], ['Nice', 'to', 'see', 'you', 'again']]\n",
        "\n",
        "# 2. 각 단어에 대한 정수 인코딩\n",
        "encoded_text = [[0, 1, 2, 3, 4],[5, 1, 2, 3, 6]]\n",
        "\n",
        "# 3. 위 정수 인코딩 데이터가 아래의 임베딩 층의 입력이 된다.\n",
        "vocab_size = 7\n",
        "embedding_dim = 2\n",
        "Embedding(vocab_size, embedding_dim, input_length=5)"
      ],
      "metadata": {
        "colab": {
          "base_uri": "https://localhost:8080/"
        },
        "id": "E0p8CH8BN3IR",
        "outputId": "d5a1a909-ef8a-41b1-8f79-21310b4ef6bc"
      },
      "execution_count": null,
      "outputs": [
        {
          "output_type": "execute_result",
          "data": {
            "text/plain": [
              "<keras.layers.core.embedding.Embedding at 0x7f0008e253d0>"
            ]
          },
          "metadata": {},
          "execution_count": 53
        }
      ]
    },
    {
      "cell_type": "code",
      "source": [
        "vocab_size = 10000\n",
        "embedding_dim = 32\n",
        "hidden_units = 32\n",
        "# input_length = 4\n",
        "model = Sequential()\n",
        "model.add(Embedding(vocab_size, embedding_dim, input_length = 4))\n",
        "model.add(SimpleRNN(hidden_units))\n",
        "model.add(Dense(1, activation='sigmoid'))\n",
        "model.compile(optimizer='rmsprop', loss='binary_crossentropy', metrics=['acc'])\n",
        "model.summary()"
      ],
      "metadata": {
        "colab": {
          "base_uri": "https://localhost:8080/"
        },
        "id": "yVyyjM8EOGYo",
        "outputId": "21083cf4-4f75-446a-8d67-58f16b03fd27"
      },
      "execution_count": null,
      "outputs": [
        {
          "output_type": "stream",
          "name": "stdout",
          "text": [
            "Model: \"sequential_16\"\n",
            "_________________________________________________________________\n",
            " Layer (type)                Output Shape              Param #   \n",
            "=================================================================\n",
            " embedding_20 (Embedding)    (None, 4, 32)             320000    \n",
            "                                                                 \n",
            " simple_rnn_2 (SimpleRNN)    (None, 32)                2080      \n",
            "                                                                 \n",
            " dense_2 (Dense)             (None, 1)                 33        \n",
            "                                                                 \n",
            "=================================================================\n",
            "Total params: 322,113\n",
            "Trainable params: 322,113\n",
            "Non-trainable params: 0\n",
            "_________________________________________________________________\n"
          ]
        }
      ]
    },
    {
      "cell_type": "code",
      "source": [],
      "metadata": {
        "id": "K-DmxJk2OGOo"
      },
      "execution_count": null,
      "outputs": []
    }
  ]
}