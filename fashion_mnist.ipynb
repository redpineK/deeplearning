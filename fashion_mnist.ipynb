{
  "nbformat": 4,
  "nbformat_minor": 0,
  "metadata": {
    "colab": {
      "provenance": [],
      "collapsed_sections": [],
      "authorship_tag": "ABX9TyNxjp2otHcuXDktKylqPB07",
      "include_colab_link": true
    },
    "kernelspec": {
      "name": "python3",
      "display_name": "Python 3"
    },
    "language_info": {
      "name": "python"
    }
  },
  "cells": [
    {
      "cell_type": "markdown",
      "metadata": {
        "id": "view-in-github",
        "colab_type": "text"
      },
      "source": [
        "<a href=\"https://colab.research.google.com/github/redpineK/deeplearning/blob/master/fashion_mnist.ipynb\" target=\"_parent\"><img src=\"https://colab.research.google.com/assets/colab-badge.svg\" alt=\"Open In Colab\"/></a>"
      ]
    },
    {
      "cell_type": "markdown",
      "source": [
        "https://codetorial.net/tensorflow/fashion_mnist_classification.html"
      ],
      "metadata": {
        "id": "KCfa3jVmz4ko"
      }
    },
    {
      "cell_type": "code",
      "execution_count": 10,
      "metadata": {
        "id": "kMLfHK_AzzhD"
      },
      "outputs": [],
      "source": [
        "import tensorflow as tf\n",
        "import numpy as np\n",
        "\n",
        "# 1. Fashion MNIST 데이터셋 불러오기\n",
        "fashion_mnist = tf.keras.datasets.fashion_mnist\n",
        "(train_images, train_labels), (test_images, test_labels) = fashion_mnist.load_data()"
      ]
    },
    {
      "cell_type": "code",
      "source": [
        "print(train_images[0])\n",
        "print(train_labels[0])"
      ],
      "metadata": {
        "colab": {
          "base_uri": "https://localhost:8080/"
        },
        "id": "VVEcXrfrz6TI",
        "outputId": "b1285207-5a52-4bdd-94e3-0b34b54e4048"
      },
      "execution_count": 2,
      "outputs": [
        {
          "output_type": "stream",
          "name": "stdout",
          "text": [
            "[[  0   0   0   0   0   0   0   0   0   0   0   0   0   0   0   0   0   0\n",
            "    0   0   0   0   0   0   0   0   0   0]\n",
            " [  0   0   0   0   0   0   0   0   0   0   0   0   0   0   0   0   0   0\n",
            "    0   0   0   0   0   0   0   0   0   0]\n",
            " [  0   0   0   0   0   0   0   0   0   0   0   0   0   0   0   0   0   0\n",
            "    0   0   0   0   0   0   0   0   0   0]\n",
            " [  0   0   0   0   0   0   0   0   0   0   0   0   1   0   0  13  73   0\n",
            "    0   1   4   0   0   0   0   1   1   0]\n",
            " [  0   0   0   0   0   0   0   0   0   0   0   0   3   0  36 136 127  62\n",
            "   54   0   0   0   1   3   4   0   0   3]\n",
            " [  0   0   0   0   0   0   0   0   0   0   0   0   6   0 102 204 176 134\n",
            "  144 123  23   0   0   0   0  12  10   0]\n",
            " [  0   0   0   0   0   0   0   0   0   0   0   0   0   0 155 236 207 178\n",
            "  107 156 161 109  64  23  77 130  72  15]\n",
            " [  0   0   0   0   0   0   0   0   0   0   0   1   0  69 207 223 218 216\n",
            "  216 163 127 121 122 146 141  88 172  66]\n",
            " [  0   0   0   0   0   0   0   0   0   1   1   1   0 200 232 232 233 229\n",
            "  223 223 215 213 164 127 123 196 229   0]\n",
            " [  0   0   0   0   0   0   0   0   0   0   0   0   0 183 225 216 223 228\n",
            "  235 227 224 222 224 221 223 245 173   0]\n",
            " [  0   0   0   0   0   0   0   0   0   0   0   0   0 193 228 218 213 198\n",
            "  180 212 210 211 213 223 220 243 202   0]\n",
            " [  0   0   0   0   0   0   0   0   0   1   3   0  12 219 220 212 218 192\n",
            "  169 227 208 218 224 212 226 197 209  52]\n",
            " [  0   0   0   0   0   0   0   0   0   0   6   0  99 244 222 220 218 203\n",
            "  198 221 215 213 222 220 245 119 167  56]\n",
            " [  0   0   0   0   0   0   0   0   0   4   0   0  55 236 228 230 228 240\n",
            "  232 213 218 223 234 217 217 209  92   0]\n",
            " [  0   0   1   4   6   7   2   0   0   0   0   0 237 226 217 223 222 219\n",
            "  222 221 216 223 229 215 218 255  77   0]\n",
            " [  0   3   0   0   0   0   0   0   0  62 145 204 228 207 213 221 218 208\n",
            "  211 218 224 223 219 215 224 244 159   0]\n",
            " [  0   0   0   0  18  44  82 107 189 228 220 222 217 226 200 205 211 230\n",
            "  224 234 176 188 250 248 233 238 215   0]\n",
            " [  0  57 187 208 224 221 224 208 204 214 208 209 200 159 245 193 206 223\n",
            "  255 255 221 234 221 211 220 232 246   0]\n",
            " [  3 202 228 224 221 211 211 214 205 205 205 220 240  80 150 255 229 221\n",
            "  188 154 191 210 204 209 222 228 225   0]\n",
            " [ 98 233 198 210 222 229 229 234 249 220 194 215 217 241  65  73 106 117\n",
            "  168 219 221 215 217 223 223 224 229  29]\n",
            " [ 75 204 212 204 193 205 211 225 216 185 197 206 198 213 240 195 227 245\n",
            "  239 223 218 212 209 222 220 221 230  67]\n",
            " [ 48 203 183 194 213 197 185 190 194 192 202 214 219 221 220 236 225 216\n",
            "  199 206 186 181 177 172 181 205 206 115]\n",
            " [  0 122 219 193 179 171 183 196 204 210 213 207 211 210 200 196 194 191\n",
            "  195 191 198 192 176 156 167 177 210  92]\n",
            " [  0   0  74 189 212 191 175 172 175 181 185 188 189 188 193 198 204 209\n",
            "  210 210 211 188 188 194 192 216 170   0]\n",
            " [  2   0   0   0  66 200 222 237 239 242 246 243 244 221 220 193 191 179\n",
            "  182 182 181 176 166 168  99  58   0   0]\n",
            " [  0   0   0   0   0   0   0  40  61  44  72  41  35   0   0   0   0   0\n",
            "    0   0   0   0   0   0   0   0   0   0]\n",
            " [  0   0   0   0   0   0   0   0   0   0   0   0   0   0   0   0   0   0\n",
            "    0   0   0   0   0   0   0   0   0   0]\n",
            " [  0   0   0   0   0   0   0   0   0   0   0   0   0   0   0   0   0   0\n",
            "    0   0   0   0   0   0   0   0   0   0]]\n",
            "9\n"
          ]
        }
      ]
    },
    {
      "cell_type": "code",
      "source": [
        "print(train_images.shape)\n",
        "print(train_labels.shape)\n",
        "print(test_images.shape)\n",
        "print(test_labels.shape)"
      ],
      "metadata": {
        "colab": {
          "base_uri": "https://localhost:8080/"
        },
        "id": "Ei4JT5vP0Upw",
        "outputId": "0ef0d40d-3fc9-4ee8-c900-58c215c0fbb7"
      },
      "execution_count": 3,
      "outputs": [
        {
          "output_type": "stream",
          "name": "stdout",
          "text": [
            "(60000, 28, 28)\n",
            "(60000,)\n",
            "(10000, 28, 28)\n",
            "(10000,)\n"
          ]
        }
      ]
    },
    {
      "cell_type": "code",
      "source": [
        "# 2. 데이터 전처리\n",
        "train_images, test_images = train_images / 255.0, test_images / 255.0"
      ],
      "metadata": {
        "id": "Vbjb1bw_0bdw"
      },
      "execution_count": 4,
      "outputs": []
    },
    {
      "cell_type": "code",
      "source": [
        "# 3. 모델 구성\n",
        "model = tf.keras.models.Sequential([\n",
        "    tf.keras.layers.Flatten(input_shape=(28, 28)),\n",
        "    tf.keras.layers.Dense(512, activation='relu'),\n",
        "    tf.keras.layers.Dense(10, activation='softmax')\n",
        "])"
      ],
      "metadata": {
        "id": "tViEW9NI0eH_"
      },
      "execution_count": 5,
      "outputs": []
    },
    {
      "cell_type": "markdown",
      "source": [
        "![image.png](data:image/png;base64,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)"
      ],
      "metadata": {
        "id": "O0x-xhy20jeP"
      }
    },
    {
      "cell_type": "code",
      "source": [
        "# 4. 모델 컴파일\n",
        "model.compile(optimizer='adam',\n",
        "              loss='sparse_categorical_crossentropy',\n",
        "              metrics=['accuracy'])"
      ],
      "metadata": {
        "id": "9dK2PA7p0pwP"
      },
      "execution_count": 6,
      "outputs": []
    },
    {
      "cell_type": "code",
      "source": [
        "# 5. 모델 훈련\n",
        "model.fit(train_images, train_labels, epochs=5)"
      ],
      "metadata": {
        "colab": {
          "base_uri": "https://localhost:8080/"
        },
        "id": "SBvrs-gY0ypG",
        "outputId": "7aa793ca-d337-4c03-fe8f-0e52211d1667"
      },
      "execution_count": 7,
      "outputs": [
        {
          "output_type": "stream",
          "name": "stdout",
          "text": [
            "Epoch 1/5\n",
            "1875/1875 [==============================] - 11s 6ms/step - loss: 0.4735 - accuracy: 0.8304\n",
            "Epoch 2/5\n",
            "1875/1875 [==============================] - 11s 6ms/step - loss: 0.3592 - accuracy: 0.8688\n",
            "Epoch 3/5\n",
            "1875/1875 [==============================] - 11s 6ms/step - loss: 0.3231 - accuracy: 0.8801\n",
            "Epoch 4/5\n",
            "1875/1875 [==============================] - 11s 6ms/step - loss: 0.2984 - accuracy: 0.8890\n",
            "Epoch 5/5\n",
            "1875/1875 [==============================] - 10s 6ms/step - loss: 0.2832 - accuracy: 0.8944\n"
          ]
        },
        {
          "output_type": "execute_result",
          "data": {
            "text/plain": [
              "<keras.callbacks.History at 0x7f1d5f38ef10>"
            ]
          },
          "metadata": {},
          "execution_count": 7
        }
      ]
    },
    {
      "cell_type": "code",
      "source": [
        "# 6. 정확도 평가하기\n",
        "loss, accuracy = model.evaluate(test_images, test_labels)\n",
        "print(loss, accuracy)"
      ],
      "metadata": {
        "colab": {
          "base_uri": "https://localhost:8080/"
        },
        "id": "xVOo79Ij01t-",
        "outputId": "f8158020-9085-4496-d8c9-d75034025dc9"
      },
      "execution_count": 8,
      "outputs": [
        {
          "output_type": "stream",
          "name": "stdout",
          "text": [
            "313/313 [==============================] - 1s 3ms/step - loss: 0.3540 - accuracy: 0.8752\n",
            "0.35395386815071106 0.8751999735832214\n"
          ]
        }
      ]
    },
    {
      "cell_type": "code",
      "source": [
        "# 7. 예측하기\n",
        "predictions = model.predict(test_images)\n",
        "print(predictions[0])\n",
        "print(np.argmax(predictions[0]))"
      ],
      "metadata": {
        "colab": {
          "base_uri": "https://localhost:8080/"
        },
        "id": "-y5SN4om04me",
        "outputId": "9e410ffb-1b4b-4a24-efcc-2cf0bd6c107d"
      },
      "execution_count": 11,
      "outputs": [
        {
          "output_type": "stream",
          "name": "stdout",
          "text": [
            "[0. 0. 0. 0. 0. 0. 0. 0. 0. 1.]\n",
            "9\n"
          ]
        }
      ]
    }
  ]
}